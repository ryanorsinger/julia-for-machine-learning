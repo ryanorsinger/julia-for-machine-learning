{
 "cells": [
  {
   "cell_type": "markdown",
   "metadata": {},
   "source": [
    "# Chapter 5 of Julia for Machine Learning"
   ]
  },
  {
   "cell_type": "code",
   "execution_count": 5,
   "metadata": {},
   "outputs": [],
   "source": [
    "using CSV, DataFrames, Clustering, DecisionTree, GLM, XGBoost\n",
    "using StatsBase, Distributions, HypothesisTests, MultivariateStats\n",
    "using Distances, MLLabelUtils, MLBase\n",
    "using TSne, Gadfly\n",
    "using ScikitLearn.CrossValidation: cross_val_score\n",
    "using Random"
   ]
  },
  {
   "cell_type": "code",
   "execution_count": 20,
   "metadata": {},
   "outputs": [
    {
     "data": {
      "text/html": [
       "<table class=\"data-frame\"><thead><tr><th></th><th>Column1</th><th>Column2</th><th>Column3</th><th>Column4</th><th>Column5</th><th>Column6</th><th>Column7</th><th>Column8</th></tr><tr><th></th><th>Int64</th><th>Int64</th><th>Int64</th><th>Int64</th><th>Int64</th><th>Int64</th><th>Int64</th><th>Int64</th></tr></thead><tbody><p>4 rows × 8 columns</p><tr><th>1</th><td>-64</td><td>-56</td><td>-61</td><td>-66</td><td>-71</td><td>-82</td><td>-81</td><td>1</td></tr><tr><th>2</th><td>-68</td><td>-57</td><td>-61</td><td>-65</td><td>-71</td><td>-85</td><td>-85</td><td>1</td></tr><tr><th>3</th><td>-63</td><td>-60</td><td>-60</td><td>-67</td><td>-76</td><td>-85</td><td>-84</td><td>1</td></tr><tr><th>4</th><td>-61</td><td>-60</td><td>-68</td><td>-62</td><td>-77</td><td>-90</td><td>-80</td><td>1</td></tr></tbody></table>"
      ],
      "text/latex": [
       "\\begin{tabular}{r|cccccccc}\n",
       "\t& Column1 & Column2 & Column3 & Column4 & Column5 & Column6 & Column7 & Column8\\\\\n",
       "\t\\hline\n",
       "\t& Int64 & Int64 & Int64 & Int64 & Int64 & Int64 & Int64 & Int64\\\\\n",
       "\t\\hline\n",
       "\t1 & -64 & -56 & -61 & -66 & -71 & -82 & -81 & 1 \\\\\n",
       "\t2 & -68 & -57 & -61 & -65 & -71 & -85 & -85 & 1 \\\\\n",
       "\t3 & -63 & -60 & -60 & -67 & -76 & -85 & -84 & 1 \\\\\n",
       "\t4 & -61 & -60 & -68 & -62 & -77 & -90 & -80 & 1 \\\\\n",
       "\\end{tabular}\n"
      ],
      "text/plain": [
       "4×8 DataFrame. Omitted printing of 1 columns\n",
       "│ Row │ Column1 │ Column2 │ Column3 │ Column4 │ Column5 │ Column6 │ Column7 │\n",
       "│     │ \u001b[90mInt64\u001b[39m   │ \u001b[90mInt64\u001b[39m   │ \u001b[90mInt64\u001b[39m   │ \u001b[90mInt64\u001b[39m   │ \u001b[90mInt64\u001b[39m   │ \u001b[90mInt64\u001b[39m   │ \u001b[90mInt64\u001b[39m   │\n",
       "├─────┼─────────┼─────────┼─────────┼─────────┼─────────┼─────────┼─────────┤\n",
       "│ 1   │ -64     │ -56     │ -61     │ -66     │ -71     │ -82     │ -81     │\n",
       "│ 2   │ -68     │ -57     │ -61     │ -65     │ -71     │ -85     │ -85     │\n",
       "│ 3   │ -63     │ -60     │ -60     │ -67     │ -76     │ -85     │ -84     │\n",
       "│ 4   │ -61     │ -60     │ -68     │ -62     │ -77     │ -90     │ -80     │"
      ]
     },
     "execution_count": 20,
     "metadata": {},
     "output_type": "execute_result"
    }
   ],
   "source": [
    "# Dataset is WiFI data\n",
    "df = CSV.read(\"localization.csv\", header=false)\n",
    "\n",
    "# Show 4 rows, all columns\n",
    "df[1:4, 1:end]"
   ]
  },
  {
   "cell_type": "code",
   "execution_count": 21,
   "metadata": {},
   "outputs": [
    {
     "data": {
      "text/plain": [
       "2000-element Array{Float64,1}:\n",
       " -3830.076403892874\n",
       " -3965.2180884436843\n",
       " -3939.8869787581857\n",
       " -3875.0521950907514\n",
       " -3900.0130214272585\n",
       " -3960.0524501791515\n",
       " -3979.9618163176488\n",
       " -3909.877879990196\n",
       " -3885.0159706940613\n",
       " -4100.076892982874\n",
       " -4070.0383869957386\n",
       " -3905.0575928379626\n",
       " -3904.9761602550916\n",
       "     ⋮\n",
       " -3814.9587355852414\n",
       " -3655.0249148548\n",
       " -3779.8978150118974\n",
       " -3720.048324591379\n",
       " -3969.8369667628403\n",
       " -4010.0494197155276\n",
       " -4000.183968429349\n",
       " -4125.085632528229\n",
       " -4019.946848662353\n",
       " -4024.9163175883937\n",
       " -3970.129805998784\n",
       " -3954.982839002469"
      ]
     },
     "execution_count": 21,
     "metadata": {},
     "output_type": "execute_result"
    }
   ],
   "source": [
    "df[:RegressionTarget] = Matrix(df[[1, 4, 6, 7]])*[5, 10, 15, 20] + 0.1*randn(2000)"
   ]
  },
  {
   "cell_type": "code",
   "execution_count": 23,
   "metadata": {},
   "outputs": [
    {
     "data": {
      "text/plain": [
       "2000×7 Array{Float64,2}:\n",
       " 0.478077   1.28936   0.782308   0.275256    -0.231795   -1.34731   -1.2459\n",
       " 0.207303   1.20495   0.84217    0.479389    -0.0647823  -1.33451   -1.33451\n",
       " 0.708444   0.98395   0.98395    0.341103    -0.485416   -1.31193   -1.2201\n",
       " 0.884579   0.971791  0.274095   0.797367    -0.510813   -1.64457   -0.772449\n",
       " 0.739762   0.551459  1.02222    0.739762    -0.578359   -0.954965  -1.51987\n",
       " 0.563639   1.31916   0.647586   0.395747    -0.443716   -1.45107   -1.03134\n",
       " 0.605834   1.00033   0.605834   0.408586     0.211337   -1.5639    -1.26802\n",
       " 0.823905   0.643676  1.09425    0.373332    -0.347585   -1.51908   -1.0685\n",
       " 0.465976   0.919009  1.00962    0.647189    -0.530695   -1.43676   -1.07433\n",
       " 0.918708   1.08152   0.59309    0.430281    -0.546573   -1.035     -1.44202\n",
       " 0.489995   1.01768   0.929733   0.489995    -0.389483   -0.917169  -1.62075\n",
       " 0.50721    1.09895   0.901707   0.309962    -0.183159   -1.5639    -1.07078\n",
       " 0.598345   1.14466   0.78045    0.41624     -0.31218    -1.31376   -1.31376\n",
       " ⋮                                                        ⋮         \n",
       " 0.352411   0.482247  0.806836   0.352411     0.871754   -1.40037   -1.46529\n",
       " 0.424393   0.502571  0.580749   0.0335047    1.20617    -1.37369   -1.37369\n",
       " 0.268086   0.462217  0.785769   0.00924434   1.17403    -1.15554   -1.54381\n",
       " 0.0831825  0.471368  0.988948   0.212578     0.988948   -1.34016   -1.40486\n",
       " 0.455231   0.516512  0.700355   0.148825     1.00676    -1.3832    -1.44448\n",
       " 0.138531   0.62339   0.926427   0.138531     0.926427   -1.55848   -1.19483\n",
       " 0.17398    0.579934  0.753914   0.0579934    1.15987    -1.33385   -1.39184\n",
       " 0.39736    0.39736   1.02178    0.0          0.908251   -1.13531   -1.58944\n",
       " 0.315023   0.489115  0.837298   0.140931     1.01139    -1.30983   -1.48392\n",
       " 0.147736   0.320095  1.06698   -0.0246227    1.12444    -1.28859   -1.34604\n",
       " 0.122404   0.350891  0.693621   0.179526     1.32196    -1.47701   -1.1914\n",
       " 0.162858   0.65143   0.92286    0.108572     0.92286    -1.41143   -1.35715"
      ]
     },
     "execution_count": 23,
     "metadata": {},
     "output_type": "execute_result"
    }
   ],
   "source": [
    "# Standardize/scale the dataset\n",
    "X = StatsBase.standardize(ZScoreTransform,map(Float64, Matrix(df[1:7])), dims=2)"
   ]
  },
  {
   "cell_type": "code",
   "execution_count": 24,
   "metadata": {},
   "outputs": [
    {
     "data": {
      "text/plain": [
       "9-element Array{String,1}:\n",
       " \"WiFi1\"\n",
       " \"WiFi2\"\n",
       " \"WiFi3\"\n",
       " \"WiFi4\"\n",
       " \"WiFi5\"\n",
       " \"WiFi6\"\n",
       " \"WiFi7\"\n",
       " \"Room\"\n",
       " \"RegressionTarget\""
      ]
     },
     "execution_count": 24,
     "metadata": {},
     "output_type": "execute_result"
    }
   ],
   "source": [
    "# Rename the columns\n",
    "old_names = names(df)\n",
    "new_names = map(Symbol, [\"WiFi1\", \"WiFi2\", \"WiFi3\", \"WiFi4\", \"WiFi5\", \"WiFi6\", \"WiFi7\", \"Room\"])\n",
    "for i = 1:8\n",
    "    rename!(df, old_names[i] => new_names[i])\n",
    "end\n",
    "names(df)"
   ]
  },
  {
   "cell_type": "code",
   "execution_count": 25,
   "metadata": {},
   "outputs": [
    {
     "data": {
      "text/html": [
       "<table class=\"data-frame\"><thead><tr><th></th><th>WiFi1</th><th>WiFi2</th><th>WiFi3</th><th>WiFi4</th><th>WiFi5</th><th>WiFi6</th><th>WiFi7</th><th>Room</th><th>RegressionTarget</th></tr><tr><th></th><th>Int64</th><th>Int64</th><th>Int64</th><th>Int64</th><th>Int64</th><th>Int64</th><th>Int64</th><th>Int64</th><th>Float64</th></tr></thead><tbody><p>5 rows × 9 columns</p><tr><th>1</th><td>-64</td><td>-56</td><td>-61</td><td>-66</td><td>-71</td><td>-82</td><td>-81</td><td>1</td><td>-3830.08</td></tr><tr><th>2</th><td>-68</td><td>-57</td><td>-61</td><td>-65</td><td>-71</td><td>-85</td><td>-85</td><td>1</td><td>-3965.22</td></tr><tr><th>3</th><td>-63</td><td>-60</td><td>-60</td><td>-67</td><td>-76</td><td>-85</td><td>-84</td><td>1</td><td>-3939.89</td></tr><tr><th>4</th><td>-61</td><td>-60</td><td>-68</td><td>-62</td><td>-77</td><td>-90</td><td>-80</td><td>1</td><td>-3875.05</td></tr><tr><th>5</th><td>-63</td><td>-65</td><td>-60</td><td>-63</td><td>-77</td><td>-81</td><td>-87</td><td>1</td><td>-3900.01</td></tr></tbody></table>"
      ],
      "text/latex": [
       "\\begin{tabular}{r|ccccccccc}\n",
       "\t& WiFi1 & WiFi2 & WiFi3 & WiFi4 & WiFi5 & WiFi6 & WiFi7 & Room & RegressionTarget\\\\\n",
       "\t\\hline\n",
       "\t& Int64 & Int64 & Int64 & Int64 & Int64 & Int64 & Int64 & Int64 & Float64\\\\\n",
       "\t\\hline\n",
       "\t1 & -64 & -56 & -61 & -66 & -71 & -82 & -81 & 1 & -3830.08 \\\\\n",
       "\t2 & -68 & -57 & -61 & -65 & -71 & -85 & -85 & 1 & -3965.22 \\\\\n",
       "\t3 & -63 & -60 & -60 & -67 & -76 & -85 & -84 & 1 & -3939.89 \\\\\n",
       "\t4 & -61 & -60 & -68 & -62 & -77 & -90 & -80 & 1 & -3875.05 \\\\\n",
       "\t5 & -63 & -65 & -60 & -63 & -77 & -81 & -87 & 1 & -3900.01 \\\\\n",
       "\\end{tabular}\n"
      ],
      "text/plain": [
       "5×9 DataFrame. Omitted printing of 1 columns\n",
       "│ Row │ WiFi1 │ WiFi2 │ WiFi3 │ WiFi4 │ WiFi5 │ WiFi6 │ WiFi7 │ Room  │\n",
       "│     │ \u001b[90mInt64\u001b[39m │ \u001b[90mInt64\u001b[39m │ \u001b[90mInt64\u001b[39m │ \u001b[90mInt64\u001b[39m │ \u001b[90mInt64\u001b[39m │ \u001b[90mInt64\u001b[39m │ \u001b[90mInt64\u001b[39m │ \u001b[90mInt64\u001b[39m │\n",
       "├─────┼───────┼───────┼───────┼───────┼───────┼───────┼───────┼───────┤\n",
       "│ 1   │ -64   │ -56   │ -61   │ -66   │ -71   │ -82   │ -81   │ 1     │\n",
       "│ 2   │ -68   │ -57   │ -61   │ -65   │ -71   │ -85   │ -85   │ 1     │\n",
       "│ 3   │ -63   │ -60   │ -60   │ -67   │ -76   │ -85   │ -84   │ 1     │\n",
       "│ 4   │ -61   │ -60   │ -68   │ -62   │ -77   │ -90   │ -80   │ 1     │\n",
       "│ 5   │ -63   │ -65   │ -60   │ -63   │ -77   │ -81   │ -87   │ 1     │"
      ]
     },
     "execution_count": 25,
     "metadata": {},
     "output_type": "execute_result"
    }
   ],
   "source": [
    "# first looks like .head\n",
    "first(df, 5)"
   ]
  },
  {
   "cell_type": "code",
   "execution_count": 36,
   "metadata": {},
   "outputs": [
    {
     "data": {
      "text/plain": [
       "\"./wifi_named.csv\""
      ]
     },
     "execution_count": 36,
     "metadata": {},
     "output_type": "execute_result"
    }
   ],
   "source": [
    "CSV.write(\"./wifi_named.csv\", df)"
   ]
  },
  {
   "cell_type": "code",
   "execution_count": 30,
   "metadata": {},
   "outputs": [
    {
     "data": {
      "text/plain": [
       "2000×7 Array{Float64,2}:\n",
       " 0.478077   1.28936   0.782308   0.275256    -0.231795   -1.34731   -1.2459\n",
       " 0.207303   1.20495   0.84217    0.479389    -0.0647823  -1.33451   -1.33451\n",
       " 0.708444   0.98395   0.98395    0.341103    -0.485416   -1.31193   -1.2201\n",
       " 0.884579   0.971791  0.274095   0.797367    -0.510813   -1.64457   -0.772449\n",
       " 0.739762   0.551459  1.02222    0.739762    -0.578359   -0.954965  -1.51987\n",
       " 0.563639   1.31916   0.647586   0.395747    -0.443716   -1.45107   -1.03134\n",
       " 0.605834   1.00033   0.605834   0.408586     0.211337   -1.5639    -1.26802\n",
       " 0.823905   0.643676  1.09425    0.373332    -0.347585   -1.51908   -1.0685\n",
       " 0.465976   0.919009  1.00962    0.647189    -0.530695   -1.43676   -1.07433\n",
       " 0.918708   1.08152   0.59309    0.430281    -0.546573   -1.035     -1.44202\n",
       " 0.489995   1.01768   0.929733   0.489995    -0.389483   -0.917169  -1.62075\n",
       " 0.50721    1.09895   0.901707   0.309962    -0.183159   -1.5639    -1.07078\n",
       " 0.598345   1.14466   0.78045    0.41624     -0.31218    -1.31376   -1.31376\n",
       " ⋮                                                        ⋮         \n",
       " 0.352411   0.482247  0.806836   0.352411     0.871754   -1.40037   -1.46529\n",
       " 0.424393   0.502571  0.580749   0.0335047    1.20617    -1.37369   -1.37369\n",
       " 0.268086   0.462217  0.785769   0.00924434   1.17403    -1.15554   -1.54381\n",
       " 0.0831825  0.471368  0.988948   0.212578     0.988948   -1.34016   -1.40486\n",
       " 0.455231   0.516512  0.700355   0.148825     1.00676    -1.3832    -1.44448\n",
       " 0.138531   0.62339   0.926427   0.138531     0.926427   -1.55848   -1.19483\n",
       " 0.17398    0.579934  0.753914   0.0579934    1.15987    -1.33385   -1.39184\n",
       " 0.39736    0.39736   1.02178    0.0          0.908251   -1.13531   -1.58944\n",
       " 0.315023   0.489115  0.837298   0.140931     1.01139    -1.30983   -1.48392\n",
       " 0.147736   0.320095  1.06698   -0.0246227    1.12444    -1.28859   -1.34604\n",
       " 0.122404   0.350891  0.693621   0.179526     1.32196    -1.47701   -1.1914\n",
       " 0.162858   0.65143   0.92286    0.108572     0.92286    -1.41143   -1.35715"
      ]
     },
     "execution_count": 30,
     "metadata": {},
     "output_type": "execute_result"
    }
   ],
   "source": [
    "# Standardize/scale the dataset\n",
    "X = StatsBase.standardize(ZScoreTransform,map(Float64, Matrix(df[1:7])), dims=2)"
   ]
  },
  {
   "cell_type": "code",
   "execution_count": 35,
   "metadata": {},
   "outputs": [
    {
     "data": {
      "text/plain": [
       "2000×7 Array{Float64,2}:\n",
       " 0.478077   1.28936   0.782308   0.275256    -0.231795   -1.34731   -1.2459\n",
       " 0.207303   1.20495   0.84217    0.479389    -0.0647823  -1.33451   -1.33451\n",
       " 0.708444   0.98395   0.98395    0.341103    -0.485416   -1.31193   -1.2201\n",
       " 0.884579   0.971791  0.274095   0.797367    -0.510813   -1.64457   -0.772449\n",
       " 0.739762   0.551459  1.02222    0.739762    -0.578359   -0.954965  -1.51987\n",
       " 0.563639   1.31916   0.647586   0.395747    -0.443716   -1.45107   -1.03134\n",
       " 0.605834   1.00033   0.605834   0.408586     0.211337   -1.5639    -1.26802\n",
       " 0.823905   0.643676  1.09425    0.373332    -0.347585   -1.51908   -1.0685\n",
       " 0.465976   0.919009  1.00962    0.647189    -0.530695   -1.43676   -1.07433\n",
       " 0.918708   1.08152   0.59309    0.430281    -0.546573   -1.035     -1.44202\n",
       " 0.489995   1.01768   0.929733   0.489995    -0.389483   -0.917169  -1.62075\n",
       " 0.50721    1.09895   0.901707   0.309962    -0.183159   -1.5639    -1.07078\n",
       " 0.598345   1.14466   0.78045    0.41624     -0.31218    -1.31376   -1.31376\n",
       " ⋮                                                        ⋮         \n",
       " 0.352411   0.482247  0.806836   0.352411     0.871754   -1.40037   -1.46529\n",
       " 0.424393   0.502571  0.580749   0.0335047    1.20617    -1.37369   -1.37369\n",
       " 0.268086   0.462217  0.785769   0.00924434   1.17403    -1.15554   -1.54381\n",
       " 0.0831825  0.471368  0.988948   0.212578     0.988948   -1.34016   -1.40486\n",
       " 0.455231   0.516512  0.700355   0.148825     1.00676    -1.3832    -1.44448\n",
       " 0.138531   0.62339   0.926427   0.138531     0.926427   -1.55848   -1.19483\n",
       " 0.17398    0.579934  0.753914   0.0579934    1.15987    -1.33385   -1.39184\n",
       " 0.39736    0.39736   1.02178    0.0          0.908251   -1.13531   -1.58944\n",
       " 0.315023   0.489115  0.837298   0.140931     1.01139    -1.30983   -1.48392\n",
       " 0.147736   0.320095  1.06698   -0.0246227    1.12444    -1.28859   -1.34604\n",
       " 0.122404   0.350891  0.693621   0.179526     1.32196    -1.47701   -1.1914\n",
       " 0.162858   0.65143   0.92286    0.108572     0.92286    -1.41143   -1.35715"
      ]
     },
     "execution_count": 35,
     "metadata": {},
     "output_type": "execute_result"
    }
   ],
   "source": [
    "X"
   ]
  },
  {
   "cell_type": "code",
   "execution_count": 37,
   "metadata": {},
   "outputs": [
    {
     "data": {
      "text/html": [
       "<table class=\"data-frame\"><thead><tr><th></th><th>WiFi1</th><th>WiFi2</th><th>WiFi3</th><th>WiFi4</th><th>WiFi5</th><th>WiFi6</th><th>WiFi7</th><th>Room</th><th>RegressionTarget</th></tr><tr><th></th><th>Int64</th><th>Int64</th><th>Int64</th><th>Int64</th><th>Int64</th><th>Int64</th><th>Int64</th><th>Int64</th><th>Float64</th></tr></thead><tbody><p>3 rows × 9 columns</p><tr><th>1</th><td>-64</td><td>-56</td><td>-61</td><td>-66</td><td>-71</td><td>-82</td><td>-81</td><td>1</td><td>-3830.08</td></tr><tr><th>2</th><td>-68</td><td>-57</td><td>-61</td><td>-65</td><td>-71</td><td>-85</td><td>-85</td><td>1</td><td>-3965.22</td></tr><tr><th>3</th><td>-63</td><td>-60</td><td>-60</td><td>-67</td><td>-76</td><td>-85</td><td>-84</td><td>1</td><td>-3939.89</td></tr></tbody></table>"
      ],
      "text/latex": [
       "\\begin{tabular}{r|ccccccccc}\n",
       "\t& WiFi1 & WiFi2 & WiFi3 & WiFi4 & WiFi5 & WiFi6 & WiFi7 & Room & RegressionTarget\\\\\n",
       "\t\\hline\n",
       "\t& Int64 & Int64 & Int64 & Int64 & Int64 & Int64 & Int64 & Int64 & Float64\\\\\n",
       "\t\\hline\n",
       "\t1 & -64 & -56 & -61 & -66 & -71 & -82 & -81 & 1 & -3830.08 \\\\\n",
       "\t2 & -68 & -57 & -61 & -65 & -71 & -85 & -85 & 1 & -3965.22 \\\\\n",
       "\t3 & -63 & -60 & -60 & -67 & -76 & -85 & -84 & 1 & -3939.89 \\\\\n",
       "\\end{tabular}\n"
      ],
      "text/plain": [
       "3×9 DataFrame. Omitted printing of 1 columns\n",
       "│ Row │ WiFi1 │ WiFi2 │ WiFi3 │ WiFi4 │ WiFi5 │ WiFi6 │ WiFi7 │ Room  │\n",
       "│     │ \u001b[90mInt64\u001b[39m │ \u001b[90mInt64\u001b[39m │ \u001b[90mInt64\u001b[39m │ \u001b[90mInt64\u001b[39m │ \u001b[90mInt64\u001b[39m │ \u001b[90mInt64\u001b[39m │ \u001b[90mInt64\u001b[39m │ \u001b[90mInt64\u001b[39m │\n",
       "├─────┼───────┼───────┼───────┼───────┼───────┼───────┼───────┼───────┤\n",
       "│ 1   │ -64   │ -56   │ -61   │ -66   │ -71   │ -82   │ -81   │ 1     │\n",
       "│ 2   │ -68   │ -57   │ -61   │ -65   │ -71   │ -85   │ -85   │ 1     │\n",
       "│ 3   │ -63   │ -60   │ -60   │ -67   │ -76   │ -85   │ -84   │ 1     │"
      ]
     },
     "execution_count": 37,
     "metadata": {},
     "output_type": "execute_result"
    }
   ],
   "source": [
    "df = CSV.read(\"wifi_named.csv\", header=true)\n",
    "\n",
    "first(df, 3)"
   ]
  },
  {
   "cell_type": "code",
   "execution_count": 38,
   "metadata": {},
   "outputs": [
    {
     "data": {
      "text/plain": [
       "3×7 Array{Float64,2}:\n",
       " 0.478077  1.28936  0.782308  0.275256  -0.231795   -1.34731  -1.2459\n",
       " 0.207303  1.20495  0.84217   0.479389  -0.0647823  -1.33451  -1.33451\n",
       " 0.708444  0.98395  0.98395   0.341103  -0.485416   -1.31193  -1.2201"
      ]
     },
     "execution_count": 38,
     "metadata": {},
     "output_type": "execute_result"
    }
   ],
   "source": [
    "# Standardize/scale the 7 signal features\n",
    "X = StatsBase.standardize(ZScoreTransform,map(Float64, Matrix(df[1:7])), dims=2)\n",
    "\n",
    "# Show first 5 rows of all columns of X\n",
    "X[1:3, 1:end]"
   ]
  },
  {
   "cell_type": "code",
   "execution_count": 39,
   "metadata": {},
   "outputs": [
    {
     "data": {
      "text/plain": [
       "3×7 Array{Float64,2}:\n",
       " -64.0  -56.0  -61.0  -66.0  -71.0  -82.0  -81.0\n",
       " -68.0  -57.0  -61.0  -65.0  -71.0  -85.0  -85.0\n",
       " -63.0  -60.0  -60.0  -67.0  -76.0  -85.0  -84.0"
      ]
     },
     "execution_count": 39,
     "metadata": {},
     "output_type": "execute_result"
    }
   ],
   "source": [
    "XX = map(Float64, Matrix(df[1:7]))\n",
    "XX[1:3, 1:end]"
   ]
  },
  {
   "cell_type": "code",
   "execution_count": 40,
   "metadata": {},
   "outputs": [
    {
     "data": {
      "text/plain": [
       "3×7 Array{Float64,2}:\n",
       " 0.478077  1.28936  0.782308  0.275256  -0.231795   -1.34731  -1.2459\n",
       " 0.207303  1.20495  0.84217   0.479389  -0.0647823  -1.33451  -1.33451\n",
       " 0.708444  0.98395  0.98395   0.341103  -0.485416   -1.31193  -1.2201"
      ]
     },
     "execution_count": 40,
     "metadata": {},
     "output_type": "execute_result"
    }
   ],
   "source": [
    "X = StatsBase.standardize(ZScoreTransform, XX, dims=2)\n",
    "X[1:3, 1:end]"
   ]
  },
  {
   "cell_type": "code",
   "execution_count": 41,
   "metadata": {},
   "outputs": [],
   "source": [
    "# So XX is the un-scaled data as floats\n",
    "# And X is the standardized data"
   ]
  },
  {
   "cell_type": "code",
   "execution_count": 42,
   "metadata": {},
   "outputs": [
    {
     "data": {
      "text/html": [
       "<table class=\"data-frame\"><thead><tr><th></th><th>x1</th><th>x2</th><th>x3</th><th>x4</th><th>x5</th><th>x6</th><th>x7</th><th>x8</th></tr><tr><th></th><th>Float64</th><th>Float64</th><th>Float64</th><th>Float64</th><th>Float64</th><th>Float64</th><th>Float64</th><th>Float64</th></tr></thead><tbody><p>3 rows × 8 columns</p><tr><th>1</th><td>0.478077</td><td>1.28936</td><td>0.782308</td><td>0.275256</td><td>-0.231795</td><td>-1.34731</td><td>-1.2459</td><td>1.0</td></tr><tr><th>2</th><td>0.207303</td><td>1.20495</td><td>0.84217</td><td>0.479389</td><td>-0.0647823</td><td>-1.33451</td><td>-1.33451</td><td>1.0</td></tr><tr><th>3</th><td>0.708444</td><td>0.98395</td><td>0.98395</td><td>0.341103</td><td>-0.485416</td><td>-1.31193</td><td>-1.2201</td><td>1.0</td></tr></tbody></table>"
      ],
      "text/latex": [
       "\\begin{tabular}{r|cccccccc}\n",
       "\t& x1 & x2 & x3 & x4 & x5 & x6 & x7 & x8\\\\\n",
       "\t\\hline\n",
       "\t& Float64 & Float64 & Float64 & Float64 & Float64 & Float64 & Float64 & Float64\\\\\n",
       "\t\\hline\n",
       "\t1 & 0.478077 & 1.28936 & 0.782308 & 0.275256 & -0.231795 & -1.34731 & -1.2459 & 1.0 \\\\\n",
       "\t2 & 0.207303 & 1.20495 & 0.84217 & 0.479389 & -0.0647823 & -1.33451 & -1.33451 & 1.0 \\\\\n",
       "\t3 & 0.708444 & 0.98395 & 0.98395 & 0.341103 & -0.485416 & -1.31193 & -1.2201 & 1.0 \\\\\n",
       "\\end{tabular}\n"
      ],
      "text/plain": [
       "3×8 DataFrame. Omitted printing of 2 columns\n",
       "│ Row │ x1       │ x2      │ x3       │ x4       │ x5         │ x6       │\n",
       "│     │ \u001b[90mFloat64\u001b[39m  │ \u001b[90mFloat64\u001b[39m │ \u001b[90mFloat64\u001b[39m  │ \u001b[90mFloat64\u001b[39m  │ \u001b[90mFloat64\u001b[39m    │ \u001b[90mFloat64\u001b[39m  │\n",
       "├─────┼──────────┼─────────┼──────────┼──────────┼────────────┼──────────┤\n",
       "│ 1   │ 0.478077 │ 1.28936 │ 0.782308 │ 0.275256 │ -0.231795  │ -1.34731 │\n",
       "│ 2   │ 0.207303 │ 1.20495 │ 0.84217  │ 0.479389 │ -0.0647823 │ -1.33451 │\n",
       "│ 3   │ 0.708444 │ 0.98395 │ 0.98395  │ 0.341103 │ -0.485416  │ -1.31193 │"
      ]
     },
     "execution_count": 42,
     "metadata": {},
     "output_type": "execute_result"
    }
   ],
   "source": [
    "df2 = DataFrame(hcat(X, df[:Room]))\n",
    "first(df2, 3)"
   ]
  },
  {
   "cell_type": "code",
   "execution_count": 43,
   "metadata": {},
   "outputs": [
    {
     "data": {
      "text/plain": [
       "8-element Array{String,1}:\n",
       " \"WiFi1\"\n",
       " \"WiFi2\"\n",
       " \"WiFi3\"\n",
       " \"WiFi4\"\n",
       " \"WiFi5\"\n",
       " \"WiFi6\"\n",
       " \"WiFi7\"\n",
       " \"Room\""
      ]
     },
     "execution_count": 43,
     "metadata": {},
     "output_type": "execute_result"
    }
   ],
   "source": [
    "# Rename the columns\n",
    "old_names = names(df2)\n",
    "new_names = map(Symbol, [\"WiFi1\", \"WiFi2\", \"WiFi3\", \"WiFi4\", \"WiFi5\", \"WiFi6\", \"WiFi7\", \"Room\"])\n",
    "for i = 1:8\n",
    "    rename!(df2, old_names[i] => new_names[i])\n",
    "end\n",
    "names(df2)"
   ]
  },
  {
   "cell_type": "code",
   "execution_count": null,
   "metadata": {},
   "outputs": [],
   "source": [
    "CSV.write(\"./wifi_standardized.csv\", df2)"
   ]
  }
 ],
 "metadata": {
  "kernelspec": {
   "display_name": "Julia 1.5.1",
   "language": "julia",
   "name": "julia-1.5"
  },
  "language_info": {
   "file_extension": ".jl",
   "mimetype": "application/julia",
   "name": "julia",
   "version": "1.5.1"
  }
 },
 "nbformat": 4,
 "nbformat_minor": 4
}
