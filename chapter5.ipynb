{
 "cells": [
  {
   "cell_type": "code",
   "execution_count": 1,
   "metadata": {},
   "outputs": [],
   "source": [
    "using CSV, DataFrames, Clustering, DecisionTree, GLM, XGBoost\n",
    "using StatsBase, Distributions, HypothesisTests, MultivariateStats\n",
    "using Distances, MLLabelUtils, MLBase\n",
    "using TSne, Gadfly\n",
    "using ScikitLearn.CrossValidation: cross_val_score\n",
    "using Random"
   ]
  },
  {
   "cell_type": "code",
   "execution_count": 2,
   "metadata": {},
   "outputs": [
    {
     "data": {
      "text/html": [
       "<table class=\"data-frame\"><thead><tr><th></th><th>WiFi1</th><th>WiFi2</th><th>WiFi3</th><th>WiFi4</th><th>WiFi5</th><th>WiFi6</th><th>WiFi7</th><th>Room</th></tr><tr><th></th><th>Float64</th><th>Float64</th><th>Float64</th><th>Float64</th><th>Float64</th><th>Float64</th><th>Float64</th><th>Float64</th></tr></thead><tbody><p>3 rows × 8 columns</p><tr><th>1</th><td>0.478077</td><td>1.28936</td><td>0.782308</td><td>0.275256</td><td>-0.231795</td><td>-1.34731</td><td>-1.2459</td><td>1.0</td></tr><tr><th>2</th><td>0.207303</td><td>1.20495</td><td>0.84217</td><td>0.479389</td><td>-0.0647823</td><td>-1.33451</td><td>-1.33451</td><td>1.0</td></tr><tr><th>3</th><td>0.708444</td><td>0.98395</td><td>0.98395</td><td>0.341103</td><td>-0.485416</td><td>-1.31193</td><td>-1.2201</td><td>1.0</td></tr></tbody></table>"
      ],
      "text/latex": [
       "\\begin{tabular}{r|cccccccc}\n",
       "\t& WiFi1 & WiFi2 & WiFi3 & WiFi4 & WiFi5 & WiFi6 & WiFi7 & Room\\\\\n",
       "\t\\hline\n",
       "\t& Float64 & Float64 & Float64 & Float64 & Float64 & Float64 & Float64 & Float64\\\\\n",
       "\t\\hline\n",
       "\t1 & 0.478077 & 1.28936 & 0.782308 & 0.275256 & -0.231795 & -1.34731 & -1.2459 & 1.0 \\\\\n",
       "\t2 & 0.207303 & 1.20495 & 0.84217 & 0.479389 & -0.0647823 & -1.33451 & -1.33451 & 1.0 \\\\\n",
       "\t3 & 0.708444 & 0.98395 & 0.98395 & 0.341103 & -0.485416 & -1.31193 & -1.2201 & 1.0 \\\\\n",
       "\\end{tabular}\n"
      ],
      "text/plain": [
       "3×8 DataFrame. Omitted printing of 2 columns\n",
       "│ Row │ WiFi1    │ WiFi2   │ WiFi3    │ WiFi4    │ WiFi5      │ WiFi6    │\n",
       "│     │ \u001b[90mFloat64\u001b[39m  │ \u001b[90mFloat64\u001b[39m │ \u001b[90mFloat64\u001b[39m  │ \u001b[90mFloat64\u001b[39m  │ \u001b[90mFloat64\u001b[39m    │ \u001b[90mFloat64\u001b[39m  │\n",
       "├─────┼──────────┼─────────┼──────────┼──────────┼────────────┼──────────┤\n",
       "│ 1   │ 0.478077 │ 1.28936 │ 0.782308 │ 0.275256 │ -0.231795  │ -1.34731 │\n",
       "│ 2   │ 0.207303 │ 1.20495 │ 0.84217  │ 0.479389 │ -0.0647823 │ -1.33451 │\n",
       "│ 3   │ 0.708444 │ 0.98395 │ 0.98395  │ 0.341103 │ -0.485416  │ -1.31193 │"
      ]
     },
     "execution_count": 2,
     "metadata": {},
     "output_type": "execute_result"
    }
   ],
   "source": [
    "# Renamed but unscaled\n",
    "df = df = CSV.read(\"wifi_named.csv\", header=true)\n",
    "\n",
    "# Standardized signal features\n",
    "df2 = CSV.read(\"wifi_standardized.csv\", header=true)\n",
    "\n",
    "first(df2, 3)"
   ]
  },
  {
   "cell_type": "code",
   "execution_count": 3,
   "metadata": {},
   "outputs": [
    {
     "data": {
      "text/plain": [
       "3×7 Array{Float64,2}:\n",
       " 0.478077  1.28936  0.782308  0.275256  -0.231795   -1.34731  -1.2459\n",
       " 0.207303  1.20495  0.84217   0.479389  -0.0647823  -1.33451  -1.33451\n",
       " 0.708444  0.98395  0.98395   0.341103  -0.485416   -1.31193  -1.2201"
      ]
     },
     "execution_count": 3,
     "metadata": {},
     "output_type": "execute_result"
    }
   ],
   "source": [
    "# Drop the Room column on both feature matrixes\n",
    "# X is standardized, XX isn't\n",
    "X = Matrix(df2[1:7])\n",
    "\n",
    "# Show first 3 rows, all columns\n",
    "X[1:3, 1:end]"
   ]
  },
  {
   "cell_type": "markdown",
   "metadata": {},
   "source": [
    "## Working with Clustering"
   ]
  },
  {
   "cell_type": "code",
   "execution_count": 4,
   "metadata": {},
   "outputs": [
    {
     "data": {
      "text/plain": [
       "4"
      ]
     },
     "execution_count": 4,
     "metadata": {},
     "output_type": "execute_result"
    }
   ],
   "source": [
    "# Number of clusters\n",
    "nc = 4"
   ]
  },
  {
   "cell_type": "code",
   "execution_count": 5,
   "metadata": {},
   "outputs": [
    {
     "data": {
      "text/plain": [
       "(2000, 7)"
      ]
     },
     "execution_count": 5,
     "metadata": {},
     "output_type": "execute_result"
    }
   ],
   "source": [
    "n, m = size(X)"
   ]
  },
  {
   "cell_type": "code",
   "execution_count": 6,
   "metadata": {},
   "outputs": [
    {
     "data": {
      "text/plain": [
       "7×2000 LinearAlgebra.Adjoint{Float64,Array{Float64,2}}:\n",
       "  0.478077   0.207303    0.708444  …   0.147736    0.122404   0.162858\n",
       "  1.28936    1.20495     0.98395       0.320095    0.350891   0.65143\n",
       "  0.782308   0.84217     0.98395       1.06698     0.693621   0.92286\n",
       "  0.275256   0.479389    0.341103     -0.0246227   0.179526   0.108572\n",
       " -0.231795  -0.0647823  -0.485416      1.12444     1.32196    0.92286\n",
       " -1.34731   -1.33451    -1.31193   …  -1.28859    -1.47701   -1.41143\n",
       " -1.2459    -1.33451    -1.2201       -1.34604    -1.1914    -1.35715"
      ]
     },
     "execution_count": 6,
     "metadata": {},
     "output_type": "execute_result"
    }
   ],
   "source": [
    "# author uses a for loop to transpose... then suggests using collect(adjoint(X))\n",
    "# But transpose == transpose, so here we go!\n",
    "XX = X'"
   ]
  },
  {
   "cell_type": "code",
   "execution_count": 7,
   "metadata": {},
   "outputs": [
    {
     "name": "stdout",
     "output_type": "stream",
     "text": [
      "  Iters               objv        objv-change | affected \n",
      "-------------------------------------------------------------\n",
      "      0       1.033036e+03\n",
      "      1       7.260650e+02      -3.069706e+02 |        4\n",
      "      2       6.892326e+02      -3.683241e+01 |        4\n",
      "      3       6.686576e+02      -2.057498e+01 |        4\n",
      "      4       6.603258e+02      -8.331856e+00 |        3\n",
      "      5       6.540551e+02      -6.270609e+00 |        4\n",
      "      6       6.459585e+02      -8.096635e+00 |        4\n",
      "      7       6.334727e+02      -1.248580e+01 |        3\n",
      "      8       6.177383e+02      -1.573442e+01 |        4\n",
      "      9       6.049416e+02      -1.279672e+01 |        3\n",
      "     10       5.980162e+02      -6.925389e+00 |        3\n",
      "     11       5.945986e+02      -3.417603e+00 |        3\n",
      "     12       5.932443e+02      -1.354311e+00 |        3\n",
      "     13       5.928592e+02      -3.850685e-01 |        2\n",
      "     14       5.927953e+02      -6.390851e-02 |        2\n",
      "     15       5.927892e+02      -6.089255e-03 |        2\n",
      "     16       5.927874e+02      -1.802885e-03 |        2\n",
      "     17       5.927826e+02      -4.767285e-03 |        3\n",
      "     18       5.927781e+02      -4.525659e-03 |        0\n",
      "     19       5.927781e+02       0.000000e+00 |        0\n",
      "K-means converged with 19 iterations (objv = 592.7781033135057)\n"
     ]
    },
    {
     "data": {
      "text/plain": [
       "KmeansResult{Array{Float64,2},Float64,Int64}([0.8785360993987652 0.2623841755338189 0.5483841750633662 1.2844768060034522; 0.48321398171164226 0.5655365389473564 1.0988254047396844 0.08442323225684432; … ; -1.3236721029448493 -1.386495460284453 -1.2638089599242694 -0.9773038436018847; -1.3825409023905642 -1.3837043727428167 -1.3627749945150314 -1.025863510588361], [3, 3, 3, 1, 1, 3, 3, 3, 3, 3  …  2, 2, 2, 2, 2, 2, 2, 2, 2, 2], [0.088633862154607, 0.1601696612760808, 0.25203935016864243, 1.0171113631908497, 0.572203507658541, 0.2914318671535341, 0.24941442003220615, 0.6164728059882485, 0.4496610048292329, 0.379079850816467  …  0.19383882421588616, 0.07195790384628076, 0.07367341979481523, 0.09405132904213431, 0.09713508747414501, 0.22053401659064775, 0.03677470319603415, 0.2264529096588035, 0.3006991987272265, 0.03198291753014715], [520, 501, 507, 472], [520, 501, 507, 472], 592.7781033135057, 19, true)"
      ]
     },
     "execution_count": 7,
     "metadata": {},
     "output_type": "execute_result"
    }
   ],
   "source": [
    "# KMeans\n",
    "R = kmeans(XX, nc; maxiter=200, display=:iter)"
   ]
  },
  {
   "cell_type": "code",
   "execution_count": 8,
   "metadata": {},
   "outputs": [],
   "source": [
    "# Assert the number of clusters in R matches the hyperparameter set earlier\n",
    "@assert nclusters(R) == nc"
   ]
  },
  {
   "cell_type": "code",
   "execution_count": 9,
   "metadata": {},
   "outputs": [
    {
     "data": {
      "text/plain": [
       "2000-element Array{Int64,1}:\n",
       " 3\n",
       " 3\n",
       " 3\n",
       " 1\n",
       " 1\n",
       " 3\n",
       " 3\n",
       " 3\n",
       " 3\n",
       " 3\n",
       " 3\n",
       " 3\n",
       " 3\n",
       " ⋮\n",
       " 2\n",
       " 2\n",
       " 2\n",
       " 2\n",
       " 2\n",
       " 2\n",
       " 2\n",
       " 2\n",
       " 2\n",
       " 2\n",
       " 2\n",
       " 2"
      ]
     },
     "execution_count": 9,
     "metadata": {},
     "output_type": "execute_result"
    }
   ],
   "source": [
    "# assigns labels of the various points\n",
    "a = assignments(R)"
   ]
  },
  {
   "cell_type": "code",
   "execution_count": 10,
   "metadata": {},
   "outputs": [
    {
     "data": {
      "text/plain": [
       "4-element Array{Int64,1}:\n",
       " 520\n",
       " 501\n",
       " 507\n",
       " 472"
      ]
     },
     "execution_count": 10,
     "metadata": {},
     "output_type": "execute_result"
    }
   ],
   "source": [
    "# Get the cluster sizes\n",
    "c = counts(R)"
   ]
  },
  {
   "cell_type": "code",
   "execution_count": 11,
   "metadata": {},
   "outputs": [
    {
     "data": {
      "text/plain": [
       "4×7 LinearAlgebra.Adjoint{Float64,Array{Float64,2}}:\n",
       " 0.878536  0.483214   0.63147    0.804992  -0.0919998  -1.32367   -1.38254\n",
       " 0.262384  0.565537   0.840882   0.189405   0.911992   -1.3865    -1.3837\n",
       " 0.548384  1.09883    0.722645   0.396962  -0.140233   -1.26381   -1.36277\n",
       " 1.28448   0.0844232  0.0933737  1.22007   -0.679172   -0.977304  -1.02586"
      ]
     },
     "execution_count": 11,
     "metadata": {},
     "output_type": "execute_result"
    }
   ],
   "source": [
    "# cluster centers (centroids), transposed for easier viewing\n",
    "M = (R.centers)'"
   ]
  },
  {
   "cell_type": "markdown",
   "metadata": {},
   "source": [
    "## Let's do fuzzy clustering with c-means!"
   ]
  },
  {
   "cell_type": "code",
   "execution_count": 12,
   "metadata": {},
   "outputs": [
    {
     "name": "stdout",
     "output_type": "stream",
     "text": [
      "  Iters      center-change\n",
      "----------------------------\n",
      "      1       2.201946e+00\n",
      "      2       2.561988e-02\n",
      "      3       2.944813e-02\n",
      "      4       5.908007e-02\n",
      "      5       1.141509e-01\n",
      "      6       1.949047e-01\n",
      "      7       2.532990e-01\n",
      "      8       2.784805e-01\n",
      "      9       2.617060e-01\n",
      "     10       1.631835e-01\n",
      "     11       8.466587e-02\n",
      "     12       5.444228e-02\n",
      "     13       3.024034e-02\n",
      "     14       1.559566e-02\n",
      "     15       7.840185e-03\n",
      "     16       3.938820e-03\n",
      "     17       1.999974e-03\n",
      "     18       1.031348e-03\n",
      "     19       5.521637e-04\n",
      "Fuzzy C-means converged with 19 iterations (δ = 0.0005521637326594053)\n"
     ]
    },
    {
     "data": {
      "text/plain": [
       "FuzzyCMeansResult: 4 clusters for 2000 points in 7 dimensions (converged in 19 iterations)"
      ]
     },
     "execution_count": 12,
     "metadata": {},
     "output_type": "execute_result"
    }
   ],
   "source": [
    "R2 = fuzzy_cmeans(XX, nc, 2, maxiter=200, display=:iter)"
   ]
  },
  {
   "cell_type": "code",
   "execution_count": 13,
   "metadata": {},
   "outputs": [
    {
     "data": {
      "text/plain": [
       "4×7 LinearAlgebra.Adjoint{Float64,Array{Float64,2}}:\n",
       " 1.28729   0.0769113  0.0845439  1.22369   -0.675118  -0.974145  -1.02317\n",
       " 0.860147  0.517096   0.616297   0.799772  -0.12052   -1.31016   -1.36263\n",
       " 0.269136  0.56732    0.836382   0.194916   0.897285  -1.38372   -1.38132\n",
       " 0.583833  1.02733    0.713257   0.439721  -0.122957  -1.26457   -1.37661"
      ]
     },
     "execution_count": 13,
     "metadata": {},
     "output_type": "execute_result"
    }
   ],
   "source": [
    "M2 = (R2.centers)'"
   ]
  },
  {
   "cell_type": "code",
   "execution_count": 14,
   "metadata": {},
   "outputs": [
    {
     "data": {
      "text/plain": [
       "2000×4 Array{Float64,2}:\n",
       " 0.0301681   0.109615   0.0629017  0.797315\n",
       " 0.0350393   0.138041   0.102691   0.724229\n",
       " 0.0569345   0.225785   0.0710142  0.646266\n",
       " 0.2037      0.373949   0.0961748  0.326176\n",
       " 0.131256    0.456725   0.084777   0.327242\n",
       " 0.0673973   0.19992    0.0851061  0.647577\n",
       " 0.0393886   0.213873   0.148296   0.598443\n",
       " 0.0873056   0.38468    0.112812   0.415202\n",
       " 0.0824746   0.303952   0.0914642  0.522109\n",
       " 0.0916261   0.282622   0.0678266  0.557925\n",
       " 0.0607165   0.223058   0.0856931  0.630532\n",
       " 0.0449483   0.179598   0.101907   0.673547\n",
       " 0.0173965   0.0793787  0.027275   0.87595\n",
       " ⋮                                 \n",
       " 0.00873561  0.0296625  0.929453   0.0321493\n",
       " 0.0276753   0.0697687  0.824122   0.0784342\n",
       " 0.0248054   0.062264   0.839767   0.0731635\n",
       " 0.0110888   0.0310011  0.9206     0.0373106\n",
       " 0.0120288   0.0358366  0.911533   0.0406016\n",
       " 0.0135941   0.0388886  0.896563   0.0509545\n",
       " 0.0138915   0.0358671  0.905788   0.0444535\n",
       " 0.0288853   0.0814099  0.793854   0.0958507\n",
       " 0.0063551   0.0184323  0.953548   0.021665\n",
       " 0.0270935   0.0665823  0.829681   0.0766429\n",
       " 0.0349912   0.0808372  0.797918   0.0862533\n",
       " 0.00528711  0.0155507  0.957861   0.0213009"
      ]
     },
     "execution_count": 14,
     "metadata": {},
     "output_type": "execute_result"
    }
   ],
   "source": [
    "# how much each data point belongs to each one \n",
    "# of the (4) clusters according to Cmeans\n",
    "memberships = R2.weights"
   ]
  },
  {
   "cell_type": "markdown",
   "metadata": {},
   "source": [
    "## Clean the data a bit"
   ]
  },
  {
   "cell_type": "code",
   "execution_count": 15,
   "metadata": {
    "scrolled": true
   },
   "outputs": [
    {
     "data": {
      "text/plain": [
       "2000-element Array{Float64,1}:\n",
       " -3830.076403892874\n",
       " -3965.2180884436843\n",
       " -3939.8869787581857\n",
       " -3875.0521950907514\n",
       " -3900.0130214272585\n",
       " -3960.0524501791515\n",
       " -3979.9618163176488\n",
       " -3909.877879990196\n",
       " -3885.0159706940613\n",
       " -4100.076892982874\n",
       " -4070.0383869957386\n",
       " -3905.0575928379626\n",
       " -3904.9761602550916\n",
       "     ⋮\n",
       " -3814.9587355852414\n",
       " -3655.0249148548\n",
       " -3779.8978150118974\n",
       " -3720.048324591379\n",
       " -3969.8369667628403\n",
       " -4010.0494197155276\n",
       " -4000.183968429349\n",
       " -4125.085632528229\n",
       " -4019.946848662353\n",
       " -4024.9163175883937\n",
       " -3970.129805998784\n",
       " -3954.982839002469"
      ]
     },
     "execution_count": 15,
     "metadata": {},
     "output_type": "execute_result"
    }
   ],
   "source": [
    "X = df2[1:7]\n",
    "XX = map(Float64, Matrix(X))\n",
    "y1 = map(string, df[:Room])\n",
    "y2 = df[end]"
   ]
  },
  {
   "cell_type": "code",
   "execution_count": 16,
   "metadata": {},
   "outputs": [
    {
     "data": {
      "text/plain": [
       "partition (generic function with 2 methods)"
      ]
     },
     "execution_count": 16,
     "metadata": {},
     "output_type": "execute_result"
    }
   ],
   "source": [
    "# Train test split function\n",
    "function partition(ind::Union{Array{Int64, 1}, UnitRange{Int64}}, r::Float64, shuffle::Bool = true)\n",
    "    if typeof(ind) == UnitRange{Int64}; ind = collect(ind); end\n",
    "    N = length(ind) # total number of data points in sample\n",
    "    n = round(Int64, N*r) # number of data points in training set (train)\n",
    "    train = [0, 0] # initialize train output\n",
    "    test = [0, 0] # initialize test output\n",
    "    \n",
    "    if shuffle        \n",
    "        ind_ = ind[randperm(N)]\n",
    "    else\n",
    "        ind_ = ind\n",
    "    end\n",
    "    \n",
    "    train = ind_[1:n]\n",
    "    test = ind_[(n+1):end]\n",
    "    return train, test\n",
    "end"
   ]
  },
  {
   "cell_type": "code",
   "execution_count": 17,
   "metadata": {},
   "outputs": [
    {
     "data": {
      "text/plain": [
       "([280, 1437, 190, 537, 1830, 1950, 54, 191, 1690, 1650  …  34, 738, 1842, 1368, 321, 1464, 337, 1371, 1476, 970], [1730, 450, 1315, 1269, 291, 147, 137, 228, 400, 1522  …  1946, 536, 1019, 335, 1440, 1664, 1576, 1115, 1353, 362])"
      ]
     },
     "execution_count": 17,
     "metadata": {},
     "output_type": "execute_result"
    }
   ],
   "source": [
    "train, test = partition(1:n, 0.7, true) # 70-30 split of the data"
   ]
  },
  {
   "cell_type": "code",
   "execution_count": 18,
   "metadata": {},
   "outputs": [
    {
     "data": {
      "text/plain": [
       "DecisionTreeClassifier\n",
       "max_depth:                3\n",
       "min_samples_leaf:         1\n",
       "min_samples_split:        2\n",
       "min_purity_increase:      0.0\n",
       "pruning_purity_threshold: 1.0\n",
       "n_subfeatures:            0\n",
       "classes:                  nothing\n",
       "root:                     nothing"
      ]
     },
     "execution_count": 18,
     "metadata": {},
     "output_type": "execute_result"
    }
   ],
   "source": [
    "# Decision Tree\n",
    "tree = DecisionTreeClassifier(max_depth=3)"
   ]
  },
  {
   "cell_type": "code",
   "execution_count": 19,
   "metadata": {},
   "outputs": [
    {
     "data": {
      "text/plain": [
       "DecisionTreeClassifier\n",
       "max_depth:                3\n",
       "min_samples_leaf:         1\n",
       "min_samples_split:        2\n",
       "min_purity_increase:      0.0\n",
       "pruning_purity_threshold: 1.0\n",
       "n_subfeatures:            0\n",
       "classes:                  [\"1\", \"2\", \"3\", \"4\"]\n",
       "root:                     Decision Tree\n",
       "Leaves: 7\n",
       "Depth:  3"
      ]
     },
     "execution_count": 19,
     "metadata": {},
     "output_type": "execute_result"
    }
   ],
   "source": [
    "DecisionTree.fit!(tree, XX[train,:], y1[train])"
   ]
  },
  {
   "cell_type": "code",
   "execution_count": 20,
   "metadata": {},
   "outputs": [
    {
     "name": "stdout",
     "output_type": "stream",
     "text": [
      "Feature 5, Threshold 0.42245649843991573\n",
      "L-> Feature 2, Threshold 0.7673383346503632\n",
      "    L-> Feature 5, Threshold -0.31269060292564277\n",
      "        L-> 2 : 332/369\n",
      "        R-> 3 : 287/339\n",
      "    R-> Feature 2, Threshold 0.9993691531743649\n",
      "        L-> 1 : 88/110\n",
      "        R-> 1 : 246/246\n",
      "R-> Feature 5, Threshold 0.6042511496066855\n",
      "    L-> Feature 2, Threshold 0.9421451740468422\n",
      "        L-> 4 : 16/17\n",
      "        R-> 1 : 2/2\n",
      "    R-> 4 : 317/317\n"
     ]
    }
   ],
   "source": [
    "print_tree(tree)"
   ]
  },
  {
   "cell_type": "code",
   "execution_count": 21,
   "metadata": {},
   "outputs": [
    {
     "data": {
      "text/plain": [
       "600-element Array{String,1}:\n",
       " \"4\"\n",
       " \"1\"\n",
       " \"3\"\n",
       " \"3\"\n",
       " \"3\"\n",
       " \"1\"\n",
       " \"1\"\n",
       " \"1\"\n",
       " \"1\"\n",
       " \"4\"\n",
       " \"3\"\n",
       " \"4\"\n",
       " \"3\"\n",
       " ⋮\n",
       " \"4\"\n",
       " \"2\"\n",
       " \"4\"\n",
       " \"2\"\n",
       " \"1\"\n",
       " \"1\"\n",
       " \"2\"\n",
       " \"4\"\n",
       " \"4\"\n",
       " \"2\"\n",
       " \"3\"\n",
       " \"1\""
      ]
     },
     "execution_count": 21,
     "metadata": {},
     "output_type": "execute_result"
    }
   ],
   "source": [
    "yhat = DecisionTree.predict(tree, XX[test,:])"
   ]
  },
  {
   "cell_type": "code",
   "execution_count": 22,
   "metadata": {},
   "outputs": [
    {
     "data": {
      "text/plain": [
       "0.9016666666666666"
      ]
     },
     "execution_count": 22,
     "metadata": {},
     "output_type": "execute_result"
    }
   ],
   "source": [
    "sum(yhat .== y1[test]) / length(test)"
   ]
  },
  {
   "cell_type": "code",
   "execution_count": 23,
   "metadata": {},
   "outputs": [
    {
     "data": {
      "text/plain": [
       "5-element Array{Float64,1}:\n",
       " 0.8075\n",
       " 0.9075\n",
       " 0.895\n",
       " 0.89\n",
       " 0.87"
      ]
     },
     "execution_count": 23,
     "metadata": {},
     "output_type": "execute_result"
    }
   ],
   "source": [
    "accuracy = cross_val_score(tree, XX, y1, cv=5)"
   ]
  },
  {
   "cell_type": "markdown",
   "metadata": {},
   "source": [
    "## Random Forest"
   ]
  },
  {
   "cell_type": "code",
   "execution_count": 24,
   "metadata": {},
   "outputs": [
    {
     "data": {
      "text/plain": [
       "5"
      ]
     },
     "execution_count": 24,
     "metadata": {},
     "output_type": "execute_result"
    }
   ],
   "source": [
    "n_subfeatures = 3\n",
    "n_trees = 100\n",
    "pst = 0.5 # portion of samples per tree\n",
    "max_depth = 5\n",
    "\n",
    "# Number of folds for the k-folds cross-validation later\n",
    "n_folds = 5"
   ]
  },
  {
   "cell_type": "code",
   "execution_count": 25,
   "metadata": {},
   "outputs": [
    {
     "data": {
      "text/plain": [
       "Ensemble of Decision Trees\n",
       "Trees:      100\n",
       "Avg Leaves: 19.11\n",
       "Avg Depth:  5.0"
      ]
     },
     "execution_count": 25,
     "metadata": {},
     "output_type": "execute_result"
    }
   ],
   "source": [
    "forest1 = build_forest(y1[train], XX[train,:], n_subfeatures, n_trees, pst, max_depth) "
   ]
  },
  {
   "cell_type": "code",
   "execution_count": 26,
   "metadata": {},
   "outputs": [
    {
     "data": {
      "text/plain": [
       "600-element Array{String,1}:\n",
       " \"4\"\n",
       " \"1\"\n",
       " \"3\"\n",
       " \"3\"\n",
       " \"3\"\n",
       " \"1\"\n",
       " \"1\"\n",
       " \"1\"\n",
       " \"1\"\n",
       " \"4\"\n",
       " \"3\"\n",
       " \"4\"\n",
       " \"3\"\n",
       " ⋮\n",
       " \"4\"\n",
       " \"2\"\n",
       " \"4\"\n",
       " \"2\"\n",
       " \"3\"\n",
       " \"1\"\n",
       " \"3\"\n",
       " \"4\"\n",
       " \"4\"\n",
       " \"3\"\n",
       " \"3\"\n",
       " \"1\""
      ]
     },
     "execution_count": 26,
     "metadata": {},
     "output_type": "execute_result"
    }
   ],
   "source": [
    "yhat = apply_forest(forest1, XX[test,:])"
   ]
  },
  {
   "cell_type": "code",
   "execution_count": 27,
   "metadata": {},
   "outputs": [
    {
     "data": {
      "text/plain": [
       "600×4 Array{Float64,2}:\n",
       " 0.0   0.0   0.0   1.0\n",
       " 1.0   0.0   0.0   0.0\n",
       " 0.0   0.08  0.92  0.0\n",
       " 0.0   0.0   1.0   0.0\n",
       " 0.38  0.0   0.61  0.01\n",
       " 0.95  0.0   0.05  0.0\n",
       " 0.94  0.0   0.06  0.0\n",
       " 1.0   0.0   0.0   0.0\n",
       " 0.99  0.0   0.01  0.0\n",
       " 0.0   0.0   0.0   1.0\n",
       " 0.0   0.02  0.98  0.0\n",
       " 0.0   0.0   0.0   1.0\n",
       " 0.48  0.0   0.52  0.0\n",
       " ⋮                 \n",
       " 0.0   0.0   0.0   1.0\n",
       " 0.0   0.95  0.05  0.0\n",
       " 0.0   0.0   0.0   1.0\n",
       " 0.0   1.0   0.0   0.0\n",
       " 0.28  0.24  0.48  0.0\n",
       " 0.9   0.0   0.1   0.0\n",
       " 0.02  0.03  0.95  0.0\n",
       " 0.0   0.0   0.0   1.0\n",
       " 0.0   0.0   0.0   1.0\n",
       " 0.01  0.34  0.65  0.0\n",
       " 0.0   0.0   1.0   0.0\n",
       " 0.97  0.0   0.03  0.0"
      ]
     },
     "execution_count": 27,
     "metadata": {},
     "output_type": "execute_result"
    }
   ],
   "source": [
    "scores = apply_forest_proba(forest1, XX[test,:], map(string, 1:4)) # map(string, 1:4) => [\"1\", \"2\", \"3\", \"4\"] but it's more elegant and less risky"
   ]
  },
  {
   "cell_type": "code",
   "execution_count": 28,
   "metadata": {},
   "outputs": [
    {
     "name": "stdout",
     "output_type": "stream",
     "text": [
      "\n",
      "Fold 1\n",
      "Classes:  "
     ]
    },
    {
     "data": {
      "text/plain": [
       "4×4 Array{Int64,2}:\n",
       " 98    0   6    3\n",
       "  0  110   1    0\n",
       "  3    6  72    0\n",
       "  0    0   0  101"
      ]
     },
     "metadata": {},
     "output_type": "display_data"
    },
    {
     "name": "stdout",
     "output_type": "stream",
     "text": [
      "[\"1\", \"2\", \"3\", \"4\"]\n",
      "Matrix:   \n",
      "Accuracy: "
     ]
    },
    {
     "data": {
      "text/plain": [
       "4×4 Array{Int64,2}:\n",
       " 98   0   3   0\n",
       "  0  93   5   0\n",
       "  7   3  94   0\n",
       "  1   0   0  96"
      ]
     },
     "metadata": {},
     "output_type": "display_data"
    },
    {
     "data": {
      "text/plain": [
       "4×4 Array{Int64,2}:\n",
       " 97   0   4   0\n",
       "  0  99   5   0\n",
       "  4   3  97   1\n",
       "  1   0   0  89"
      ]
     },
     "metadata": {},
     "output_type": "display_data"
    },
    {
     "data": {
      "text/plain": [
       "4×4 Array{Int64,2}:\n",
       " 93   0    5   0\n",
       "  0  88    3   0\n",
       "  3   6  103   0\n",
       "  1   0    0  98"
      ]
     },
     "metadata": {},
     "output_type": "display_data"
    },
    {
     "data": {
      "text/plain": [
       "4×4 Array{Int64,2}:\n",
       " 89   0   2    2\n",
       "  0  92   4    0\n",
       "  8   2  88    0\n",
       "  1   0   0  112"
      ]
     },
     "metadata": {},
     "output_type": "display_data"
    },
    {
     "name": "stdout",
     "output_type": "stream",
     "text": [
      "0.9525\n",
      "Kappa:    0.9363558711708845\n",
      "\n",
      "Fold 2\n",
      "Classes:  [\"1\", \"2\", \"3\", \"4\"]\n",
      "Matrix:   \n",
      "Accuracy: 0.9525\n",
      "Kappa:    0.9366487171365219\n",
      "\n",
      "Fold 3\n",
      "Classes:  [\"1\", \"2\", \"3\", \"4\"]\n",
      "Matrix:   \n",
      "Accuracy: 0.955\n",
      "Kappa:    0.939929918237944\n",
      "\n",
      "Fold 4\n",
      "Classes:  [\"1\", \"2\", \"3\", \"4\"]\n",
      "Matrix:   \n",
      "Accuracy: 0.955\n",
      "Kappa:    0.9399028429294026\n",
      "\n",
      "Fold 5\n",
      "Classes:  [\"1\", \"2\", \"3\", \"4\"]\n",
      "Matrix:   \n",
      "Accuracy: 0.9525\n",
      "Kappa:    0.9365439850377395\n",
      "\n",
      "Mean Accuracy: 0.9535\n"
     ]
    },
    {
     "data": {
      "text/plain": [
       "5-element Array{Float64,1}:\n",
       " 0.9525\n",
       " 0.9525\n",
       " 0.955\n",
       " 0.955\n",
       " 0.9525"
      ]
     },
     "execution_count": 28,
     "metadata": {},
     "output_type": "execute_result"
    }
   ],
   "source": [
    "accuracy = nfoldCV_forest(y1, XX, n_folds, n_subfeatures)"
   ]
  },
  {
   "cell_type": "code",
   "execution_count": 29,
   "metadata": {},
   "outputs": [],
   "source": [
    "forest2 = build_forest(y2[train], XX[train,:], 2, 10, 0.5, 6);"
   ]
  },
  {
   "cell_type": "code",
   "execution_count": 30,
   "metadata": {},
   "outputs": [
    {
     "data": {
      "text/plain": [
       "600-element Array{Float64,1}:\n",
       " -3948.819493026562\n",
       " -3876.6288675525693\n",
       " -3583.6483643187325\n",
       " -3621.35618411009\n",
       " -3846.3458063156895\n",
       " -3868.703191237402\n",
       " -3801.9414883703976\n",
       " -3908.429371435269\n",
       " -3889.407077157227\n",
       " -3899.914885223649\n",
       " -3598.385699316858\n",
       " -4008.0506047809577\n",
       " -3832.6061529835206\n",
       "     ⋮\n",
       " -3929.1303157389025\n",
       " -3263.4695959284445\n",
       " -3934.5917115481907\n",
       " -2873.1781737632637\n",
       " -3566.6734515157877\n",
       " -3761.027363102069\n",
       " -3579.6748735997426\n",
       " -3942.527884263847\n",
       " -3927.811619337516\n",
       " -3553.280286523631\n",
       " -3521.3816914589856\n",
       " -3906.643607454446"
      ]
     },
     "execution_count": 30,
     "metadata": {},
     "output_type": "execute_result"
    }
   ],
   "source": [
    "apply_forest(forest2, XX[test,:])"
   ]
  },
  {
   "cell_type": "code",
   "execution_count": 31,
   "metadata": {},
   "outputs": [
    {
     "name": "stdout",
     "output_type": "stream",
     "text": [
      "\n",
      "Fold 1\n",
      "Mean Squared Error:     17950.858988306354\n",
      "Correlation Coeff:      0.923532000385329\n",
      "Coeff of Determination: 0.8528094932150105\n",
      "\n",
      "Fold 2\n",
      "Mean Squared Error:     16790.317403176658\n",
      "Correlation Coeff:      0.9337888874124171\n",
      "Coeff of Determination: 0.8715635010502809\n",
      "\n",
      "Fold 3\n",
      "Mean Squared Error:     15693.581425879742\n",
      "Correlation Coeff:      0.9350160892939363\n",
      "Coeff of Determination: 0.8735000088272649\n",
      "\n",
      "Fold 4\n",
      "Mean Squared Error:     14657.578229120467\n",
      "Correlation Coeff:      0.9417044760801345\n",
      "Coeff of Determination: 0.8856121053806987\n",
      "\n",
      "Fold 5\n",
      "Mean Squared Error:     14988.991797622019\n",
      "Correlation Coeff:      0.9416442487217922\n",
      "Coeff of Determination: 0.8851928172659674\n",
      "\n",
      "Mean Coeff of Determination: 0.8737355851478446\n"
     ]
    },
    {
     "data": {
      "text/plain": [
       "5-element Array{Float64,1}:\n",
       " 0.8528094932150105\n",
       " 0.8715635010502809\n",
       " 0.8735000088272649\n",
       " 0.8856121053806987\n",
       " 0.8851928172659674"
      ]
     },
     "execution_count": 31,
     "metadata": {},
     "output_type": "execute_result"
    }
   ],
   "source": [
    "accuracy = nfoldCV_forest(y2, XX, n_folds, n_subfeatures)"
   ]
  },
  {
   "cell_type": "code",
   "execution_count": 32,
   "metadata": {},
   "outputs": [
    {
     "data": {
      "text/plain": [
       "1000"
      ]
     },
     "execution_count": 32,
     "metadata": {},
     "output_type": "execute_result"
    }
   ],
   "source": [
    "ni = 1000 # number of iterations for boosted stumps"
   ]
  },
  {
   "cell_type": "code",
   "execution_count": 33,
   "metadata": {},
   "outputs": [
    {
     "data": {
      "text/plain": [
       "(Ensemble of Decision Trees\n",
       "Trees:      1000\n",
       "Avg Leaves: 2.0\n",
       "Avg Depth:  1.0, [0.531371234336294, 0.282066042538007, 0.42263858633617607, 0.4335406914866351, 0.4194288606242588, 0.4510543906575151, 0.41410328002009905, 0.4796910690432544, 0.37606181270974615, 0.5423794601151405  …  0.6196390881284066, 0.47368700850728784, 0.6008230591901262, 0.567100338396701, 0.4989492554333649, 0.5642311483761737, 0.5891840426054491, 0.5378583948535957, 0.5313512384307626, 0.5899812297162252])"
      ]
     },
     "execution_count": 33,
     "metadata": {},
     "output_type": "execute_result"
    }
   ],
   "source": [
    "model, coeffs = build_adaboost_stumps(y1[train], XX[train,:], ni)"
   ]
  },
  {
   "cell_type": "code",
   "execution_count": 34,
   "metadata": {},
   "outputs": [
    {
     "data": {
      "text/plain": [
       "600-element Array{String,1}:\n",
       " \"4\"\n",
       " \"1\"\n",
       " \"3\"\n",
       " \"3\"\n",
       " \"3\"\n",
       " \"1\"\n",
       " \"1\"\n",
       " \"1\"\n",
       " \"1\"\n",
       " \"4\"\n",
       " \"3\"\n",
       " \"4\"\n",
       " \"1\"\n",
       " ⋮\n",
       " \"4\"\n",
       " \"2\"\n",
       " \"4\"\n",
       " \"2\"\n",
       " \"3\"\n",
       " \"1\"\n",
       " \"3\"\n",
       " \"4\"\n",
       " \"4\"\n",
       " \"3\"\n",
       " \"3\"\n",
       " \"1\""
      ]
     },
     "execution_count": 34,
     "metadata": {},
     "output_type": "execute_result"
    }
   ],
   "source": [
    "apply_adaboost_stumps(model, coeffs, XX[test,:])"
   ]
  },
  {
   "cell_type": "code",
   "execution_count": 35,
   "metadata": {},
   "outputs": [
    {
     "data": {
      "text/plain": [
       "600×4 Array{Float64,2}:\n",
       " 0.259931  0.076194    0.252546  0.411329\n",
       " 0.411337  0.17134     0.306905  0.110419\n",
       " 0.148453  0.399431    0.415684  0.0364321\n",
       " 0.291403  0.248754    0.423422  0.0364209\n",
       " 0.3649    0.00304306  0.365213  0.266844\n",
       " 0.419372  0.170514    0.356591  0.0535232\n",
       " 0.410897  0.18735     0.351192  0.0505607\n",
       " 0.426674  0.15522     0.337667  0.0804392\n",
       " 0.417332  0.17227     0.278538  0.13186\n",
       " 0.354702  0.00896967  0.259803  0.376526\n",
       " 0.219777  0.303066    0.431685  0.045472\n",
       " 0.348923  0.0         0.256075  0.395003\n",
       " 0.394309  0.160249    0.343926  0.101517\n",
       " ⋮                               \n",
       " 0.220583  0.102943    0.244437  0.432037\n",
       " 0.154888  0.482961    0.329491  0.0326596\n",
       " 0.258925  0.0740924   0.255925  0.411058\n",
       " 0.159062  0.483986    0.324292  0.0326596\n",
       " 0.332661  0.24475     0.415506  0.0070822\n",
       " 0.412697  0.170514    0.385965  0.0308243\n",
       " 0.305216  0.221501    0.415998  0.0572844\n",
       " 0.227133  0.102943    0.241774  0.42815\n",
       " 0.264108  0.0656333   0.259855  0.410404\n",
       " 0.169183  0.380883    0.404462  0.045472\n",
       " 0.219219  0.325633    0.417765  0.0373828\n",
       " 0.401122  0.17227     0.337419  0.0891887"
      ]
     },
     "execution_count": 35,
     "metadata": {},
     "output_type": "execute_result"
    }
   ],
   "source": [
    "apply_adaboost_stumps_proba(model, coeffs, XX[test,:], map(string, 1:4))"
   ]
  },
  {
   "cell_type": "code",
   "execution_count": 36,
   "metadata": {
    "scrolled": true
   },
   "outputs": [
    {
     "data": {
      "text/plain": [
       "4×4 Array{Int64,2}:\n",
       " 103   0   8   1\n",
       "   0  88   4   0\n",
       "   7   6  82   0\n",
       "   0   0   2  99"
      ]
     },
     "metadata": {},
     "output_type": "display_data"
    },
    {
     "name": "stdout",
     "output_type": "stream",
     "text": [
      "\n",
      "Fold 1\n",
      "Classes:  [\"1\", \"2\", \"3\", \"4\"]\n",
      "Matrix:   \n",
      "Accuracy: 0.93\n",
      "Kappa:    0.9065202150035054\n"
     ]
    },
    {
     "data": {
      "text/plain": [
       "4×4 Array{Int64,2}:\n",
       " 83   0   3    1\n",
       "  0  88   3    0\n",
       "  6   5  99    0\n",
       "  1   0   1  110"
      ]
     },
     "metadata": {},
     "output_type": "display_data"
    },
    {
     "name": "stdout",
     "output_type": "stream",
     "text": [
      "\n",
      "Fold 2\n",
      "Classes:  [\"1\", \"2\", \"3\", \"4\"]\n",
      "Matrix:   \n",
      "Accuracy: 0.95\n",
      "Kappa:    0.9331187560088617\n"
     ]
    },
    {
     "data": {
      "text/plain": [
       "4×4 Array{Int64,2}:\n",
       " 87   0   6   1\n",
       "  0  97   5   0\n",
       "  5   4  95   1\n",
       "  0   0   0  99"
      ]
     },
     "metadata": {},
     "output_type": "display_data"
    },
    {
     "name": "stdout",
     "output_type": "stream",
     "text": [
      "\n",
      "Fold 3\n",
      "Classes:  [\"1\", \"2\", \"3\", \"4\"]\n",
      "Matrix:   \n",
      "Accuracy: 0.945\n",
      "Kappa:    0.9266183570850808\n"
     ]
    },
    {
     "data": {
      "text/plain": [
       "4×4 Array{Int64,2}:\n",
       " 106   0   7   1\n",
       "   0  94   5   0\n",
       "   6   8  77   0\n",
       "   1   0   1  94"
      ]
     },
     "metadata": {},
     "output_type": "display_data"
    },
    {
     "name": "stdout",
     "output_type": "stream",
     "text": [
      "\n",
      "Fold 4\n",
      "Classes:  [\"1\", \"2\", \"3\", \"4\"]\n",
      "Matrix:   \n",
      "Accuracy: 0.9275\n",
      "Kappa:    0.9030991562943781\n"
     ]
    },
    {
     "data": {
      "text/plain": [
       "4×4 Array{Int64,2}:\n",
       " 83    0   9   1\n",
       "  0  111   5   0\n",
       "  4    7  87   1\n",
       "  1    0   0  91"
      ]
     },
     "metadata": {},
     "output_type": "display_data"
    },
    {
     "name": "stdout",
     "output_type": "stream",
     "text": [
      "\n",
      "Fold 5\n",
      "Classes:  [\"1\", \"2\", \"3\", \"4\"]\n",
      "Matrix:   \n",
      "Accuracy: 0.93\n",
      "Kappa:    0.9063333695733987\n",
      "\n",
      "Mean Accuracy: 0.9364999999999999\n"
     ]
    },
    {
     "data": {
      "text/plain": [
       "5-element Array{Float64,1}:\n",
       " 0.93\n",
       " 0.95\n",
       " 0.945\n",
       " 0.9275\n",
       " 0.93"
      ]
     },
     "execution_count": 36,
     "metadata": {},
     "output_type": "execute_result"
    }
   ],
   "source": [
    "accuracy = nfoldCV_stumps(y1, XX, n_folds, ni)"
   ]
  },
  {
   "cell_type": "code",
   "execution_count": null,
   "metadata": {},
   "outputs": [],
   "source": []
  },
  {
   "cell_type": "code",
   "execution_count": null,
   "metadata": {},
   "outputs": [],
   "source": []
  }
 ],
 "metadata": {
  "kernelspec": {
   "display_name": "Julia 1.5.1",
   "language": "julia",
   "name": "julia-1.5"
  },
  "language_info": {
   "file_extension": ".jl",
   "mimetype": "application/julia",
   "name": "julia",
   "version": "1.5.1"
  }
 },
 "nbformat": 4,
 "nbformat_minor": 4
}
