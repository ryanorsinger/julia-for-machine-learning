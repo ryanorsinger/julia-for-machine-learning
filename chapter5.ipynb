{
 "cells": [
  {
   "cell_type": "code",
   "execution_count": 1,
   "metadata": {},
   "outputs": [],
   "source": [
    "using CSV, DataFrames, Clustering, DecisionTree, GLM, XGBoost\n",
    "using StatsBase, Distributions, HypothesisTests, MultivariateStats\n",
    "using Distances, MLLabelUtils, MLBase\n",
    "using TSne, Gadfly\n",
    "using ScikitLearn.CrossValidation: cross_val_score\n",
    "using Random"
   ]
  },
  {
   "cell_type": "code",
   "execution_count": 34,
   "metadata": {},
   "outputs": [
    {
     "data": {
      "text/html": [
       "<table class=\"data-frame\"><thead><tr><th></th><th>WiFi1</th><th>WiFi2</th><th>WiFi3</th><th>WiFi4</th><th>WiFi5</th><th>WiFi6</th><th>WiFi7</th><th>Room</th></tr><tr><th></th><th>Float64</th><th>Float64</th><th>Float64</th><th>Float64</th><th>Float64</th><th>Float64</th><th>Float64</th><th>Float64</th></tr></thead><tbody><p>3 rows × 8 columns</p><tr><th>1</th><td>0.478077</td><td>1.28936</td><td>0.782308</td><td>0.275256</td><td>-0.231795</td><td>-1.34731</td><td>-1.2459</td><td>1.0</td></tr><tr><th>2</th><td>0.207303</td><td>1.20495</td><td>0.84217</td><td>0.479389</td><td>-0.0647823</td><td>-1.33451</td><td>-1.33451</td><td>1.0</td></tr><tr><th>3</th><td>0.708444</td><td>0.98395</td><td>0.98395</td><td>0.341103</td><td>-0.485416</td><td>-1.31193</td><td>-1.2201</td><td>1.0</td></tr></tbody></table>"
      ],
      "text/latex": [
       "\\begin{tabular}{r|cccccccc}\n",
       "\t& WiFi1 & WiFi2 & WiFi3 & WiFi4 & WiFi5 & WiFi6 & WiFi7 & Room\\\\\n",
       "\t\\hline\n",
       "\t& Float64 & Float64 & Float64 & Float64 & Float64 & Float64 & Float64 & Float64\\\\\n",
       "\t\\hline\n",
       "\t1 & 0.478077 & 1.28936 & 0.782308 & 0.275256 & -0.231795 & -1.34731 & -1.2459 & 1.0 \\\\\n",
       "\t2 & 0.207303 & 1.20495 & 0.84217 & 0.479389 & -0.0647823 & -1.33451 & -1.33451 & 1.0 \\\\\n",
       "\t3 & 0.708444 & 0.98395 & 0.98395 & 0.341103 & -0.485416 & -1.31193 & -1.2201 & 1.0 \\\\\n",
       "\\end{tabular}\n"
      ],
      "text/plain": [
       "3×8 DataFrame. Omitted printing of 2 columns\n",
       "│ Row │ WiFi1    │ WiFi2   │ WiFi3    │ WiFi4    │ WiFi5      │ WiFi6    │\n",
       "│     │ \u001b[90mFloat64\u001b[39m  │ \u001b[90mFloat64\u001b[39m │ \u001b[90mFloat64\u001b[39m  │ \u001b[90mFloat64\u001b[39m  │ \u001b[90mFloat64\u001b[39m    │ \u001b[90mFloat64\u001b[39m  │\n",
       "├─────┼──────────┼─────────┼──────────┼──────────┼────────────┼──────────┤\n",
       "│ 1   │ 0.478077 │ 1.28936 │ 0.782308 │ 0.275256 │ -0.231795  │ -1.34731 │\n",
       "│ 2   │ 0.207303 │ 1.20495 │ 0.84217  │ 0.479389 │ -0.0647823 │ -1.33451 │\n",
       "│ 3   │ 0.708444 │ 0.98395 │ 0.98395  │ 0.341103 │ -0.485416  │ -1.31193 │"
      ]
     },
     "execution_count": 34,
     "metadata": {},
     "output_type": "execute_result"
    }
   ],
   "source": [
    "# Renamed but unscaled\n",
    "df = df = CSV.read(\"wifi_named.csv\", header=true)\n",
    "\n",
    "# Standardized signal features\n",
    "df2 = CSV.read(\"wifi_standardized.csv\", header=true)\n",
    "\n",
    "first(df2, 3)"
   ]
  },
  {
   "cell_type": "code",
   "execution_count": 45,
   "metadata": {},
   "outputs": [
    {
     "data": {
      "text/plain": [
       "3×7 Array{Float64,2}:\n",
       " 0.478077  1.28936  0.782308  0.275256  -0.231795   -1.34731  -1.2459\n",
       " 0.207303  1.20495  0.84217   0.479389  -0.0647823  -1.33451  -1.33451\n",
       " 0.708444  0.98395  0.98395   0.341103  -0.485416   -1.31193  -1.2201"
      ]
     },
     "execution_count": 45,
     "metadata": {},
     "output_type": "execute_result"
    }
   ],
   "source": [
    "# Drop the Room column on both feature matrixes\n",
    "# X is standardized, XX isn't\n",
    "X = Matrix(df2[1:7])\n",
    "XX = Matrix(df[1:7])\n",
    "\n",
    "# Show first 3 rows, all columns\n",
    "X[1:3, 1:end]"
   ]
  },
  {
   "cell_type": "markdown",
   "metadata": {},
   "source": [
    "## Working with Clustering"
   ]
  },
  {
   "cell_type": "code",
   "execution_count": 53,
   "metadata": {},
   "outputs": [
    {
     "data": {
      "text/plain": [
       "4"
      ]
     },
     "execution_count": 53,
     "metadata": {},
     "output_type": "execute_result"
    }
   ],
   "source": [
    "# Number of clusters\n",
    "nc = 4"
   ]
  },
  {
   "cell_type": "code",
   "execution_count": 54,
   "metadata": {},
   "outputs": [
    {
     "data": {
      "text/plain": [
       "(2000, 7)"
      ]
     },
     "execution_count": 54,
     "metadata": {},
     "output_type": "execute_result"
    }
   ],
   "source": [
    "n, m = size(X)"
   ]
  },
  {
   "cell_type": "code",
   "execution_count": 56,
   "metadata": {},
   "outputs": [
    {
     "data": {
      "text/plain": [
       "7×2000 LinearAlgebra.Adjoint{Float64,Array{Float64,2}}:\n",
       "  0.478077   0.207303    0.708444  …   0.147736    0.122404   0.162858\n",
       "  1.28936    1.20495     0.98395       0.320095    0.350891   0.65143\n",
       "  0.782308   0.84217     0.98395       1.06698     0.693621   0.92286\n",
       "  0.275256   0.479389    0.341103     -0.0246227   0.179526   0.108572\n",
       " -0.231795  -0.0647823  -0.485416      1.12444     1.32196    0.92286\n",
       " -1.34731   -1.33451    -1.31193   …  -1.28859    -1.47701   -1.41143\n",
       " -1.2459    -1.33451    -1.2201       -1.34604    -1.1914    -1.35715"
      ]
     },
     "execution_count": 56,
     "metadata": {},
     "output_type": "execute_result"
    }
   ],
   "source": [
    "# author uses a for loop to transpose... then suggests using collect(adjoint(X))\n",
    "# But transpose == transpose, so here we go!\n",
    "XX = X'"
   ]
  },
  {
   "cell_type": "code",
   "execution_count": 57,
   "metadata": {},
   "outputs": [
    {
     "name": "stdout",
     "output_type": "stream",
     "text": [
      "  Iters               objv        objv-change | affected \n",
      "-------------------------------------------------------------\n",
      "      0       9.291066e+02\n",
      "      1       6.010033e+02      -3.281033e+02 |        4\n",
      "      2       5.939210e+02      -7.082325e+00 |        4\n",
      "      3       5.930049e+02      -9.160677e-01 |        3\n",
      "      4       5.928254e+02      -1.795539e-01 |        2\n",
      "      5       5.927953e+02      -3.008943e-02 |        2\n",
      "      6       5.927892e+02      -6.089255e-03 |        2\n",
      "      7       5.927874e+02      -1.802885e-03 |        2\n",
      "      8       5.927826e+02      -4.767285e-03 |        3\n",
      "      9       5.927781e+02      -4.525659e-03 |        0\n",
      "     10       5.927781e+02       0.000000e+00 |        0\n",
      "K-means converged with 10 iterations (objv = 592.7781033135057)\n"
     ]
    },
    {
     "data": {
      "text/plain": [
       "KmeansResult{Array{Float64,2},Float64,Int64}([0.2623841755338189 1.2844768060034522 0.8785360993987652 0.5483841750633662; 0.5655365389473564 0.08442323225684432 0.48321398171164226 1.0988254047396844; … ; -1.386495460284453 -0.9773038436018847 -1.3236721029448493 -1.2638089599242694; -1.3837043727428167 -1.025863510588361 -1.3825409023905642 -1.3627749945150314], [4, 4, 4, 3, 3, 4, 4, 4, 4, 4  …  1, 1, 1, 1, 1, 1, 1, 1, 1, 1], [0.088633862154607, 0.1601696612760808, 0.25203935016864243, 1.0171113631908497, 0.572203507658541, 0.2914318671535341, 0.24941442003220615, 0.6164728059882485, 0.4496610048292329, 0.379079850816467  …  0.19383882421588794, 0.07195790384627898, 0.07367341979481523, 0.09405132904213609, 0.09713508747414501, 0.22053401659064775, 0.03677470319603415, 0.2264529096588035, 0.3006991987272265, 0.03198291753014715], [501, 472, 520, 507], [501, 472, 520, 507], 592.7781033135057, 10, true)"
      ]
     },
     "execution_count": 57,
     "metadata": {},
     "output_type": "execute_result"
    }
   ],
   "source": [
    "# KMeans\n",
    "R = kmeans(XX, nc; maxiter=200, display=:iter)"
   ]
  },
  {
   "cell_type": "code",
   "execution_count": 60,
   "metadata": {},
   "outputs": [],
   "source": [
    "# Assert the number of clusters in R matches the hyperparameter set earlier\n",
    "@assert nclusters(R) == nc"
   ]
  },
  {
   "cell_type": "code",
   "execution_count": 61,
   "metadata": {},
   "outputs": [
    {
     "data": {
      "text/plain": [
       "2000-element Array{Int64,1}:\n",
       " 4\n",
       " 4\n",
       " 4\n",
       " 3\n",
       " 3\n",
       " 4\n",
       " 4\n",
       " 4\n",
       " 4\n",
       " 4\n",
       " 4\n",
       " 4\n",
       " 4\n",
       " ⋮\n",
       " 1\n",
       " 1\n",
       " 1\n",
       " 1\n",
       " 1\n",
       " 1\n",
       " 1\n",
       " 1\n",
       " 1\n",
       " 1\n",
       " 1\n",
       " 1"
      ]
     },
     "execution_count": 61,
     "metadata": {},
     "output_type": "execute_result"
    }
   ],
   "source": [
    "# assigns labels of the various points\n",
    "a = assignments(R)"
   ]
  },
  {
   "cell_type": "code",
   "execution_count": 62,
   "metadata": {},
   "outputs": [
    {
     "data": {
      "text/plain": [
       "4-element Array{Int64,1}:\n",
       " 501\n",
       " 472\n",
       " 520\n",
       " 507"
      ]
     },
     "execution_count": 62,
     "metadata": {},
     "output_type": "execute_result"
    }
   ],
   "source": [
    "# Get the cluster sizes\n",
    "c = counts(R)"
   ]
  },
  {
   "cell_type": "code",
   "execution_count": 63,
   "metadata": {},
   "outputs": [
    {
     "data": {
      "text/plain": [
       "4×7 LinearAlgebra.Adjoint{Float64,Array{Float64,2}}:\n",
       " 0.262384  0.565537   0.840882   0.189405   0.911992   -1.3865    -1.3837\n",
       " 1.28448   0.0844232  0.0933737  1.22007   -0.679172   -0.977304  -1.02586\n",
       " 0.878536  0.483214   0.63147    0.804992  -0.0919998  -1.32367   -1.38254\n",
       " 0.548384  1.09883    0.722645   0.396962  -0.140233   -1.26381   -1.36277"
      ]
     },
     "execution_count": 63,
     "metadata": {},
     "output_type": "execute_result"
    }
   ],
   "source": [
    "# cluster centers (centroids), transposed for easier viewing\n",
    "M = (R.centers)'"
   ]
  },
  {
   "cell_type": "markdown",
   "metadata": {},
   "source": [
    "## Let's do fuzzy clustering with c-means!"
   ]
  },
  {
   "cell_type": "code",
   "execution_count": 65,
   "metadata": {},
   "outputs": [
    {
     "name": "stdout",
     "output_type": "stream",
     "text": [
      "  Iters      center-change\n",
      "----------------------------\n",
      "      1       2.208389e+00\n",
      "      2       3.042300e-02\n",
      "      3       5.726892e-02\n",
      "      4       1.137675e-01\n",
      "      5       2.025642e-01\n",
      "      6       2.767112e-01\n",
      "      7       2.668076e-01\n",
      "      8       1.940725e-01\n",
      "      9       1.456188e-01\n",
      "     10       7.837594e-02\n",
      "     11       3.934396e-02\n",
      "     12       2.045023e-02\n",
      "     13       1.062416e-02\n",
      "     14       5.483257e-03\n",
      "     15       2.825778e-03\n",
      "     16       1.461861e-03\n",
      "     17       7.622094e-04\n",
      "Fuzzy C-means converged with 17 iterations (δ = 0.0007622094221868084)\n"
     ]
    },
    {
     "data": {
      "text/plain": [
       "FuzzyCMeansResult: 4 clusters for 2000 points in 7 dimensions (converged in 17 iterations)"
      ]
     },
     "execution_count": 65,
     "metadata": {},
     "output_type": "execute_result"
    }
   ],
   "source": [
    "R2 = fuzzy_cmeans(XX, nc, 2, maxiter=200, display=:iter)"
   ]
  },
  {
   "cell_type": "code",
   "execution_count": 66,
   "metadata": {},
   "outputs": [
    {
     "data": {
      "text/plain": [
       "4×7 LinearAlgebra.Adjoint{Float64,Array{Float64,2}}:\n",
       " 1.28727   0.0769225  0.0845643  1.22368   -0.675091  -0.974169  -1.02318\n",
       " 0.860159  0.517178   0.616294   0.799762  -0.120674  -1.31007   -1.36265\n",
       " 0.269127  0.5673     0.836387   0.19491    0.89731   -1.38372   -1.38131\n",
       " 0.583803  1.02725    0.713262   0.439698  -0.122727  -1.26465   -1.37663"
      ]
     },
     "execution_count": 66,
     "metadata": {},
     "output_type": "execute_result"
    }
   ],
   "source": [
    "M2 = (R2.centers)'"
   ]
  },
  {
   "cell_type": "code",
   "execution_count": 68,
   "metadata": {},
   "outputs": [
    {
     "data": {
      "text/plain": [
       "2000×4 Array{Float64,2}:\n",
       " 0.0301805   0.109671   0.0629223  0.797226\n",
       " 0.035037    0.138037   0.102674   0.724252\n",
       " 0.0569563   0.225919   0.0710357  0.646089\n",
       " 0.20371     0.373993   0.0961724  0.326124\n",
       " 0.131249    0.45686    0.0847659  0.327126\n",
       " 0.06742     0.200014   0.0851284  0.647438\n",
       " 0.039371    0.213743   0.148214   0.598672\n",
       " 0.0873086   0.384703   0.112807   0.415181\n",
       " 0.0824885   0.304049   0.0914725  0.52199\n",
       " 0.091655    0.282813   0.0678429  0.557689\n",
       " 0.0607345   0.223179   0.085712   0.630374\n",
       " 0.0449492   0.179604   0.1019     0.673547\n",
       " 0.017422    0.0795105  0.0273125  0.875755\n",
       " ⋮                                 \n",
       " 0.00873625  0.0296571  0.929443   0.0321641\n",
       " 0.0276743   0.0697524  0.824119   0.0784544\n",
       " 0.0248041   0.0622503  0.839766   0.0731798\n",
       " 0.0110874   0.0309913  0.920604   0.0373174\n",
       " 0.0120287   0.0358285  0.911527   0.0406159\n",
       " 0.0135937   0.0388798  0.896557   0.0509698\n",
       " 0.0138901   0.0358571  0.90579    0.0444623\n",
       " 0.028885    0.0813954  0.793842   0.0958777\n",
       " 0.00635419  0.018426   0.953551   0.0216692\n",
       " 0.0270913   0.0665655  0.829687   0.0766563\n",
       " 0.0349889   0.0808158  0.797926   0.0862697\n",
       " 0.00528698  0.0155475  0.957858   0.0213079"
      ]
     },
     "execution_count": 68,
     "metadata": {},
     "output_type": "execute_result"
    }
   ],
   "source": [
    "# how much each data point belongs to each one \n",
    "# of the (4) clusters according to Cmeans\n",
    "memberships = R2.weights"
   ]
  },
  {
   "cell_type": "code",
   "execution_count": null,
   "metadata": {},
   "outputs": [],
   "source": []
  }
 ],
 "metadata": {
  "kernelspec": {
   "display_name": "Julia 1.5.1",
   "language": "julia",
   "name": "julia-1.5"
  },
  "language_info": {
   "file_extension": ".jl",
   "mimetype": "application/julia",
   "name": "julia",
   "version": "1.5.1"
  }
 },
 "nbformat": 4,
 "nbformat_minor": 4
}
