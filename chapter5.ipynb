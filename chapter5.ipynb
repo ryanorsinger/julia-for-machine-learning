{
 "cells": [
  {
   "cell_type": "code",
   "execution_count": 53,
   "metadata": {},
   "outputs": [],
   "source": [
    "using CSV, DataFrames, StatsBase"
   ]
  },
  {
   "cell_type": "code",
   "execution_count": 47,
   "metadata": {},
   "outputs": [
    {
     "name": "stderr",
     "output_type": "stream",
     "text": [
      "┌ Warning: `CSV.read(input; kw...)` is deprecated in favor of `DataFrame!(CSV.File(input; kw...))`\n",
      "└ @ CSV /Users/xronos/.julia/packages/CSV/OM6FO/src/CSV.jl:40\n"
     ]
    },
    {
     "data": {
      "text/html": [
       "<table class=\"data-frame\"><thead><tr><th></th><th>Column1</th><th>Column2</th><th>Column3</th><th>Column4</th><th>Column5</th><th>Column6</th><th>Column7</th><th>Column8</th></tr><tr><th></th><th>Int64</th><th>Int64</th><th>Int64</th><th>Int64</th><th>Int64</th><th>Int64</th><th>Int64</th><th>Int64</th></tr></thead><tbody><p>2,000 rows × 8 columns</p><tr><th>1</th><td>-64</td><td>-56</td><td>-61</td><td>-66</td><td>-71</td><td>-82</td><td>-81</td><td>1</td></tr><tr><th>2</th><td>-68</td><td>-57</td><td>-61</td><td>-65</td><td>-71</td><td>-85</td><td>-85</td><td>1</td></tr><tr><th>3</th><td>-63</td><td>-60</td><td>-60</td><td>-67</td><td>-76</td><td>-85</td><td>-84</td><td>1</td></tr><tr><th>4</th><td>-61</td><td>-60</td><td>-68</td><td>-62</td><td>-77</td><td>-90</td><td>-80</td><td>1</td></tr><tr><th>5</th><td>-63</td><td>-65</td><td>-60</td><td>-63</td><td>-77</td><td>-81</td><td>-87</td><td>1</td></tr><tr><th>6</th><td>-64</td><td>-55</td><td>-63</td><td>-66</td><td>-76</td><td>-88</td><td>-83</td><td>1</td></tr><tr><th>7</th><td>-65</td><td>-61</td><td>-65</td><td>-67</td><td>-69</td><td>-87</td><td>-84</td><td>1</td></tr><tr><th>8</th><td>-61</td><td>-63</td><td>-58</td><td>-66</td><td>-74</td><td>-87</td><td>-82</td><td>1</td></tr><tr><th>9</th><td>-65</td><td>-60</td><td>-59</td><td>-63</td><td>-76</td><td>-86</td><td>-82</td><td>1</td></tr><tr><th>10</th><td>-62</td><td>-60</td><td>-66</td><td>-68</td><td>-80</td><td>-86</td><td>-91</td><td>1</td></tr><tr><th>11</th><td>-67</td><td>-61</td><td>-62</td><td>-67</td><td>-77</td><td>-83</td><td>-91</td><td>1</td></tr><tr><th>12</th><td>-65</td><td>-59</td><td>-61</td><td>-67</td><td>-72</td><td>-86</td><td>-81</td><td>1</td></tr><tr><th>13</th><td>-63</td><td>-57</td><td>-61</td><td>-65</td><td>-73</td><td>-84</td><td>-84</td><td>1</td></tr><tr><th>14</th><td>-66</td><td>-60</td><td>-65</td><td>-62</td><td>-70</td><td>-85</td><td>-83</td><td>1</td></tr><tr><th>15</th><td>-61</td><td>-59</td><td>-65</td><td>-63</td><td>-74</td><td>-89</td><td>-87</td><td>1</td></tr><tr><th>16</th><td>-67</td><td>-60</td><td>-59</td><td>-61</td><td>-71</td><td>-86</td><td>-91</td><td>1</td></tr><tr><th>17</th><td>-63</td><td>-56</td><td>-60</td><td>-62</td><td>-70</td><td>-84</td><td>-91</td><td>1</td></tr><tr><th>18</th><td>-60</td><td>-54</td><td>-59</td><td>-65</td><td>-73</td><td>-83</td><td>-84</td><td>1</td></tr><tr><th>19</th><td>-60</td><td>-58</td><td>-60</td><td>-61</td><td>-73</td><td>-84</td><td>-88</td><td>1</td></tr><tr><th>20</th><td>-62</td><td>-59</td><td>-63</td><td>-64</td><td>-70</td><td>-84</td><td>-84</td><td>1</td></tr><tr><th>21</th><td>-63</td><td>-59</td><td>-64</td><td>-66</td><td>-72</td><td>-84</td><td>-90</td><td>1</td></tr><tr><th>22</th><td>-65</td><td>-59</td><td>-66</td><td>-65</td><td>-68</td><td>-82</td><td>-85</td><td>1</td></tr><tr><th>23</th><td>-63</td><td>-56</td><td>-63</td><td>-65</td><td>-72</td><td>-82</td><td>-89</td><td>1</td></tr><tr><th>24</th><td>-67</td><td>-60</td><td>-66</td><td>-65</td><td>-75</td><td>-86</td><td>-87</td><td>1</td></tr><tr><th>25</th><td>-63</td><td>-57</td><td>-67</td><td>-66</td><td>-79</td><td>-86</td><td>-89</td><td>1</td></tr><tr><th>26</th><td>-66</td><td>-59</td><td>-64</td><td>-68</td><td>-68</td><td>-97</td><td>-83</td><td>1</td></tr><tr><th>27</th><td>-65</td><td>-61</td><td>-64</td><td>-68</td><td>-77</td><td>-86</td><td>-89</td><td>1</td></tr><tr><th>28</th><td>-66</td><td>-57</td><td>-65</td><td>-69</td><td>-78</td><td>-85</td><td>-85</td><td>1</td></tr><tr><th>29</th><td>-67</td><td>-57</td><td>-64</td><td>-71</td><td>-75</td><td>-89</td><td>-87</td><td>1</td></tr><tr><th>30</th><td>-65</td><td>-62</td><td>-62</td><td>-65</td><td>-77</td><td>-84</td><td>-85</td><td>1</td></tr><tr><th>&vellip;</th><td>&vellip;</td><td>&vellip;</td><td>&vellip;</td><td>&vellip;</td><td>&vellip;</td><td>&vellip;</td><td>&vellip;</td><td>&vellip;</td></tr></tbody></table>"
      ],
      "text/latex": [
       "\\begin{tabular}{r|cccccccc}\n",
       "\t& Column1 & Column2 & Column3 & Column4 & Column5 & Column6 & Column7 & Column8\\\\\n",
       "\t\\hline\n",
       "\t& Int64 & Int64 & Int64 & Int64 & Int64 & Int64 & Int64 & Int64\\\\\n",
       "\t\\hline\n",
       "\t1 & -64 & -56 & -61 & -66 & -71 & -82 & -81 & 1 \\\\\n",
       "\t2 & -68 & -57 & -61 & -65 & -71 & -85 & -85 & 1 \\\\\n",
       "\t3 & -63 & -60 & -60 & -67 & -76 & -85 & -84 & 1 \\\\\n",
       "\t4 & -61 & -60 & -68 & -62 & -77 & -90 & -80 & 1 \\\\\n",
       "\t5 & -63 & -65 & -60 & -63 & -77 & -81 & -87 & 1 \\\\\n",
       "\t6 & -64 & -55 & -63 & -66 & -76 & -88 & -83 & 1 \\\\\n",
       "\t7 & -65 & -61 & -65 & -67 & -69 & -87 & -84 & 1 \\\\\n",
       "\t8 & -61 & -63 & -58 & -66 & -74 & -87 & -82 & 1 \\\\\n",
       "\t9 & -65 & -60 & -59 & -63 & -76 & -86 & -82 & 1 \\\\\n",
       "\t10 & -62 & -60 & -66 & -68 & -80 & -86 & -91 & 1 \\\\\n",
       "\t11 & -67 & -61 & -62 & -67 & -77 & -83 & -91 & 1 \\\\\n",
       "\t12 & -65 & -59 & -61 & -67 & -72 & -86 & -81 & 1 \\\\\n",
       "\t13 & -63 & -57 & -61 & -65 & -73 & -84 & -84 & 1 \\\\\n",
       "\t14 & -66 & -60 & -65 & -62 & -70 & -85 & -83 & 1 \\\\\n",
       "\t15 & -61 & -59 & -65 & -63 & -74 & -89 & -87 & 1 \\\\\n",
       "\t16 & -67 & -60 & -59 & -61 & -71 & -86 & -91 & 1 \\\\\n",
       "\t17 & -63 & -56 & -60 & -62 & -70 & -84 & -91 & 1 \\\\\n",
       "\t18 & -60 & -54 & -59 & -65 & -73 & -83 & -84 & 1 \\\\\n",
       "\t19 & -60 & -58 & -60 & -61 & -73 & -84 & -88 & 1 \\\\\n",
       "\t20 & -62 & -59 & -63 & -64 & -70 & -84 & -84 & 1 \\\\\n",
       "\t21 & -63 & -59 & -64 & -66 & -72 & -84 & -90 & 1 \\\\\n",
       "\t22 & -65 & -59 & -66 & -65 & -68 & -82 & -85 & 1 \\\\\n",
       "\t23 & -63 & -56 & -63 & -65 & -72 & -82 & -89 & 1 \\\\\n",
       "\t24 & -67 & -60 & -66 & -65 & -75 & -86 & -87 & 1 \\\\\n",
       "\t25 & -63 & -57 & -67 & -66 & -79 & -86 & -89 & 1 \\\\\n",
       "\t26 & -66 & -59 & -64 & -68 & -68 & -97 & -83 & 1 \\\\\n",
       "\t27 & -65 & -61 & -64 & -68 & -77 & -86 & -89 & 1 \\\\\n",
       "\t28 & -66 & -57 & -65 & -69 & -78 & -85 & -85 & 1 \\\\\n",
       "\t29 & -67 & -57 & -64 & -71 & -75 & -89 & -87 & 1 \\\\\n",
       "\t30 & -65 & -62 & -62 & -65 & -77 & -84 & -85 & 1 \\\\\n",
       "\t$\\dots$ & $\\dots$ & $\\dots$ & $\\dots$ & $\\dots$ & $\\dots$ & $\\dots$ & $\\dots$ & $\\dots$ \\\\\n",
       "\\end{tabular}\n"
      ],
      "text/plain": [
       "2000×8 DataFrame. Omitted printing of 1 columns\n",
       "│ Row  │ Column1 │ Column2 │ Column3 │ Column4 │ Column5 │ Column6 │ Column7 │\n",
       "│      │ \u001b[90mInt64\u001b[39m   │ \u001b[90mInt64\u001b[39m   │ \u001b[90mInt64\u001b[39m   │ \u001b[90mInt64\u001b[39m   │ \u001b[90mInt64\u001b[39m   │ \u001b[90mInt64\u001b[39m   │ \u001b[90mInt64\u001b[39m   │\n",
       "├──────┼─────────┼─────────┼─────────┼─────────┼─────────┼─────────┼─────────┤\n",
       "│ 1    │ -64     │ -56     │ -61     │ -66     │ -71     │ -82     │ -81     │\n",
       "│ 2    │ -68     │ -57     │ -61     │ -65     │ -71     │ -85     │ -85     │\n",
       "│ 3    │ -63     │ -60     │ -60     │ -67     │ -76     │ -85     │ -84     │\n",
       "│ 4    │ -61     │ -60     │ -68     │ -62     │ -77     │ -90     │ -80     │\n",
       "│ 5    │ -63     │ -65     │ -60     │ -63     │ -77     │ -81     │ -87     │\n",
       "│ 6    │ -64     │ -55     │ -63     │ -66     │ -76     │ -88     │ -83     │\n",
       "│ 7    │ -65     │ -61     │ -65     │ -67     │ -69     │ -87     │ -84     │\n",
       "│ 8    │ -61     │ -63     │ -58     │ -66     │ -74     │ -87     │ -82     │\n",
       "│ 9    │ -65     │ -60     │ -59     │ -63     │ -76     │ -86     │ -82     │\n",
       "│ 10   │ -62     │ -60     │ -66     │ -68     │ -80     │ -86     │ -91     │\n",
       "⋮\n",
       "│ 1990 │ -56     │ -55     │ -54     │ -61     │ -46     │ -79     │ -79     │\n",
       "│ 1991 │ -57     │ -54     │ -49     │ -61     │ -43     │ -79     │ -85     │\n",
       "│ 1992 │ -59     │ -53     │ -45     │ -57     │ -45     │ -81     │ -82     │\n",
       "│ 1993 │ -57     │ -56     │ -53     │ -62     │ -48     │ -87     │ -88     │\n",
       "│ 1994 │ -63     │ -55     │ -50     │ -63     │ -50     │ -91     │ -85     │\n",
       "│ 1995 │ -61     │ -54     │ -51     │ -63     │ -44     │ -87     │ -88     │\n",
       "│ 1996 │ -59     │ -59     │ -48     │ -66     │ -50     │ -86     │ -94     │\n",
       "│ 1997 │ -59     │ -56     │ -50     │ -62     │ -47     │ -87     │ -90     │\n",
       "│ 1998 │ -62     │ -59     │ -46     │ -65     │ -45     │ -87     │ -88     │\n",
       "│ 1999 │ -62     │ -58     │ -52     │ -61     │ -41     │ -90     │ -85     │\n",
       "│ 2000 │ -59     │ -50     │ -45     │ -60     │ -45     │ -88     │ -87     │"
      ]
     },
     "execution_count": 47,
     "metadata": {},
     "output_type": "execute_result"
    }
   ],
   "source": [
    "df = CSV.read(\"localization.csv\", header=false)"
   ]
  },
  {
   "cell_type": "code",
   "execution_count": 48,
   "metadata": {},
   "outputs": [
    {
     "name": "stderr",
     "output_type": "stream",
     "text": [
      "┌ Warning: `getindex(df::DataFrame, col_inds::Union{AbstractVector, Regex, Not})` is deprecated, use `df[:, col_inds]` instead.\n",
      "│   caller = top-level scope at In[48]:1\n",
      "└ @ Core In[48]:1\n",
      "┌ Warning: `setindex!(df::DataFrame, v::AbstractVector, col_ind::ColumnIndex)` is deprecated, use `begin\n",
      "│     df[!, col_ind] = v\n",
      "│     df\n",
      "│ end` instead.\n",
      "│   caller = top-level scope at In[48]:1\n",
      "└ @ Core In[48]:1\n"
     ]
    },
    {
     "data": {
      "text/plain": [
       "2000-element Array{Float64,1}:\n",
       " -3829.9979080040703\n",
       " -3964.9890816077314\n",
       " -3940.004605436743\n",
       " -3874.9929794174927\n",
       " -3900.0050550638493\n",
       " -3960.010134475105\n",
       " -3979.9985369219976\n",
       " -3909.9979774125964\n",
       " -3884.986172468431\n",
       " -4100.019915758299\n",
       " -4069.988543717358\n",
       " -3905.0079808945056\n",
       " -3904.9822393634877\n",
       "     ⋮\n",
       " -3815.0153625425623\n",
       " -3655.0016119384964\n",
       " -3780.006282070347\n",
       " -3719.9943661015855\n",
       " -3970.00487155771\n",
       " -4010.00504834897\n",
       " -3999.9817748082974\n",
       " -4125.007861805372\n",
       " -4019.9922962258843\n",
       " -4025.014463848183\n",
       " -3969.998083798988\n",
       " -3954.990293520874"
      ]
     },
     "execution_count": 48,
     "metadata": {},
     "output_type": "execute_result"
    }
   ],
   "source": [
    "df[:RegressionTarget] = Matrix(df[[1, 4, 6, 7]]) * [5, 10, 15, 20] + 0.01*randn(2000)"
   ]
  },
  {
   "cell_type": "code",
   "execution_count": 52,
   "metadata": {},
   "outputs": [
    {
     "name": "stderr",
     "output_type": "stream",
     "text": [
      "┌ Warning: `getindex(df::DataFrame, col_inds::Union{AbstractVector, Regex, Not})` is deprecated, use `df[:, col_inds]` instead.\n",
      "│   caller = top-level scope at In[52]:1\n",
      "└ @ Core In[52]:1\n"
     ]
    },
    {
     "data": {
      "text/plain": [
       "2000×7 Array{Float64,2}:\n",
       " 0.478077   1.28936   0.782308   0.275256    -0.231795   -1.34731   -1.2459\n",
       " 0.207303   1.20495   0.84217    0.479389    -0.0647823  -1.33451   -1.33451\n",
       " 0.708444   0.98395   0.98395    0.341103    -0.485416   -1.31193   -1.2201\n",
       " 0.884579   0.971791  0.274095   0.797367    -0.510813   -1.64457   -0.772449\n",
       " 0.739762   0.551459  1.02222    0.739762    -0.578359   -0.954965  -1.51987\n",
       " 0.563639   1.31916   0.647586   0.395747    -0.443716   -1.45107   -1.03134\n",
       " 0.605834   1.00033   0.605834   0.408586     0.211337   -1.5639    -1.26802\n",
       " 0.823905   0.643676  1.09425    0.373332    -0.347585   -1.51908   -1.0685\n",
       " 0.465976   0.919009  1.00962    0.647189    -0.530695   -1.43676   -1.07433\n",
       " 0.918708   1.08152   0.59309    0.430281    -0.546573   -1.035     -1.44202\n",
       " 0.489995   1.01768   0.929733   0.489995    -0.389483   -0.917169  -1.62075\n",
       " 0.50721    1.09895   0.901707   0.309962    -0.183159   -1.5639    -1.07078\n",
       " 0.598345   1.14466   0.78045    0.41624     -0.31218    -1.31376   -1.31376\n",
       " ⋮                                                        ⋮         \n",
       " 0.352411   0.482247  0.806836   0.352411     0.871754   -1.40037   -1.46529\n",
       " 0.424393   0.502571  0.580749   0.0335047    1.20617    -1.37369   -1.37369\n",
       " 0.268086   0.462217  0.785769   0.00924434   1.17403    -1.15554   -1.54381\n",
       " 0.0831825  0.471368  0.988948   0.212578     0.988948   -1.34016   -1.40486\n",
       " 0.455231   0.516512  0.700355   0.148825     1.00676    -1.3832    -1.44448\n",
       " 0.138531   0.62339   0.926427   0.138531     0.926427   -1.55848   -1.19483\n",
       " 0.17398    0.579934  0.753914   0.0579934    1.15987    -1.33385   -1.39184\n",
       " 0.39736    0.39736   1.02178    0.0          0.908251   -1.13531   -1.58944\n",
       " 0.315023   0.489115  0.837298   0.140931     1.01139    -1.30983   -1.48392\n",
       " 0.147736   0.320095  1.06698   -0.0246227    1.12444    -1.28859   -1.34604\n",
       " 0.122404   0.350891  0.693621   0.179526     1.32196    -1.47701   -1.1914\n",
       " 0.162858   0.65143   0.92286    0.108572     0.92286    -1.41143   -1.35715"
      ]
     },
     "execution_count": 52,
     "metadata": {},
     "output_type": "execute_result"
    }
   ],
   "source": [
    "X = StatsBase.standardize(ZScoreTransform, map(Float64, Matrix(df[1:7])), dims=2)"
   ]
  },
  {
   "cell_type": "code",
   "execution_count": 54,
   "metadata": {},
   "outputs": [
    {
     "ename": "UndefVarError",
     "evalue": "UndefVarError: kmeans not defined",
     "output_type": "error",
     "traceback": [
      "UndefVarError: kmeans not defined",
      "",
      "Stacktrace:",
      " [1] top-level scope at In[54]:1"
     ]
    }
   ],
   "source": []
  },
  {
   "cell_type": "code",
   "execution_count": null,
   "metadata": {},
   "outputs": [],
   "source": []
  }
 ],
 "metadata": {
  "kernelspec": {
   "display_name": "Julia 1.4.2",
   "language": "julia",
   "name": "julia-1.4"
  },
  "language_info": {
   "file_extension": ".jl",
   "mimetype": "application/julia",
   "name": "julia",
   "version": "1.4.2"
  }
 },
 "nbformat": 4,
 "nbformat_minor": 4
}
