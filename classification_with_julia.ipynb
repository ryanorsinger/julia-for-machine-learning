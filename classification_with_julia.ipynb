{
 "cells": [
  {
   "cell_type": "code",
   "execution_count": 5,
   "metadata": {},
   "outputs": [],
   "source": [
    "using CSV, DataFrames, StatsBase, DecisionTree"
   ]
  },
  {
   "cell_type": "code",
   "execution_count": 6,
   "metadata": {},
   "outputs": [
    {
     "name": "stderr",
     "output_type": "stream",
     "text": [
      "┌ Warning: `CSV.read(input; kw...)` is deprecated in favor of `DataFrame!(CSV.File(input; kw...))`\n",
      "└ @ CSV /Users/xronos/.julia/packages/CSV/OM6FO/src/CSV.jl:40\n"
     ]
    },
    {
     "data": {
      "text/html": [
       "<table class=\"data-frame\"><thead><tr><th></th><th>Column1</th><th>Column2</th><th>Column3</th><th>Column4</th><th>Column5</th><th>Column6</th><th>Column7</th><th>Column8</th></tr><tr><th></th><th>Int64</th><th>Int64</th><th>Int64</th><th>Int64</th><th>Int64</th><th>Int64</th><th>Int64</th><th>Int64</th></tr></thead><tbody><p>2,000 rows × 8 columns</p><tr><th>1</th><td>-64</td><td>-56</td><td>-61</td><td>-66</td><td>-71</td><td>-82</td><td>-81</td><td>1</td></tr><tr><th>2</th><td>-68</td><td>-57</td><td>-61</td><td>-65</td><td>-71</td><td>-85</td><td>-85</td><td>1</td></tr><tr><th>3</th><td>-63</td><td>-60</td><td>-60</td><td>-67</td><td>-76</td><td>-85</td><td>-84</td><td>1</td></tr><tr><th>4</th><td>-61</td><td>-60</td><td>-68</td><td>-62</td><td>-77</td><td>-90</td><td>-80</td><td>1</td></tr><tr><th>5</th><td>-63</td><td>-65</td><td>-60</td><td>-63</td><td>-77</td><td>-81</td><td>-87</td><td>1</td></tr><tr><th>6</th><td>-64</td><td>-55</td><td>-63</td><td>-66</td><td>-76</td><td>-88</td><td>-83</td><td>1</td></tr><tr><th>7</th><td>-65</td><td>-61</td><td>-65</td><td>-67</td><td>-69</td><td>-87</td><td>-84</td><td>1</td></tr><tr><th>8</th><td>-61</td><td>-63</td><td>-58</td><td>-66</td><td>-74</td><td>-87</td><td>-82</td><td>1</td></tr><tr><th>9</th><td>-65</td><td>-60</td><td>-59</td><td>-63</td><td>-76</td><td>-86</td><td>-82</td><td>1</td></tr><tr><th>10</th><td>-62</td><td>-60</td><td>-66</td><td>-68</td><td>-80</td><td>-86</td><td>-91</td><td>1</td></tr><tr><th>11</th><td>-67</td><td>-61</td><td>-62</td><td>-67</td><td>-77</td><td>-83</td><td>-91</td><td>1</td></tr><tr><th>12</th><td>-65</td><td>-59</td><td>-61</td><td>-67</td><td>-72</td><td>-86</td><td>-81</td><td>1</td></tr><tr><th>13</th><td>-63</td><td>-57</td><td>-61</td><td>-65</td><td>-73</td><td>-84</td><td>-84</td><td>1</td></tr><tr><th>14</th><td>-66</td><td>-60</td><td>-65</td><td>-62</td><td>-70</td><td>-85</td><td>-83</td><td>1</td></tr><tr><th>15</th><td>-61</td><td>-59</td><td>-65</td><td>-63</td><td>-74</td><td>-89</td><td>-87</td><td>1</td></tr><tr><th>16</th><td>-67</td><td>-60</td><td>-59</td><td>-61</td><td>-71</td><td>-86</td><td>-91</td><td>1</td></tr><tr><th>17</th><td>-63</td><td>-56</td><td>-60</td><td>-62</td><td>-70</td><td>-84</td><td>-91</td><td>1</td></tr><tr><th>18</th><td>-60</td><td>-54</td><td>-59</td><td>-65</td><td>-73</td><td>-83</td><td>-84</td><td>1</td></tr><tr><th>19</th><td>-60</td><td>-58</td><td>-60</td><td>-61</td><td>-73</td><td>-84</td><td>-88</td><td>1</td></tr><tr><th>20</th><td>-62</td><td>-59</td><td>-63</td><td>-64</td><td>-70</td><td>-84</td><td>-84</td><td>1</td></tr><tr><th>21</th><td>-63</td><td>-59</td><td>-64</td><td>-66</td><td>-72</td><td>-84</td><td>-90</td><td>1</td></tr><tr><th>22</th><td>-65</td><td>-59</td><td>-66</td><td>-65</td><td>-68</td><td>-82</td><td>-85</td><td>1</td></tr><tr><th>23</th><td>-63</td><td>-56</td><td>-63</td><td>-65</td><td>-72</td><td>-82</td><td>-89</td><td>1</td></tr><tr><th>24</th><td>-67</td><td>-60</td><td>-66</td><td>-65</td><td>-75</td><td>-86</td><td>-87</td><td>1</td></tr><tr><th>25</th><td>-63</td><td>-57</td><td>-67</td><td>-66</td><td>-79</td><td>-86</td><td>-89</td><td>1</td></tr><tr><th>26</th><td>-66</td><td>-59</td><td>-64</td><td>-68</td><td>-68</td><td>-97</td><td>-83</td><td>1</td></tr><tr><th>27</th><td>-65</td><td>-61</td><td>-64</td><td>-68</td><td>-77</td><td>-86</td><td>-89</td><td>1</td></tr><tr><th>28</th><td>-66</td><td>-57</td><td>-65</td><td>-69</td><td>-78</td><td>-85</td><td>-85</td><td>1</td></tr><tr><th>29</th><td>-67</td><td>-57</td><td>-64</td><td>-71</td><td>-75</td><td>-89</td><td>-87</td><td>1</td></tr><tr><th>30</th><td>-65</td><td>-62</td><td>-62</td><td>-65</td><td>-77</td><td>-84</td><td>-85</td><td>1</td></tr><tr><th>&vellip;</th><td>&vellip;</td><td>&vellip;</td><td>&vellip;</td><td>&vellip;</td><td>&vellip;</td><td>&vellip;</td><td>&vellip;</td><td>&vellip;</td></tr></tbody></table>"
      ],
      "text/latex": [
       "\\begin{tabular}{r|cccccccc}\n",
       "\t& Column1 & Column2 & Column3 & Column4 & Column5 & Column6 & Column7 & Column8\\\\\n",
       "\t\\hline\n",
       "\t& Int64 & Int64 & Int64 & Int64 & Int64 & Int64 & Int64 & Int64\\\\\n",
       "\t\\hline\n",
       "\t1 & -64 & -56 & -61 & -66 & -71 & -82 & -81 & 1 \\\\\n",
       "\t2 & -68 & -57 & -61 & -65 & -71 & -85 & -85 & 1 \\\\\n",
       "\t3 & -63 & -60 & -60 & -67 & -76 & -85 & -84 & 1 \\\\\n",
       "\t4 & -61 & -60 & -68 & -62 & -77 & -90 & -80 & 1 \\\\\n",
       "\t5 & -63 & -65 & -60 & -63 & -77 & -81 & -87 & 1 \\\\\n",
       "\t6 & -64 & -55 & -63 & -66 & -76 & -88 & -83 & 1 \\\\\n",
       "\t7 & -65 & -61 & -65 & -67 & -69 & -87 & -84 & 1 \\\\\n",
       "\t8 & -61 & -63 & -58 & -66 & -74 & -87 & -82 & 1 \\\\\n",
       "\t9 & -65 & -60 & -59 & -63 & -76 & -86 & -82 & 1 \\\\\n",
       "\t10 & -62 & -60 & -66 & -68 & -80 & -86 & -91 & 1 \\\\\n",
       "\t11 & -67 & -61 & -62 & -67 & -77 & -83 & -91 & 1 \\\\\n",
       "\t12 & -65 & -59 & -61 & -67 & -72 & -86 & -81 & 1 \\\\\n",
       "\t13 & -63 & -57 & -61 & -65 & -73 & -84 & -84 & 1 \\\\\n",
       "\t14 & -66 & -60 & -65 & -62 & -70 & -85 & -83 & 1 \\\\\n",
       "\t15 & -61 & -59 & -65 & -63 & -74 & -89 & -87 & 1 \\\\\n",
       "\t16 & -67 & -60 & -59 & -61 & -71 & -86 & -91 & 1 \\\\\n",
       "\t17 & -63 & -56 & -60 & -62 & -70 & -84 & -91 & 1 \\\\\n",
       "\t18 & -60 & -54 & -59 & -65 & -73 & -83 & -84 & 1 \\\\\n",
       "\t19 & -60 & -58 & -60 & -61 & -73 & -84 & -88 & 1 \\\\\n",
       "\t20 & -62 & -59 & -63 & -64 & -70 & -84 & -84 & 1 \\\\\n",
       "\t21 & -63 & -59 & -64 & -66 & -72 & -84 & -90 & 1 \\\\\n",
       "\t22 & -65 & -59 & -66 & -65 & -68 & -82 & -85 & 1 \\\\\n",
       "\t23 & -63 & -56 & -63 & -65 & -72 & -82 & -89 & 1 \\\\\n",
       "\t24 & -67 & -60 & -66 & -65 & -75 & -86 & -87 & 1 \\\\\n",
       "\t25 & -63 & -57 & -67 & -66 & -79 & -86 & -89 & 1 \\\\\n",
       "\t26 & -66 & -59 & -64 & -68 & -68 & -97 & -83 & 1 \\\\\n",
       "\t27 & -65 & -61 & -64 & -68 & -77 & -86 & -89 & 1 \\\\\n",
       "\t28 & -66 & -57 & -65 & -69 & -78 & -85 & -85 & 1 \\\\\n",
       "\t29 & -67 & -57 & -64 & -71 & -75 & -89 & -87 & 1 \\\\\n",
       "\t30 & -65 & -62 & -62 & -65 & -77 & -84 & -85 & 1 \\\\\n",
       "\t$\\dots$ & $\\dots$ & $\\dots$ & $\\dots$ & $\\dots$ & $\\dots$ & $\\dots$ & $\\dots$ & $\\dots$ \\\\\n",
       "\\end{tabular}\n"
      ],
      "text/plain": [
       "2000×8 DataFrame. Omitted printing of 1 columns\n",
       "│ Row  │ Column1 │ Column2 │ Column3 │ Column4 │ Column5 │ Column6 │ Column7 │\n",
       "│      │ \u001b[90mInt64\u001b[39m   │ \u001b[90mInt64\u001b[39m   │ \u001b[90mInt64\u001b[39m   │ \u001b[90mInt64\u001b[39m   │ \u001b[90mInt64\u001b[39m   │ \u001b[90mInt64\u001b[39m   │ \u001b[90mInt64\u001b[39m   │\n",
       "├──────┼─────────┼─────────┼─────────┼─────────┼─────────┼─────────┼─────────┤\n",
       "│ 1    │ -64     │ -56     │ -61     │ -66     │ -71     │ -82     │ -81     │\n",
       "│ 2    │ -68     │ -57     │ -61     │ -65     │ -71     │ -85     │ -85     │\n",
       "│ 3    │ -63     │ -60     │ -60     │ -67     │ -76     │ -85     │ -84     │\n",
       "│ 4    │ -61     │ -60     │ -68     │ -62     │ -77     │ -90     │ -80     │\n",
       "│ 5    │ -63     │ -65     │ -60     │ -63     │ -77     │ -81     │ -87     │\n",
       "│ 6    │ -64     │ -55     │ -63     │ -66     │ -76     │ -88     │ -83     │\n",
       "│ 7    │ -65     │ -61     │ -65     │ -67     │ -69     │ -87     │ -84     │\n",
       "│ 8    │ -61     │ -63     │ -58     │ -66     │ -74     │ -87     │ -82     │\n",
       "│ 9    │ -65     │ -60     │ -59     │ -63     │ -76     │ -86     │ -82     │\n",
       "│ 10   │ -62     │ -60     │ -66     │ -68     │ -80     │ -86     │ -91     │\n",
       "⋮\n",
       "│ 1990 │ -56     │ -55     │ -54     │ -61     │ -46     │ -79     │ -79     │\n",
       "│ 1991 │ -57     │ -54     │ -49     │ -61     │ -43     │ -79     │ -85     │\n",
       "│ 1992 │ -59     │ -53     │ -45     │ -57     │ -45     │ -81     │ -82     │\n",
       "│ 1993 │ -57     │ -56     │ -53     │ -62     │ -48     │ -87     │ -88     │\n",
       "│ 1994 │ -63     │ -55     │ -50     │ -63     │ -50     │ -91     │ -85     │\n",
       "│ 1995 │ -61     │ -54     │ -51     │ -63     │ -44     │ -87     │ -88     │\n",
       "│ 1996 │ -59     │ -59     │ -48     │ -66     │ -50     │ -86     │ -94     │\n",
       "│ 1997 │ -59     │ -56     │ -50     │ -62     │ -47     │ -87     │ -90     │\n",
       "│ 1998 │ -62     │ -59     │ -46     │ -65     │ -45     │ -87     │ -88     │\n",
       "│ 1999 │ -62     │ -58     │ -52     │ -61     │ -41     │ -90     │ -85     │\n",
       "│ 2000 │ -59     │ -50     │ -45     │ -60     │ -45     │ -88     │ -87     │"
      ]
     },
     "execution_count": 6,
     "metadata": {},
     "output_type": "execute_result"
    }
   ],
   "source": [
    "df = CSV.read(\"localization.csv\", header=false)"
   ]
  },
  {
   "cell_type": "code",
   "execution_count": 10,
   "metadata": {},
   "outputs": [
    {
     "name": "stderr",
     "output_type": "stream",
     "text": [
      "┌ Warning: `getindex(df::DataFrame, col_inds::Union{AbstractVector, Regex, Not})` is deprecated, use `df[:, col_inds]` instead.\n",
      "│   caller = top-level scope at In[10]:1\n",
      "└ @ Core In[10]:1\n"
     ]
    },
    {
     "data": {
      "text/plain": [
       "7×2000 LinearAlgebra.Transpose{Float64,Array{Float64,2}}:\n",
       "  0.478077   0.207303    0.708444  …   0.147736    0.122404   0.162858\n",
       "  1.28936    1.20495     0.98395       0.320095    0.350891   0.65143\n",
       "  0.782308   0.84217     0.98395       1.06698     0.693621   0.92286\n",
       "  0.275256   0.479389    0.341103     -0.0246227   0.179526   0.108572\n",
       " -0.231795  -0.0647823  -0.485416      1.12444     1.32196    0.92286\n",
       " -1.34731   -1.33451    -1.31193   …  -1.28859    -1.47701   -1.41143\n",
       " -1.2459    -1.33451    -1.2201       -1.34604    -1.1914    -1.35715"
      ]
     },
     "execution_count": 10,
     "metadata": {},
     "output_type": "execute_result"
    }
   ],
   "source": [
    "# Turn all the values into float64\n",
    "XX = map(Float64, Matrix(df[1:7]))\n",
    "\n",
    "# Standardize (normalize using ZScore)\n",
    "X = StatsBase.standardize(ZScoreTransform, XX, dims=2)\n",
    "\n",
    "# transpose this puppy\n",
    "XX = transpose(X)"
   ]
  },
  {
   "cell_type": "code",
   "execution_count": 12,
   "metadata": {},
   "outputs": [
    {
     "data": {
      "text/plain": [
       "DecisionTreeClassifier\n",
       "max_depth:                3\n",
       "min_samples_leaf:         1\n",
       "min_samples_split:        2\n",
       "min_purity_increase:      0.0\n",
       "pruning_purity_threshold: 1.0\n",
       "n_subfeatures:            0\n",
       "classes:                  nothing\n",
       "root:                     nothing"
      ]
     },
     "execution_count": 12,
     "metadata": {},
     "output_type": "execute_result"
    }
   ],
   "source": [
    "# max_depth specifies how many splits in the tree (at most)\n",
    "tree = DecisionTreeClassifier(max_depth=3)"
   ]
  },
  {
   "cell_type": "code",
   "execution_count": 14,
   "metadata": {},
   "outputs": [
    {
     "ename": "UndefVarError",
     "evalue": "UndefVarError: train not defined",
     "output_type": "error",
     "traceback": [
      "UndefVarError: train not defined",
      "",
      "Stacktrace:",
      " [1] top-level scope at In[14]:1"
     ]
    }
   ],
   "source": [
    "DecisionTree.fit!(tree, XX[train,:], y1[train])"
   ]
  },
  {
   "cell_type": "code",
   "execution_count": null,
   "metadata": {},
   "outputs": [],
   "source": []
  }
 ],
 "metadata": {
  "kernelspec": {
   "display_name": "Julia 1.5.1",
   "language": "julia",
   "name": "julia-1.5"
  },
  "language_info": {
   "file_extension": ".jl",
   "mimetype": "application/julia",
   "name": "julia",
   "version": "1.5.1"
  }
 },
 "nbformat": 4,
 "nbformat_minor": 4
}
