{
 "cells": [
  {
   "cell_type": "markdown",
   "metadata": {},
   "source": [
    "# Chapter 7 code for Julia for Machine Learning book"
   ]
  },
  {
   "cell_type": "markdown",
   "metadata": {},
   "source": [
    "(c) 2020 by Zacharias Voulgaris, all rights reserved."
   ]
  },
  {
   "cell_type": "markdown",
   "metadata": {},
   "source": [
    "This code has been tested for Julia 1.4.1. "
   ]
  },
  {
   "cell_type": "markdown",
   "metadata": {},
   "source": [
    " "
   ]
  },
  {
   "cell_type": "markdown",
   "metadata": {},
   "source": [
    "# Initialization"
   ]
  },
  {
   "cell_type": "markdown",
   "metadata": {},
   "source": [
    "### Packages and relevant script"
   ]
  },
  {
   "cell_type": "code",
   "execution_count": 1,
   "metadata": {},
   "outputs": [],
   "source": [
    "using CSV, DataFrames;"
   ]
  },
  {
   "cell_type": "code",
   "execution_count": 2,
   "metadata": {},
   "outputs": [],
   "source": [
    "using StatsBase, Statistics;"
   ]
  },
  {
   "cell_type": "code",
   "execution_count": 3,
   "metadata": {},
   "outputs": [
    {
     "name": "stderr",
     "output_type": "stream",
     "text": [
      "┌ Info: Precompiling Plots [91a5bcdd-55d7-5caf-9e0b-520d859cae80]\n",
      "└ @ Base loading.jl:1260\n"
     ]
    }
   ],
   "source": [
    "using Plots;"
   ]
  },
  {
   "cell_type": "code",
   "execution_count": 4,
   "metadata": {},
   "outputs": [
    {
     "name": "stderr",
     "output_type": "stream",
     "text": [
      "┌ Info: Precompiling ROC [e4f92426-8875-4712-a903-a153c75bec82]\n",
      "└ @ Base loading.jl:1260\n"
     ]
    }
   ],
   "source": [
    "using ROC;"
   ]
  },
  {
   "cell_type": "code",
   "execution_count": 5,
   "metadata": {},
   "outputs": [],
   "source": [
    "using Random;"
   ]
  },
  {
   "cell_type": "code",
   "execution_count": 6,
   "metadata": {},
   "outputs": [],
   "source": [
    "include(\"fknn.jl\");"
   ]
  },
  {
   "cell_type": "markdown",
   "metadata": {},
   "source": [
    "### Parameters for this project"
   ]
  },
  {
   "cell_type": "code",
   "execution_count": 7,
   "metadata": {},
   "outputs": [],
   "source": [
    "K = 5; # K-fold cross validation\n",
    "k = 4; # number of neighbors\n",
    "m = 3; # m parameter of fknn model"
   ]
  },
  {
   "cell_type": "markdown",
   "metadata": {},
   "source": [
    "Note: if you got an alarming large area of red in the outputs of these commands, don't panic. Most of these are just warnings that most likely won't affect the experience of using these packages. Also, the first time you run these packages it is bound to take more time than other times.\n",
    " "
   ]
  },
  {
   "cell_type": "markdown",
   "metadata": {},
   "source": [
    "### Auxiliary functions for model evaluation"
   ]
  },
  {
   "cell_type": "code",
   "execution_count": 8,
   "metadata": {},
   "outputs": [
    {
     "data": {
      "text/plain": [
       "F1_score (generic function with 1 method)"
      ]
     },
     "execution_count": 8,
     "metadata": {},
     "output_type": "execute_result"
    }
   ],
   "source": [
    "function F1_score(yy::Array{Int64, 1}, y::Array{Int64, 1})\n",
    "    TP = sum((yy .== 1) .== (y .== 1))\n",
    "    if TP == 0; return 0.0; end\n",
    "    FP = sum((yy .== 1) .& (y .== 0))\n",
    "    FN = sum((yy .== 0) .& (y .== 1))\n",
    "    P = 1 / (1 + FP / TP)\n",
    "    R = 1 / (1 + FN / TP)\n",
    "    return 2*P*R/(P + R)\n",
    "end"
   ]
  },
  {
   "cell_type": "code",
   "execution_count": 9,
   "metadata": {},
   "outputs": [
    {
     "data": {
      "text/plain": [
       "CombinePredictionsWithConfidence (generic function with 2 methods)"
      ]
     },
     "execution_count": 9,
     "metadata": {},
     "output_type": "execute_result"
    }
   ],
   "source": [
    "# a function for merging the predictions of a model with its confidence to create a variable that can be used with the roc() function\n",
    "function CombinePredictionsWithConfidence(yy::Array{Int64, 1}, c::Array{Float64, 1}, n::Int64 = length(yy))\n",
    "    yc = Array{Float64}(undef, n)\n",
    "\n",
    "    for i = 1:n\n",
    "        if yy[i] .== 1\n",
    "            yc[i] = c[i]\n",
    "        else\n",
    "            yc[i] = 1.0 - c[i]\n",
    "        end\n",
    "    end\n",
    "    \n",
    "    return yc\n",
    "end"
   ]
  },
  {
   "cell_type": "markdown",
   "metadata": {},
   "source": [
    "# Load data from winequality-all.csv file and create new target variable"
   ]
  },
  {
   "cell_type": "code",
   "execution_count": 10,
   "metadata": {},
   "outputs": [],
   "source": [
    "data = Matrix(CSV.read(\"winequality-all.csv\"; delim=';', header = true));"
   ]
  },
  {
   "cell_type": "code",
   "execution_count": 11,
   "metadata": {},
   "outputs": [
    {
     "data": {
      "text/plain": [
       "10×12 Array{Float64,2}:\n",
       " 7.0  0.27  0.36  20.7  0.045  45.0  170.0  1.001   3.0   0.45   8.8  6.0\n",
       " 6.3  0.3   0.34   1.6  0.049  14.0  132.0  0.994   3.3   0.49   9.5  6.0\n",
       " 8.1  0.28  0.4    6.9  0.05   30.0   97.0  0.9951  3.26  0.44  10.1  6.0\n",
       " 7.2  0.23  0.32   8.5  0.058  47.0  186.0  0.9956  3.19  0.4    9.9  6.0\n",
       " 7.2  0.23  0.32   8.5  0.058  47.0  186.0  0.9956  3.19  0.4    9.9  6.0\n",
       " 8.1  0.28  0.4    6.9  0.05   30.0   97.0  0.9951  3.26  0.44  10.1  6.0\n",
       " 6.2  0.32  0.16   7.0  0.045  30.0  136.0  0.9949  3.18  0.47   9.6  6.0\n",
       " 7.0  0.27  0.36  20.7  0.045  45.0  170.0  1.001   3.0   0.45   8.8  6.0\n",
       " 6.3  0.3   0.34   1.6  0.049  14.0  132.0  0.994   3.3   0.49   9.5  6.0\n",
       " 8.1  0.22  0.43   1.5  0.044  28.0  129.0  0.9938  3.22  0.45  11.0  6.0"
      ]
     },
     "execution_count": 11,
     "metadata": {},
     "output_type": "execute_result"
    }
   ],
   "source": [
    "data[1:10,:]"
   ]
  },
  {
   "cell_type": "code",
   "execution_count": 12,
   "metadata": {},
   "outputs": [
    {
     "data": {
      "text/plain": [
       "(6497, 12)"
      ]
     },
     "execution_count": 12,
     "metadata": {},
     "output_type": "execute_result"
    }
   ],
   "source": [
    "N, nf = size(data) # number of data points and features"
   ]
  },
  {
   "cell_type": "code",
   "execution_count": 13,
   "metadata": {},
   "outputs": [],
   "source": [
    "nf -= 1; # don't count the target variable"
   ]
  },
  {
   "cell_type": "code",
   "execution_count": 14,
   "metadata": {},
   "outputs": [],
   "source": [
    "X = data[:, 1:nf];"
   ]
  },
  {
   "cell_type": "code",
   "execution_count": 15,
   "metadata": {},
   "outputs": [],
   "source": [
    "temp = data[:,end];"
   ]
  },
  {
   "cell_type": "code",
   "execution_count": 16,
   "metadata": {},
   "outputs": [],
   "source": [
    "y = Int64.(temp .> 5.8); # 5.8 is the average value of the target variable"
   ]
  },
  {
   "cell_type": "code",
   "execution_count": 17,
   "metadata": {},
   "outputs": [
    {
     "data": {
      "text/plain": [
       "2-element Array{Int64,1}:\n",
       " 1\n",
       " 0"
      ]
     },
     "execution_count": 17,
     "metadata": {},
     "output_type": "execute_result"
    }
   ],
   "source": [
    "unique(y)"
   ]
  },
  {
   "cell_type": "markdown",
   "metadata": {},
   "source": [
    "# Work the data using StatsBase package"
   ]
  },
  {
   "cell_type": "code",
   "execution_count": 18,
   "metadata": {},
   "outputs": [
    {
     "data": {
      "text/plain": [
       "1×11 Array{Float64,2}:\n",
       " 7.21531  0.339666  0.318633  5.44324  …  0.994697  3.2185  0.531268  10.4918"
      ]
     },
     "execution_count": 18,
     "metadata": {},
     "output_type": "execute_result"
    }
   ],
   "source": [
    "mean(X, dims=1)"
   ]
  },
  {
   "cell_type": "code",
   "execution_count": 19,
   "metadata": {},
   "outputs": [
    {
     "data": {
      "text/plain": [
       "1×11 Array{Float64,2}:\n",
       " 1.29643  0.164636  0.145318  4.7578  …  0.160787  0.148806  1.19271"
      ]
     },
     "execution_count": 19,
     "metadata": {},
     "output_type": "execute_result"
    }
   ],
   "source": [
    "std(X, dims=1)"
   ]
  },
  {
   "cell_type": "code",
   "execution_count": 20,
   "metadata": {},
   "outputs": [],
   "source": [
    "X_norm = Array{Float64}(undef, N, nf);"
   ]
  },
  {
   "cell_type": "code",
   "execution_count": 23,
   "metadata": {},
   "outputs": [],
   "source": [
    "for i = 1:nf\n",
    "    dt = StatsBase.fit(ZScoreTransform, X[:,i], dims=1); # normalization model\n",
    "    X_norm[:,i] = StatsBase.transform(dt, X[:,i])\n",
    "end"
   ]
  },
  {
   "cell_type": "code",
   "execution_count": 24,
   "metadata": {},
   "outputs": [
    {
     "data": {
      "text/plain": [
       "1×11 Array{Float64,2}:\n",
       " 3.06221e-16  -2.44977e-16  5.24951e-17  0.0  …  2.44977e-16  9.53661e-16"
      ]
     },
     "execution_count": 24,
     "metadata": {},
     "output_type": "execute_result"
    }
   ],
   "source": [
    "mean(X_norm, dims=1)"
   ]
  },
  {
   "cell_type": "code",
   "execution_count": 25,
   "metadata": {},
   "outputs": [
    {
     "data": {
      "text/plain": [
       "1×11 Array{Float64,2}:\n",
       " 1.0  1.0  1.0  1.0  1.0  1.0  1.0  1.0  1.0  1.0  1.0"
      ]
     },
     "execution_count": 25,
     "metadata": {},
     "output_type": "execute_result"
    }
   ],
   "source": [
    "std(X_norm, dims=1)"
   ]
  },
  {
   "cell_type": "code",
   "execution_count": 26,
   "metadata": {},
   "outputs": [
    {
     "data": {
      "text/plain": [
       "10×11 Array{Float64,2}:\n",
       " -0.166076   -0.42315    0.284664    …  -1.35894     -0.546136  -1.41845\n",
       " -0.706019   -0.240931   0.147035        0.506876    -0.27733   -0.831551\n",
       "  0.682405   -0.362411   0.559923        0.2581      -0.613338  -0.328496\n",
       " -0.0118071  -0.66611    0.00940548     -0.177258    -0.882144  -0.496181\n",
       " -0.0118071  -0.66611    0.00940548     -0.177258    -0.882144  -0.496181\n",
       "  0.682405   -0.362411   0.559923    …   0.2581      -0.613338  -0.328496\n",
       " -0.783154   -0.119451  -1.09163        -0.239452    -0.411733  -0.747709\n",
       " -0.166076   -0.42315    0.284664       -1.35894     -0.546136  -1.41845\n",
       " -0.706019   -0.240931   0.147035        0.506876    -0.27733   -0.831551\n",
       "  0.682405   -0.72685    0.766367        0.00932384  -0.546136   0.426087"
      ]
     },
     "execution_count": 26,
     "metadata": {},
     "output_type": "execute_result"
    }
   ],
   "source": [
    "X_norm[1:10,:]"
   ]
  },
  {
   "cell_type": "markdown",
   "metadata": {},
   "source": [
    "# Data Engineering"
   ]
  },
  {
   "cell_type": "markdown",
   "metadata": {},
   "source": [
    "## Feature Selection"
   ]
  },
  {
   "cell_type": "code",
   "execution_count": 27,
   "metadata": {},
   "outputs": [
    {
     "data": {
      "text/plain": [
       "9-element Array{Int64,1}:\n",
       "  1\n",
       "  2\n",
       "  3\n",
       "  4\n",
       "  5\n",
       "  6\n",
       "  9\n",
       " 10\n",
       " 11"
      ]
     },
     "execution_count": 27,
     "metadata": {},
     "output_type": "execute_result"
    }
   ],
   "source": [
    "ind = setdiff((1:11), [7,8]) # features to keep"
   ]
  },
  {
   "cell_type": "code",
   "execution_count": 28,
   "metadata": {},
   "outputs": [
    {
     "data": {
      "text/plain": [
       "9"
      ]
     },
     "execution_count": 28,
     "metadata": {},
     "output_type": "execute_result"
    }
   ],
   "source": [
    "nf -= 2"
   ]
  },
  {
   "cell_type": "code",
   "execution_count": 29,
   "metadata": {},
   "outputs": [],
   "source": [
    "XX = X_norm[:, ind]; # final version of the featureset"
   ]
  },
  {
   "cell_type": "markdown",
   "metadata": {},
   "source": [
    "# Work the data using the FKNN model"
   ]
  },
  {
   "cell_type": "markdown",
   "metadata": {},
   "source": [
    "### Training and Testing split"
   ]
  },
  {
   "cell_type": "code",
   "execution_count": 30,
   "metadata": {},
   "outputs": [],
   "source": [
    "split_ratio = 0.8;"
   ]
  },
  {
   "cell_type": "code",
   "execution_count": 31,
   "metadata": {},
   "outputs": [],
   "source": [
    "indexes = randperm(N);"
   ]
  },
  {
   "cell_type": "code",
   "execution_count": 32,
   "metadata": {},
   "outputs": [],
   "source": [
    "N_training = round(Int64, split_ratio * N); # number of data points in training set"
   ]
  },
  {
   "cell_type": "code",
   "execution_count": 33,
   "metadata": {},
   "outputs": [],
   "source": [
    "N_testing = N - N_training;"
   ]
  },
  {
   "cell_type": "code",
   "execution_count": 34,
   "metadata": {},
   "outputs": [],
   "source": [
    "train = indexes[1:N_training];"
   ]
  },
  {
   "cell_type": "code",
   "execution_count": 35,
   "metadata": {},
   "outputs": [],
   "source": [
    "test = indexes[(N_training+1):end];"
   ]
  },
  {
   "cell_type": "code",
   "execution_count": 36,
   "metadata": {},
   "outputs": [],
   "source": [
    "X_train, y_train = XX[train,:], y[train];"
   ]
  },
  {
   "cell_type": "code",
   "execution_count": 37,
   "metadata": {},
   "outputs": [],
   "source": [
    "X_test, y_test = XX[test,:], y[test];"
   ]
  },
  {
   "cell_type": "markdown",
   "metadata": {},
   "source": [
    "### K-fold split (for K-fold cross-validation)"
   ]
  },
  {
   "cell_type": "code",
   "execution_count": 38,
   "metadata": {},
   "outputs": [
    {
     "data": {
      "text/plain": [
       "1299"
      ]
     },
     "execution_count": 38,
     "metadata": {},
     "output_type": "execute_result"
    }
   ],
   "source": [
    "n = div(N, K) # number of data points in each partition"
   ]
  },
  {
   "cell_type": "code",
   "execution_count": 39,
   "metadata": {},
   "outputs": [],
   "source": [
    "X_random = XX[indexes,:];\n",
    "y_random = y[indexes];"
   ]
  },
  {
   "cell_type": "code",
   "execution_count": 40,
   "metadata": {},
   "outputs": [
    {
     "data": {
      "text/plain": [
       "5-element Array{Any,1}:\n",
       " #undef\n",
       " #undef\n",
       " #undef\n",
       " #undef\n",
       " #undef"
      ]
     },
     "execution_count": 40,
     "metadata": {},
     "output_type": "execute_result"
    }
   ],
   "source": [
    "P = Array{Any}(undef, K) # partitions array"
   ]
  },
  {
   "cell_type": "code",
   "execution_count": 41,
   "metadata": {},
   "outputs": [],
   "source": [
    "a = 1;\n",
    "b = n;\n",
    "\n",
    "for i = 1:(K-1)\n",
    "    P[i] = Array{Any}(undef, 2)\n",
    "    P[i][1] = X_random[a:b,:]\n",
    "    P[i][2] = y_random[a:b]\n",
    "    a += n\n",
    "    b += n\n",
    "end\n",
    "\n",
    "P[K] = Array{Any}(undef, 2)\n",
    "P[K][1] = X_random[a:end,:]\n",
    "P[K][2] = y_random[a:end];"
   ]
  },
  {
   "cell_type": "code",
   "execution_count": 42,
   "metadata": {},
   "outputs": [
    {
     "data": {
      "text/plain": [
       "5-element Array{Any,1}:\n",
       " Any[[1.8394252084641307 1.581265644537156 … 0.26028355865660563 -0.6638660446686709; 0.296731655502188 0.4272078875526628 … 0.7306950975273647 -1.1669213726370191; … ; -0.1660764103863945 -1.1520290430576963 … -0.949346112725345 -1.2507639272984103; -0.5517497986268801 0.3057281236595585 … -1.2181527063657787 -0.412338380684496], [0, 0, 0, 1, 0, 1, 1, 0, 0, 0  …  1, 1, 0, 1, 1, 0, 0, 0, 1, 0]]\n",
       " Any[[-1.708769963348337 4.253820450185457 … 0.5962918007071478 0.8452999392363754; -0.24321108803449137 -0.36241057775251645 … -1.0165477611354534 1.5160403765275074; … ; 0.7595397213907705 0.06276859587334917 … 1.8731231204992076 0.42608716592941825; -0.24321108803449137 -0.36241057775251645 … -1.3525560031859953 -0.24465327136171378], [0, 1, 1, 0, 0, 0, 0, 1, 1, 1  …  0, 1, 0, 0, 1, 1, 1, 1, 1, 0]]\n",
       " Any[[-0.9374231868673658 -0.9090695152714872 … -0.008523034983827425 0.6776148299135931; 0.1424623002059943 1.4597858806440513 … 0.3274852070667141 0.6776148299135931; … ; -0.47461512097878333 -0.6661099874852779 … -0.949346112725345 1.851410595173072; -0.011807055090200112 2.1582945230294026 … 0.05867861342628102 -0.3284958260231049], [1, 1, 1, 1, 1, 0, 1, 1, 0, 1  …  1, 0, 1, 1, 1, 1, 1, 1, 1, 0]]\n",
       " Any[[-0.9374231868673658 1.0346067070181857 … 2.679542901420508 0.17455950194524336; 0.21959697785409116 -0.4838903416456211 … -0.6805395190849115 1.1806701578819414; … ; -0.7831538315711715 0.5486876514457675 … 0.461888503886931 -0.8315511539914532; -0.32034576568258893 -1.1520290430576963 … -0.949346112725345 -1.2507639272984103], [1, 1, 0, 0, 1, 1, 0, 1, 0, 1  …  1, 1, 1, 0, 0, 1, 1, 1, 1, 1]]\n",
       " Any[[-0.47461512097878333 0.24498824171300615 … 0.19308191024649793 -0.9153937086528443; 0.21959697785409116 -0.6661099874852779 … -1.0165477611354534 -1.4184490366211926; … ; -0.1660764103863945 -1.0305492791645916 … -0.21012798021415277 0.42608716592941825; -1.0145578645154627 -0.8483296333249348 … -0.5461362222646946 -0.412338380684496], [0, 0, 1, 0, 0, 1, 1, 1, 0, 1  …  1, 0, 1, 1, 1, 1, 1, 1, 1, 1]]"
      ]
     },
     "execution_count": 42,
     "metadata": {},
     "output_type": "execute_result"
    }
   ],
   "source": [
    "P"
   ]
  },
  {
   "cell_type": "code",
   "execution_count": 43,
   "metadata": {},
   "outputs": [
    {
     "name": "stdout",
     "output_type": "stream",
     "text": [
      "1299 1299\n",
      "1299 1299\n",
      "1299 1299\n",
      "1299 1299\n",
      "1301 1301\n"
     ]
    }
   ],
   "source": [
    "for i = 1:K\n",
    "    println(size(P[i][1], 1), \" \", length(P[i][2])) # sizes of each partition: features & target variable\n",
    "end "
   ]
  },
  {
   "cell_type": "markdown",
   "metadata": {},
   "source": [
    "## Classification model"
   ]
  },
  {
   "cell_type": "markdown",
   "metadata": {},
   "source": [
    "### Simple training-testing case"
   ]
  },
  {
   "cell_type": "code",
   "execution_count": 44,
   "metadata": {},
   "outputs": [
    {
     "data": {
      "text/plain": [
       "([1.0 0.0; 1.0 0.0; … ; 0.25 0.75; 1.0 0.0], [0, 1], 2)"
      ]
     },
     "execution_count": 44,
     "metadata": {},
     "output_type": "execute_result"
    }
   ],
   "source": [
    "M, Q, mc = fknn_train(X_train, y_train, k, m)"
   ]
  },
  {
   "cell_type": "code",
   "execution_count": 45,
   "metadata": {},
   "outputs": [],
   "source": [
    "yy, c = fknn_apply(X_test, X_train, k, M, Q, mc, m);"
   ]
  },
  {
   "cell_type": "code",
   "execution_count": 46,
   "metadata": {},
   "outputs": [
    {
     "data": {
      "text/plain": [
       "0.6759045419553503"
      ]
     },
     "execution_count": 46,
     "metadata": {},
     "output_type": "execute_result"
    }
   ],
   "source": [
    "sum(yy .== y_test) / N_testing # accuracy rate"
   ]
  },
  {
   "cell_type": "code",
   "execution_count": 47,
   "metadata": {},
   "outputs": [
    {
     "data": {
      "text/plain": [
       "0.8066146072576941"
      ]
     },
     "execution_count": 47,
     "metadata": {},
     "output_type": "execute_result"
    }
   ],
   "source": [
    "F1 = F1_score(yy, y_test)"
   ]
  },
  {
   "cell_type": "code",
   "execution_count": 48,
   "metadata": {},
   "outputs": [
    {
     "data": {
      "text/plain": [
       "0.8860676410704771"
      ]
     },
     "execution_count": 48,
     "metadata": {},
     "output_type": "execute_result"
    }
   ],
   "source": [
    "mean(c)"
   ]
  },
  {
   "cell_type": "markdown",
   "metadata": {},
   "source": [
    "### ROC Analysis"
   ]
  },
  {
   "cell_type": "code",
   "execution_count": 49,
   "metadata": {},
   "outputs": [
    {
     "data": {
      "text/plain": [
       "1299-element Array{Float64,1}:\n",
       " 1.0\n",
       " 1.0\n",
       " 1.0\n",
       " 1.0\n",
       " 0.5408190188750022\n",
       " 1.0\n",
       " 0.0\n",
       " 1.0\n",
       " 0.0\n",
       " 0.12096624527565603\n",
       " 1.0\n",
       " 0.5079139860512338\n",
       " 1.0\n",
       " ⋮\n",
       " 0.75\n",
       " 0.316996071505639\n",
       " 0.0\n",
       " 0.5296647824501646\n",
       " 0.7814899742238033\n",
       " 1.0\n",
       " 1.0\n",
       " 1.0\n",
       " 0.5\n",
       " 1.0\n",
       " 1.0\n",
       " 0.8718085890870135"
      ]
     },
     "execution_count": 49,
     "metadata": {},
     "output_type": "execute_result"
    }
   ],
   "source": [
    "y_with_c = CombinePredictionsWithConfidence(yy, c)"
   ]
  },
  {
   "cell_type": "code",
   "execution_count": 50,
   "metadata": {},
   "outputs": [],
   "source": [
    "roc_data = roc(y_with_c, y_test, true);"
   ]
  },
  {
   "cell_type": "code",
   "execution_count": 51,
   "metadata": {},
   "outputs": [
    {
     "data": {
      "text/plain": [
       "0.6598192888806603"
      ]
     },
     "execution_count": 51,
     "metadata": {},
     "output_type": "execute_result"
    }
   ],
   "source": [
    "AUC(roc_data)"
   ]
  },
  {
   "cell_type": "code",
   "execution_count": 52,
   "metadata": {},
   "outputs": [
    {
     "data": {
      "image/svg+xml": [
       "<?xml version=\"1.0\" encoding=\"utf-8\"?>\n",
       "<svg xmlns=\"http://www.w3.org/2000/svg\" xmlns:xlink=\"http://www.w3.org/1999/xlink\" width=\"600\" height=\"400\" viewBox=\"0 0 2400 1600\">\n",
       "<defs>\n",
       "  <clipPath id=\"clip8000\">\n",
       "    <rect x=\"0\" y=\"0\" width=\"2400\" height=\"1600\"/>\n",
       "  </clipPath>\n",
       "</defs>\n",
       "<path clip-path=\"url(#clip8000)\" d=\"\n",
       "M0 1600 L2400 1600 L2400 0 L0 0  Z\n",
       "  \" fill=\"#ffffff\" fill-rule=\"evenodd\" fill-opacity=\"1\"/>\n",
       "<defs>\n",
       "  <clipPath id=\"clip8001\">\n",
       "    <rect x=\"480\" y=\"0\" width=\"1681\" height=\"1600\"/>\n",
       "  </clipPath>\n",
       "</defs>\n",
       "<path clip-path=\"url(#clip8000)\" d=\"\n",
       "M215.754 1425.62 L2352.76 1425.62 L2352.76 121.675 L215.754 121.675  Z\n",
       "  \" fill=\"#ffffff\" fill-rule=\"evenodd\" fill-opacity=\"1\"/>\n",
       "<defs>\n",
       "  <clipPath id=\"clip8002\">\n",
       "    <rect x=\"215\" y=\"121\" width=\"2138\" height=\"1305\"/>\n",
       "  </clipPath>\n",
       "</defs>\n",
       "<polyline clip-path=\"url(#clip8002)\" style=\"stroke:#000000; stroke-width:2; stroke-opacity:0.1; fill:none\" points=\"\n",
       "  215.754,1425.62 215.754,121.675 \n",
       "  \"/>\n",
       "<polyline clip-path=\"url(#clip8002)\" style=\"stroke:#000000; stroke-width:2; stroke-opacity:0.1; fill:none\" points=\"\n",
       "  643.154,1425.62 643.154,121.675 \n",
       "  \"/>\n",
       "<polyline clip-path=\"url(#clip8002)\" style=\"stroke:#000000; stroke-width:2; stroke-opacity:0.1; fill:none\" points=\"\n",
       "  1070.55,1425.62 1070.55,121.675 \n",
       "  \"/>\n",
       "<polyline clip-path=\"url(#clip8002)\" style=\"stroke:#000000; stroke-width:2; stroke-opacity:0.1; fill:none\" points=\"\n",
       "  1497.96,1425.62 1497.96,121.675 \n",
       "  \"/>\n",
       "<polyline clip-path=\"url(#clip8002)\" style=\"stroke:#000000; stroke-width:2; stroke-opacity:0.1; fill:none\" points=\"\n",
       "  1925.36,1425.62 1925.36,121.675 \n",
       "  \"/>\n",
       "<polyline clip-path=\"url(#clip8002)\" style=\"stroke:#000000; stroke-width:2; stroke-opacity:0.1; fill:none\" points=\"\n",
       "  2352.76,1425.62 2352.76,121.675 \n",
       "  \"/>\n",
       "<polyline clip-path=\"url(#clip8002)\" style=\"stroke:#000000; stroke-width:2; stroke-opacity:0.1; fill:none\" points=\"\n",
       "  215.754,1425.62 2352.76,1425.62 \n",
       "  \"/>\n",
       "<polyline clip-path=\"url(#clip8002)\" style=\"stroke:#000000; stroke-width:2; stroke-opacity:0.1; fill:none\" points=\"\n",
       "  215.754,1164.83 2352.76,1164.83 \n",
       "  \"/>\n",
       "<polyline clip-path=\"url(#clip8002)\" style=\"stroke:#000000; stroke-width:2; stroke-opacity:0.1; fill:none\" points=\"\n",
       "  215.754,904.041 2352.76,904.041 \n",
       "  \"/>\n",
       "<polyline clip-path=\"url(#clip8002)\" style=\"stroke:#000000; stroke-width:2; stroke-opacity:0.1; fill:none\" points=\"\n",
       "  215.754,643.253 2352.76,643.253 \n",
       "  \"/>\n",
       "<polyline clip-path=\"url(#clip8002)\" style=\"stroke:#000000; stroke-width:2; stroke-opacity:0.1; fill:none\" points=\"\n",
       "  215.754,382.464 2352.76,382.464 \n",
       "  \"/>\n",
       "<polyline clip-path=\"url(#clip8002)\" style=\"stroke:#000000; stroke-width:2; stroke-opacity:0.1; fill:none\" points=\"\n",
       "  215.754,121.675 2352.76,121.675 \n",
       "  \"/>\n",
       "<polyline clip-path=\"url(#clip8000)\" style=\"stroke:#000000; stroke-width:4; stroke-opacity:1; fill:none\" points=\"\n",
       "  215.754,1425.62 2352.76,1425.62 \n",
       "  \"/>\n",
       "<polyline clip-path=\"url(#clip8000)\" style=\"stroke:#000000; stroke-width:4; stroke-opacity:1; fill:none\" points=\"\n",
       "  215.754,1425.62 215.754,121.675 \n",
       "  \"/>\n",
       "<polyline clip-path=\"url(#clip8000)\" style=\"stroke:#000000; stroke-width:4; stroke-opacity:1; fill:none\" points=\"\n",
       "  215.754,1425.62 215.754,1409.97 \n",
       "  \"/>\n",
       "<polyline clip-path=\"url(#clip8000)\" style=\"stroke:#000000; stroke-width:4; stroke-opacity:1; fill:none\" points=\"\n",
       "  643.154,1425.62 643.154,1409.97 \n",
       "  \"/>\n",
       "<polyline clip-path=\"url(#clip8000)\" style=\"stroke:#000000; stroke-width:4; stroke-opacity:1; fill:none\" points=\"\n",
       "  1070.55,1425.62 1070.55,1409.97 \n",
       "  \"/>\n",
       "<polyline clip-path=\"url(#clip8000)\" style=\"stroke:#000000; stroke-width:4; stroke-opacity:1; fill:none\" points=\"\n",
       "  1497.96,1425.62 1497.96,1409.97 \n",
       "  \"/>\n",
       "<polyline clip-path=\"url(#clip8000)\" style=\"stroke:#000000; stroke-width:4; stroke-opacity:1; fill:none\" points=\"\n",
       "  1925.36,1425.62 1925.36,1409.97 \n",
       "  \"/>\n",
       "<polyline clip-path=\"url(#clip8000)\" style=\"stroke:#000000; stroke-width:4; stroke-opacity:1; fill:none\" points=\"\n",
       "  2352.76,1425.62 2352.76,1409.97 \n",
       "  \"/>\n",
       "<polyline clip-path=\"url(#clip8000)\" style=\"stroke:#000000; stroke-width:4; stroke-opacity:1; fill:none\" points=\"\n",
       "  215.754,1425.62 241.398,1425.62 \n",
       "  \"/>\n",
       "<polyline clip-path=\"url(#clip8000)\" style=\"stroke:#000000; stroke-width:4; stroke-opacity:1; fill:none\" points=\"\n",
       "  215.754,1164.83 241.398,1164.83 \n",
       "  \"/>\n",
       "<polyline clip-path=\"url(#clip8000)\" style=\"stroke:#000000; stroke-width:4; stroke-opacity:1; fill:none\" points=\"\n",
       "  215.754,904.041 241.398,904.041 \n",
       "  \"/>\n",
       "<polyline clip-path=\"url(#clip8000)\" style=\"stroke:#000000; stroke-width:4; stroke-opacity:1; fill:none\" points=\"\n",
       "  215.754,643.253 241.398,643.253 \n",
       "  \"/>\n",
       "<polyline clip-path=\"url(#clip8000)\" style=\"stroke:#000000; stroke-width:4; stroke-opacity:1; fill:none\" points=\"\n",
       "  215.754,382.464 241.398,382.464 \n",
       "  \"/>\n",
       "<polyline clip-path=\"url(#clip8000)\" style=\"stroke:#000000; stroke-width:4; stroke-opacity:1; fill:none\" points=\"\n",
       "  215.754,121.675 241.398,121.675 \n",
       "  \"/>\n",
       "<g clip-path=\"url(#clip8000)\">\n",
       "<text style=\"fill:#000000; fill-opacity:1; font-family:Arial,Helvetica Neue,Helvetica,sans-serif; font-size:48px; text-anchor:middle;\" transform=\"rotate(0, 215.754, 1479.62)\" x=\"215.754\" y=\"1479.62\">0.0</text>\n",
       "</g>\n",
       "<g clip-path=\"url(#clip8000)\">\n",
       "<text style=\"fill:#000000; fill-opacity:1; font-family:Arial,Helvetica Neue,Helvetica,sans-serif; font-size:48px; text-anchor:middle;\" transform=\"rotate(0, 643.154, 1479.62)\" x=\"643.154\" y=\"1479.62\">0.2</text>\n",
       "</g>\n",
       "<g clip-path=\"url(#clip8000)\">\n",
       "<text style=\"fill:#000000; fill-opacity:1; font-family:Arial,Helvetica Neue,Helvetica,sans-serif; font-size:48px; text-anchor:middle;\" transform=\"rotate(0, 1070.55, 1479.62)\" x=\"1070.55\" y=\"1479.62\">0.4</text>\n",
       "</g>\n",
       "<g clip-path=\"url(#clip8000)\">\n",
       "<text style=\"fill:#000000; fill-opacity:1; font-family:Arial,Helvetica Neue,Helvetica,sans-serif; font-size:48px; text-anchor:middle;\" transform=\"rotate(0, 1497.96, 1479.62)\" x=\"1497.96\" y=\"1479.62\">0.6</text>\n",
       "</g>\n",
       "<g clip-path=\"url(#clip8000)\">\n",
       "<text style=\"fill:#000000; fill-opacity:1; font-family:Arial,Helvetica Neue,Helvetica,sans-serif; font-size:48px; text-anchor:middle;\" transform=\"rotate(0, 1925.36, 1479.62)\" x=\"1925.36\" y=\"1479.62\">0.8</text>\n",
       "</g>\n",
       "<g clip-path=\"url(#clip8000)\">\n",
       "<text style=\"fill:#000000; fill-opacity:1; font-family:Arial,Helvetica Neue,Helvetica,sans-serif; font-size:48px; text-anchor:middle;\" transform=\"rotate(0, 2352.76, 1479.62)\" x=\"2352.76\" y=\"1479.62\">1.0</text>\n",
       "</g>\n",
       "<g clip-path=\"url(#clip8000)\">\n",
       "<text style=\"fill:#000000; fill-opacity:1; font-family:Arial,Helvetica Neue,Helvetica,sans-serif; font-size:48px; text-anchor:end;\" transform=\"rotate(0, 191.754, 1443.12)\" x=\"191.754\" y=\"1443.12\">0.0</text>\n",
       "</g>\n",
       "<g clip-path=\"url(#clip8000)\">\n",
       "<text style=\"fill:#000000; fill-opacity:1; font-family:Arial,Helvetica Neue,Helvetica,sans-serif; font-size:48px; text-anchor:end;\" transform=\"rotate(0, 191.754, 1182.33)\" x=\"191.754\" y=\"1182.33\">0.2</text>\n",
       "</g>\n",
       "<g clip-path=\"url(#clip8000)\">\n",
       "<text style=\"fill:#000000; fill-opacity:1; font-family:Arial,Helvetica Neue,Helvetica,sans-serif; font-size:48px; text-anchor:end;\" transform=\"rotate(0, 191.754, 921.541)\" x=\"191.754\" y=\"921.541\">0.4</text>\n",
       "</g>\n",
       "<g clip-path=\"url(#clip8000)\">\n",
       "<text style=\"fill:#000000; fill-opacity:1; font-family:Arial,Helvetica Neue,Helvetica,sans-serif; font-size:48px; text-anchor:end;\" transform=\"rotate(0, 191.754, 660.753)\" x=\"191.754\" y=\"660.753\">0.6</text>\n",
       "</g>\n",
       "<g clip-path=\"url(#clip8000)\">\n",
       "<text style=\"fill:#000000; fill-opacity:1; font-family:Arial,Helvetica Neue,Helvetica,sans-serif; font-size:48px; text-anchor:end;\" transform=\"rotate(0, 191.754, 399.964)\" x=\"191.754\" y=\"399.964\">0.8</text>\n",
       "</g>\n",
       "<g clip-path=\"url(#clip8000)\">\n",
       "<text style=\"fill:#000000; fill-opacity:1; font-family:Arial,Helvetica Neue,Helvetica,sans-serif; font-size:48px; text-anchor:end;\" transform=\"rotate(0, 191.754, 139.175)\" x=\"191.754\" y=\"139.175\">1.0</text>\n",
       "</g>\n",
       "<g clip-path=\"url(#clip8000)\">\n",
       "<text style=\"fill:#000000; fill-opacity:1; font-family:Arial,Helvetica Neue,Helvetica,sans-serif; font-size:84px; text-anchor:middle;\" transform=\"rotate(0, 1284.25, 73.2)\" x=\"1284.25\" y=\"73.2\">Receiver Operator Characteristic</text>\n",
       "</g>\n",
       "<g clip-path=\"url(#clip8000)\">\n",
       "<text style=\"fill:#000000; fill-opacity:1; font-family:Arial,Helvetica Neue,Helvetica,sans-serif; font-size:66px; text-anchor:middle;\" transform=\"rotate(0, 1284.25, 1559.48)\" x=\"1284.25\" y=\"1559.48\">false positive rate</text>\n",
       "</g>\n",
       "<g clip-path=\"url(#clip8000)\">\n",
       "<text style=\"fill:#000000; fill-opacity:1; font-family:Arial,Helvetica Neue,Helvetica,sans-serif; font-size:66px; text-anchor:middle;\" transform=\"rotate(-90, 89.2861, 773.647)\" x=\"89.2861\" y=\"773.647\">true positive rate</text>\n",
       "</g>\n",
       "<polyline clip-path=\"url(#clip8002)\" style=\"stroke:#000000; stroke-width:4; stroke-opacity:1; fill:none\" stroke-dasharray=\"16, 10\" points=\"\n",
       "  215.754,1425.62 2352.76,121.675 \n",
       "  \"/>\n",
       "<polyline clip-path=\"url(#clip8002)\" style=\"stroke:#e26f46; stroke-width:4; stroke-opacity:1; fill:none\" points=\"\n",
       "  215.754,1425.62 914.389,711.666 914.389,710.097 914.389,708.528 914.389,706.959 914.389,705.39 914.389,703.821 914.389,700.683 914.389,699.113 914.389,697.544 \n",
       "  914.389,694.406 914.389,692.837 914.389,691.268 914.389,689.699 914.389,688.13 914.389,686.56 914.389,684.991 914.389,683.422 914.389,681.853 914.389,680.284 \n",
       "  914.389,678.715 918.956,678.715 918.956,677.146 918.956,675.577 923.522,675.577 923.522,674.007 923.522,672.438 923.522,670.869 923.522,669.3 928.088,669.3 \n",
       "  928.088,667.731 932.654,667.731 932.654,666.162 937.221,666.162 937.221,664.593 937.221,663.024 941.787,663.024 941.787,661.454 941.787,659.885 941.787,658.316 \n",
       "  941.787,656.747 941.787,655.178 941.787,653.609 941.787,652.04 941.787,650.471 941.787,648.901 946.353,648.901 946.353,647.332 946.353,645.763 946.353,644.194 \n",
       "  946.353,642.625 946.353,641.056 946.353,639.487 946.353,636.348 946.353,634.779 950.919,634.779 950.919,633.21 950.919,631.641 950.919,630.072 950.919,628.503 \n",
       "  955.485,628.503 955.485,626.934 955.485,625.364 960.052,625.364 960.052,623.795 960.052,622.226 964.618,622.226 964.618,620.657 969.184,620.657 969.184,619.088 \n",
       "  969.184,617.519 969.184,615.95 969.184,614.381 969.184,612.811 969.184,611.242 969.184,609.673 973.75,609.673 973.75,608.104 973.75,606.535 973.75,604.966 \n",
       "  973.75,603.397 973.75,601.828 973.75,600.258 973.75,598.689 973.75,597.12 978.317,597.12 978.317,595.551 978.317,593.982 978.317,592.413 982.883,592.413 \n",
       "  987.449,592.413 987.449,590.844 987.449,589.275 987.449,587.705 987.449,586.136 992.015,586.136 992.015,584.567 996.582,584.567 996.582,582.998 996.582,581.429 \n",
       "  1001.15,581.429 1005.71,581.429 1005.71,579.86 1005.71,578.291 1005.71,576.722 1005.71,575.152 1010.28,575.152 1010.28,573.583 1010.28,572.014 1014.85,572.014 \n",
       "  1014.85,570.445 1014.85,567.307 1014.85,565.738 1019.41,565.738 1023.98,565.738 1023.98,564.169 1023.98,562.599 1023.98,561.03 1023.98,559.461 1028.55,559.461 \n",
       "  1028.55,557.892 1028.55,556.323 1028.55,554.754 1028.55,553.185 1028.55,551.616 1028.55,550.046 1028.55,548.477 1028.55,546.908 1028.55,545.339 1028.55,543.77 \n",
       "  1033.11,543.77 1037.68,543.77 1037.68,542.201 1037.68,540.632 1042.24,540.632 1046.81,540.632 1046.81,539.063 1046.81,537.493 1051.38,537.493 1051.38,535.924 \n",
       "  1055.94,535.924 1055.94,534.355 1055.94,532.786 1060.51,532.786 1060.51,531.217 1060.51,529.648 1060.51,528.079 1065.08,528.079 1065.08,526.51 1065.08,524.94 \n",
       "  1065.08,523.371 1069.64,523.371 1069.64,521.802 1074.21,521.802 1078.77,521.802 1078.77,520.233 1078.77,518.664 1083.34,518.664 1083.34,517.095 1083.34,515.526 \n",
       "  1083.34,513.957 1083.34,512.387 1083.34,510.818 1087.91,510.818 1092.47,510.818 1092.47,509.249 1092.47,507.68 1092.47,506.111 1092.47,504.542 1097.04,504.542 \n",
       "  1101.61,504.542 1101.61,502.973 1101.61,501.404 1101.61,499.834 1106.17,499.834 1106.17,498.265 1106.17,496.696 1106.17,495.127 1106.17,493.558 1110.74,493.558 \n",
       "  1110.74,491.989 1110.74,490.42 1115.3,490.42 1119.87,490.42 1124.44,490.42 1124.44,488.851 1124.44,487.281 1124.44,485.712 1124.44,484.143 1124.44,482.574 \n",
       "  1124.44,481.005 1129,481.005 1129,479.436 1129,477.867 1133.57,477.867 1138.14,477.867 1138.14,476.298 1138.14,474.728 1142.7,474.728 1142.7,473.159 \n",
       "  1142.7,471.59 1147.27,471.59 1160.97,462.175 1165.53,462.175 1170.1,462.175 1170.1,460.606 1170.1,459.037 1174.67,459.037 1179.23,459.037 1179.23,457.468 \n",
       "  1179.23,455.899 1179.23,454.33 1183.8,454.33 1188.36,454.33 1192.93,454.33 1197.5,454.33 1197.5,452.761 1202.06,452.761 1206.63,452.761 1206.63,451.192 \n",
       "  1206.63,449.622 1206.63,448.053 1211.2,448.053 1211.2,446.484 1211.2,444.915 1215.76,444.915 1220.33,444.915 1220.33,443.346 1220.33,441.777 1224.89,441.777 \n",
       "  1224.89,440.208 1224.89,438.639 1224.89,437.069 1224.89,435.5 1224.89,433.931 1224.89,432.362 1224.89,430.793 1224.89,429.224 1229.46,429.224 1229.46,427.655 \n",
       "  1234.03,427.655 1234.03,426.086 1234.03,424.516 1234.03,422.947 1238.59,422.947 1238.59,421.378 1238.59,419.809 1238.59,418.24 1238.59,416.671 1238.59,415.102 \n",
       "  1252.29,415.102 1252.29,413.533 1252.29,411.963 1252.29,410.394 1252.29,408.825 1252.29,407.256 1252.29,405.687 1252.29,404.118 1252.29,402.549 1256.86,402.549 \n",
       "  1261.42,402.549 1265.99,402.549 1270.56,402.549 1270.56,400.98 1275.12,400.98 1279.69,400.98 1284.25,400.98 1284.25,399.41 1288.82,399.41 1293.39,399.41 \n",
       "  1293.39,397.841 1293.39,396.272 1293.39,394.703 1297.95,394.703 1297.95,393.134 1302.52,393.134 1302.52,391.565 1307.09,391.565 1311.65,391.565 1316.22,391.565 \n",
       "  1316.22,389.996 1316.22,388.427 1320.78,388.427 1325.35,388.427 1329.92,388.427 1334.48,388.427 1334.48,386.857 1334.48,385.288 1334.48,383.719 1334.48,382.15 \n",
       "  1334.48,380.581 1334.48,379.012 1334.48,377.443 1339.05,377.443 1343.62,377.443 1343.62,375.874 1343.62,374.304 1343.62,372.735 1343.62,371.166 1343.62,369.597 \n",
       "  1348.18,369.597 1352.75,369.597 1357.31,369.597 1357.31,366.459 1361.88,366.459 1366.45,366.459 1366.45,364.89 1371.01,364.89 1375.58,364.89 1380.15,364.89 \n",
       "  1384.71,364.89 1384.71,363.32 1389.28,363.32 1389.28,361.751 1389.28,360.182 1393.84,360.182 1398.41,360.182 1398.41,358.613 1402.98,358.613 1402.98,357.044 \n",
       "  1407.54,357.044 1407.54,355.475 1407.54,353.906 1407.54,352.337 1412.11,352.337 1416.68,352.337 1416.68,350.767 1421.24,350.767 1425.81,350.767 1425.81,349.198 \n",
       "  1425.81,347.629 1430.37,347.629 1434.94,347.629 1439.51,347.629 1444.07,347.629 1448.64,347.629 1448.64,346.06 1453.21,346.06 1457.77,346.06 1457.77,344.491 \n",
       "  1457.77,342.922 1462.34,342.922 1466.9,342.922 1530.83,327.231 1530.83,325.661 1535.4,325.661 1535.4,324.092 1539.96,324.092 1544.53,324.092 1544.53,322.523 \n",
       "  1549.1,322.523 1553.66,322.523 1553.66,320.954 1553.66,319.385 1553.66,317.816 1553.66,316.247 1558.23,316.247 1558.23,314.678 1562.8,314.678 1567.36,314.678 \n",
       "  1567.36,313.108 1567.36,311.539 1567.36,309.97 1567.36,308.401 1567.36,306.832 1571.93,306.832 1576.49,306.832 1581.06,306.832 1581.06,305.263 1581.06,303.694 \n",
       "  1585.63,303.694 1590.19,303.694 1590.19,302.125 1590.19,300.555 1594.76,300.555 1599.33,300.555 1599.33,298.986 1599.33,297.417 1603.89,297.417 1608.46,297.417 \n",
       "  1608.46,295.848 1613.02,295.848 1613.02,294.279 1617.59,294.279 1617.59,291.141 1617.59,289.572 1622.16,289.572 1622.16,288.002 1631.29,288.002 1631.29,286.433 \n",
       "  1635.86,286.433 1640.42,286.433 1644.99,286.433 1649.55,286.433 1654.12,286.433 1658.69,286.433 1663.25,286.433 1663.25,284.864 1667.82,284.864 1672.39,284.864 \n",
       "  1676.95,284.864 1676.95,283.295 1681.52,283.295 1686.08,283.295 1686.08,281.726 1690.65,281.726 1695.22,281.726 1699.78,281.726 1704.35,281.726 1704.35,280.157 \n",
       "  1704.35,278.588 1704.35,277.019 1708.92,277.019 1713.48,277.019 1713.48,273.88 1713.48,272.311 1718.05,272.311 1718.05,270.742 1722.61,270.742 1727.18,270.742 \n",
       "  1727.18,269.173 1731.75,269.173 1731.75,267.604 1731.75,266.035 1736.31,266.035 1736.31,264.466 1740.88,264.466 1740.88,262.896 1745.45,262.896 1750.01,262.896 \n",
       "  1750.01,261.327 1750.01,259.758 1750.01,258.189 1754.58,258.189 1754.58,256.62 1759.14,256.62 1763.71,256.62 1763.71,255.051 1763.71,253.482 1768.28,253.482 \n",
       "  1772.84,253.482 1777.41,253.482 1777.41,251.913 1781.98,250.343 1786.54,250.343 1791.11,250.343 1791.11,248.774 1795.67,248.774 1800.24,248.774 1804.81,248.774 \n",
       "  1804.81,247.205 1809.37,247.205 1813.94,247.205 1818.51,247.205 1823.07,247.205 1827.64,247.205 1832.2,247.205 1836.77,247.205 1841.34,247.205 1845.9,247.205 \n",
       "  1850.47,247.205 1850.47,245.636 1859.6,245.636 1859.6,244.067 1864.17,244.067 1864.17,242.498 1868.73,242.498 1868.73,240.929 1868.73,239.36 1873.3,239.36 \n",
       "  1877.87,239.36 1887,239.36 1887,237.79 1887,234.652 1887,233.083 1891.57,233.083 1891.57,231.514 1896.13,231.514 1900.7,231.514 1900.7,229.945 \n",
       "  1905.26,229.945 1909.83,229.945 1914.4,229.945 1914.4,228.376 1918.96,228.376 1918.96,226.807 1923.53,226.807 1928.1,226.807 1928.1,225.237 1928.1,223.668 \n",
       "  1932.66,223.668 1932.66,222.099 1937.23,222.099 1941.79,222.099 1946.36,222.099 1946.36,220.53 1950.93,220.53 1955.49,220.53 1955.49,218.961 1960.06,218.961 \n",
       "  1964.63,218.961 1969.19,218.961 1973.76,218.961 1978.32,218.961 1982.89,218.961 2352.76,121.675 \n",
       "  \"/>\n",
       "<path clip-path=\"url(#clip8000)\" d=\"\n",
       "M1208.76 1281.62 L2280.76 1281.62 L2280.76 1160.66 L1208.76 1160.66  Z\n",
       "  \" fill=\"#ffffff\" fill-rule=\"evenodd\" fill-opacity=\"1\"/>\n",
       "<polyline clip-path=\"url(#clip8000)\" style=\"stroke:#000000; stroke-width:4; stroke-opacity:1; fill:none\" points=\"\n",
       "  1208.76,1281.62 2280.76,1281.62 2280.76,1160.66 1208.76,1160.66 1208.76,1281.62 \n",
       "  \"/>\n",
       "<polyline clip-path=\"url(#clip8000)\" style=\"stroke:#e26f46; stroke-width:4; stroke-opacity:1; fill:none\" points=\"\n",
       "  1232.76,1221.14 1376.76,1221.14 \n",
       "  \"/>\n",
       "<g clip-path=\"url(#clip8000)\">\n",
       "<text style=\"fill:#000000; fill-opacity:1; font-family:Arial,Helvetica Neue,Helvetica,sans-serif; font-size:48px; text-anchor:start;\" transform=\"rotate(0, 1400.76, 1238.64)\" x=\"1400.76\" y=\"1238.64\">FKNN performance for k = 4 and m = 3</text>\n",
       "</g>\n",
       "</svg>\n"
      ]
     },
     "execution_count": 52,
     "metadata": {},
     "output_type": "execute_result"
    }
   ],
   "source": [
    "plot(roc_data, label = string(\"FKNN performance for k = \", k, \" and m = \", m), legend = :bottomright)"
   ]
  },
  {
   "cell_type": "markdown",
   "metadata": {},
   "source": [
    "### K-fold Cross Validation"
   ]
  },
  {
   "cell_type": "code",
   "execution_count": 53,
   "metadata": {},
   "outputs": [],
   "source": [
    "F1 = Array{Float64}(undef, K)\n",
    "\n",
    "for i = 1:K\n",
    "    ind = setdiff((1:K), i)\n",
    "    \n",
    "    X_train = P[ind[1]][1]\n",
    "    y_train = P[ind[1]][2]\n",
    "    \n",
    "    for j = 2:(K-1)\n",
    "        X_train = vcat(X_train, P[ind[j]][1])\n",
    "        y_train = vcat(y_train, P[ind[j]][2])\n",
    "    end\n",
    "    \n",
    "    X_test = P[i][1]\n",
    "    y_test = P[i][2]\n",
    "    \n",
    "    M, Q, mc = fknn_train(X_train, y_train, k, m)\n",
    "    yy = fknn_apply(X_test, X_train, k, M, Q, mc, m)[1]\n",
    "    \n",
    "    F1[i] = F1_score(yy, y_test)\n",
    "end"
   ]
  },
  {
   "cell_type": "code",
   "execution_count": 54,
   "metadata": {},
   "outputs": [
    {
     "name": "stdout",
     "output_type": "stream",
     "text": [
      "[0.8153214774281805, 0.8055172413793104, 0.8201634877384195, 0.8318345323741008, 0.8075160403299725]\n",
      "0.8160705558499968\n",
      "0.8055172413793104 0.8318345323741008\n"
     ]
    }
   ],
   "source": [
    "min_F1, max_F1 = extrema(F1)\n",
    "println(F1, \"\\n\", mean(F1), \"\\n\", min_F1, \" \", max_F1)"
   ]
  },
  {
   "cell_type": "code",
   "execution_count": 55,
   "metadata": {},
   "outputs": [
    {
     "data": {
      "image/svg+xml": [
       "<?xml version=\"1.0\" encoding=\"utf-8\"?>\n",
       "<svg xmlns=\"http://www.w3.org/2000/svg\" xmlns:xlink=\"http://www.w3.org/1999/xlink\" width=\"600\" height=\"400\" viewBox=\"0 0 2400 1600\">\n",
       "<defs>\n",
       "  <clipPath id=\"clip8400\">\n",
       "    <rect x=\"0\" y=\"0\" width=\"2400\" height=\"1600\"/>\n",
       "  </clipPath>\n",
       "</defs>\n",
       "<path clip-path=\"url(#clip8400)\" d=\"\n",
       "M0 1600 L2400 1600 L2400 0 L0 0  Z\n",
       "  \" fill=\"#ffffff\" fill-rule=\"evenodd\" fill-opacity=\"1\"/>\n",
       "<defs>\n",
       "  <clipPath id=\"clip8401\">\n",
       "    <rect x=\"480\" y=\"0\" width=\"1681\" height=\"1600\"/>\n",
       "  </clipPath>\n",
       "</defs>\n",
       "<path clip-path=\"url(#clip8400)\" d=\"\n",
       "M153.898 1487.47 L2352.76 1487.47 L2352.76 47.2441 L153.898 47.2441  Z\n",
       "  \" fill=\"#ffffff\" fill-rule=\"evenodd\" fill-opacity=\"1\"/>\n",
       "<defs>\n",
       "  <clipPath id=\"clip8402\">\n",
       "    <rect x=\"153\" y=\"47\" width=\"2200\" height=\"1441\"/>\n",
       "  </clipPath>\n",
       "</defs>\n",
       "<polyline clip-path=\"url(#clip8402)\" style=\"stroke:#000000; stroke-width:2; stroke-opacity:0.1; fill:none\" points=\"\n",
       "  437.92,1487.47 437.92,47.2441 \n",
       "  \"/>\n",
       "<polyline clip-path=\"url(#clip8402)\" style=\"stroke:#000000; stroke-width:2; stroke-opacity:0.1; fill:none\" points=\"\n",
       "  845.624,1487.47 845.624,47.2441 \n",
       "  \"/>\n",
       "<polyline clip-path=\"url(#clip8402)\" style=\"stroke:#000000; stroke-width:2; stroke-opacity:0.1; fill:none\" points=\"\n",
       "  1253.33,1487.47 1253.33,47.2441 \n",
       "  \"/>\n",
       "<polyline clip-path=\"url(#clip8402)\" style=\"stroke:#000000; stroke-width:2; stroke-opacity:0.1; fill:none\" points=\"\n",
       "  1661.03,1487.47 1661.03,47.2441 \n",
       "  \"/>\n",
       "<polyline clip-path=\"url(#clip8402)\" style=\"stroke:#000000; stroke-width:2; stroke-opacity:0.1; fill:none\" points=\"\n",
       "  2068.73,1487.47 2068.73,47.2441 \n",
       "  \"/>\n",
       "<polyline clip-path=\"url(#clip8402)\" style=\"stroke:#000000; stroke-width:2; stroke-opacity:0.1; fill:none\" points=\"\n",
       "  153.898,1446.71 2352.76,1446.71 \n",
       "  \"/>\n",
       "<polyline clip-path=\"url(#clip8402)\" style=\"stroke:#000000; stroke-width:2; stroke-opacity:0.1; fill:none\" points=\"\n",
       "  153.898,1120.04 2352.76,1120.04 \n",
       "  \"/>\n",
       "<polyline clip-path=\"url(#clip8402)\" style=\"stroke:#000000; stroke-width:2; stroke-opacity:0.1; fill:none\" points=\"\n",
       "  153.898,793.358 2352.76,793.358 \n",
       "  \"/>\n",
       "<polyline clip-path=\"url(#clip8402)\" style=\"stroke:#000000; stroke-width:2; stroke-opacity:0.1; fill:none\" points=\"\n",
       "  153.898,466.681 2352.76,466.681 \n",
       "  \"/>\n",
       "<polyline clip-path=\"url(#clip8402)\" style=\"stroke:#000000; stroke-width:2; stroke-opacity:0.1; fill:none\" points=\"\n",
       "  153.898,140.003 2352.76,140.003 \n",
       "  \"/>\n",
       "<polyline clip-path=\"url(#clip8400)\" style=\"stroke:#000000; stroke-width:4; stroke-opacity:1; fill:none\" points=\"\n",
       "  153.898,1487.47 2352.76,1487.47 \n",
       "  \"/>\n",
       "<polyline clip-path=\"url(#clip8400)\" style=\"stroke:#000000; stroke-width:4; stroke-opacity:1; fill:none\" points=\"\n",
       "  153.898,1487.47 153.898,47.2441 \n",
       "  \"/>\n",
       "<polyline clip-path=\"url(#clip8400)\" style=\"stroke:#000000; stroke-width:4; stroke-opacity:1; fill:none\" points=\"\n",
       "  437.92,1487.47 437.92,1470.19 \n",
       "  \"/>\n",
       "<polyline clip-path=\"url(#clip8400)\" style=\"stroke:#000000; stroke-width:4; stroke-opacity:1; fill:none\" points=\"\n",
       "  845.624,1487.47 845.624,1470.19 \n",
       "  \"/>\n",
       "<polyline clip-path=\"url(#clip8400)\" style=\"stroke:#000000; stroke-width:4; stroke-opacity:1; fill:none\" points=\"\n",
       "  1253.33,1487.47 1253.33,1470.19 \n",
       "  \"/>\n",
       "<polyline clip-path=\"url(#clip8400)\" style=\"stroke:#000000; stroke-width:4; stroke-opacity:1; fill:none\" points=\"\n",
       "  1661.03,1487.47 1661.03,1470.19 \n",
       "  \"/>\n",
       "<polyline clip-path=\"url(#clip8400)\" style=\"stroke:#000000; stroke-width:4; stroke-opacity:1; fill:none\" points=\"\n",
       "  2068.73,1487.47 2068.73,1470.19 \n",
       "  \"/>\n",
       "<polyline clip-path=\"url(#clip8400)\" style=\"stroke:#000000; stroke-width:4; stroke-opacity:1; fill:none\" points=\"\n",
       "  153.898,1446.71 180.284,1446.71 \n",
       "  \"/>\n",
       "<polyline clip-path=\"url(#clip8400)\" style=\"stroke:#000000; stroke-width:4; stroke-opacity:1; fill:none\" points=\"\n",
       "  153.898,1120.04 180.284,1120.04 \n",
       "  \"/>\n",
       "<polyline clip-path=\"url(#clip8400)\" style=\"stroke:#000000; stroke-width:4; stroke-opacity:1; fill:none\" points=\"\n",
       "  153.898,793.358 180.284,793.358 \n",
       "  \"/>\n",
       "<polyline clip-path=\"url(#clip8400)\" style=\"stroke:#000000; stroke-width:4; stroke-opacity:1; fill:none\" points=\"\n",
       "  153.898,466.681 180.284,466.681 \n",
       "  \"/>\n",
       "<polyline clip-path=\"url(#clip8400)\" style=\"stroke:#000000; stroke-width:4; stroke-opacity:1; fill:none\" points=\"\n",
       "  153.898,140.003 180.284,140.003 \n",
       "  \"/>\n",
       "<g clip-path=\"url(#clip8400)\">\n",
       "<text style=\"fill:#000000; fill-opacity:1; font-family:Arial,Helvetica Neue,Helvetica,sans-serif; font-size:48px; text-anchor:middle;\" transform=\"rotate(0, 437.92, 1541.47)\" x=\"437.92\" y=\"1541.47\">1</text>\n",
       "</g>\n",
       "<g clip-path=\"url(#clip8400)\">\n",
       "<text style=\"fill:#000000; fill-opacity:1; font-family:Arial,Helvetica Neue,Helvetica,sans-serif; font-size:48px; text-anchor:middle;\" transform=\"rotate(0, 845.624, 1541.47)\" x=\"845.624\" y=\"1541.47\">2</text>\n",
       "</g>\n",
       "<g clip-path=\"url(#clip8400)\">\n",
       "<text style=\"fill:#000000; fill-opacity:1; font-family:Arial,Helvetica Neue,Helvetica,sans-serif; font-size:48px; text-anchor:middle;\" transform=\"rotate(0, 1253.33, 1541.47)\" x=\"1253.33\" y=\"1541.47\">3</text>\n",
       "</g>\n",
       "<g clip-path=\"url(#clip8400)\">\n",
       "<text style=\"fill:#000000; fill-opacity:1; font-family:Arial,Helvetica Neue,Helvetica,sans-serif; font-size:48px; text-anchor:middle;\" transform=\"rotate(0, 1661.03, 1541.47)\" x=\"1661.03\" y=\"1541.47\">4</text>\n",
       "</g>\n",
       "<g clip-path=\"url(#clip8400)\">\n",
       "<text style=\"fill:#000000; fill-opacity:1; font-family:Arial,Helvetica Neue,Helvetica,sans-serif; font-size:48px; text-anchor:middle;\" transform=\"rotate(0, 2068.73, 1541.47)\" x=\"2068.73\" y=\"1541.47\">5</text>\n",
       "</g>\n",
       "<g clip-path=\"url(#clip8400)\">\n",
       "<text style=\"fill:#000000; fill-opacity:1; font-family:Arial,Helvetica Neue,Helvetica,sans-serif; font-size:48px; text-anchor:end;\" transform=\"rotate(0, 129.898, 1464.21)\" x=\"129.898\" y=\"1464.21\">0.0</text>\n",
       "</g>\n",
       "<g clip-path=\"url(#clip8400)\">\n",
       "<text style=\"fill:#000000; fill-opacity:1; font-family:Arial,Helvetica Neue,Helvetica,sans-serif; font-size:48px; text-anchor:end;\" transform=\"rotate(0, 129.898, 1137.54)\" x=\"129.898\" y=\"1137.54\">0.2</text>\n",
       "</g>\n",
       "<g clip-path=\"url(#clip8400)\">\n",
       "<text style=\"fill:#000000; fill-opacity:1; font-family:Arial,Helvetica Neue,Helvetica,sans-serif; font-size:48px; text-anchor:end;\" transform=\"rotate(0, 129.898, 810.858)\" x=\"129.898\" y=\"810.858\">0.4</text>\n",
       "</g>\n",
       "<g clip-path=\"url(#clip8400)\">\n",
       "<text style=\"fill:#000000; fill-opacity:1; font-family:Arial,Helvetica Neue,Helvetica,sans-serif; font-size:48px; text-anchor:end;\" transform=\"rotate(0, 129.898, 484.181)\" x=\"129.898\" y=\"484.181\">0.6</text>\n",
       "</g>\n",
       "<g clip-path=\"url(#clip8400)\">\n",
       "<text style=\"fill:#000000; fill-opacity:1; font-family:Arial,Helvetica Neue,Helvetica,sans-serif; font-size:48px; text-anchor:end;\" transform=\"rotate(0, 129.898, 157.503)\" x=\"129.898\" y=\"157.503\">0.8</text>\n",
       "</g>\n",
       "<path clip-path=\"url(#clip8402)\" d=\"\n",
       "M274.839 114.978 L274.839 1446.71 L601.002 1446.71 L601.002 114.978 L274.839 114.978 L274.839 114.978  Z\n",
       "  \" fill=\"#009af9\" fill-rule=\"evenodd\" fill-opacity=\"1\"/>\n",
       "<polyline clip-path=\"url(#clip8402)\" style=\"stroke:#000000; stroke-width:4; stroke-opacity:1; fill:none\" points=\"\n",
       "  274.839,114.978 274.839,1446.71 601.002,1446.71 601.002,114.978 274.839,114.978 \n",
       "  \"/>\n",
       "<path clip-path=\"url(#clip8402)\" d=\"\n",
       "M682.542 130.992 L682.542 1446.71 L1008.7 1446.71 L1008.7 130.992 L682.542 130.992 L682.542 130.992  Z\n",
       "  \" fill=\"#009af9\" fill-rule=\"evenodd\" fill-opacity=\"1\"/>\n",
       "<polyline clip-path=\"url(#clip8402)\" style=\"stroke:#000000; stroke-width:4; stroke-opacity:1; fill:none\" points=\"\n",
       "  682.542,130.992 682.542,1446.71 1008.7,1446.71 1008.7,130.992 682.542,130.992 \n",
       "  \"/>\n",
       "<path clip-path=\"url(#clip8402)\" d=\"\n",
       "M1090.25 107.069 L1090.25 1446.71 L1416.41 1446.71 L1416.41 107.069 L1090.25 107.069 L1090.25 107.069  Z\n",
       "  \" fill=\"#009af9\" fill-rule=\"evenodd\" fill-opacity=\"1\"/>\n",
       "<polyline clip-path=\"url(#clip8402)\" style=\"stroke:#000000; stroke-width:4; stroke-opacity:1; fill:none\" points=\"\n",
       "  1090.25,107.069 1090.25,1446.71 1416.41,1446.71 1416.41,107.069 1090.25,107.069 \n",
       "  \"/>\n",
       "<path clip-path=\"url(#clip8402)\" d=\"\n",
       "M1497.95 88.0053 L1497.95 1446.71 L1824.11 1446.71 L1824.11 88.0053 L1497.95 88.0053 L1497.95 88.0053  Z\n",
       "  \" fill=\"#009af9\" fill-rule=\"evenodd\" fill-opacity=\"1\"/>\n",
       "<polyline clip-path=\"url(#clip8402)\" style=\"stroke:#000000; stroke-width:4; stroke-opacity:1; fill:none\" points=\"\n",
       "  1497.95,88.0053 1497.95,1446.71 1824.11,1446.71 1824.11,88.0053 1497.95,88.0053 \n",
       "  \"/>\n",
       "<path clip-path=\"url(#clip8402)\" d=\"\n",
       "M1905.65 127.727 L1905.65 1446.71 L2231.81 1446.71 L2231.81 127.727 L1905.65 127.727 L1905.65 127.727  Z\n",
       "  \" fill=\"#009af9\" fill-rule=\"evenodd\" fill-opacity=\"1\"/>\n",
       "<polyline clip-path=\"url(#clip8402)\" style=\"stroke:#000000; stroke-width:4; stroke-opacity:1; fill:none\" points=\"\n",
       "  1905.65,127.727 1905.65,1446.71 2231.81,1446.71 2231.81,127.727 1905.65,127.727 \n",
       "  \"/>\n",
       "<path clip-path=\"url(#clip8400)\" d=\"\n",
       "M1532.56 910.125 L2280.76 910.125 L2280.76 789.165 L1532.56 789.165  Z\n",
       "  \" fill=\"#ffffff\" fill-rule=\"evenodd\" fill-opacity=\"1\"/>\n",
       "<polyline clip-path=\"url(#clip8400)\" style=\"stroke:#000000; stroke-width:4; stroke-opacity:1; fill:none\" points=\"\n",
       "  1532.56,910.125 2280.76,910.125 2280.76,789.165 1532.56,789.165 1532.56,910.125 \n",
       "  \"/>\n",
       "<path clip-path=\"url(#clip8400)\" d=\"\n",
       "M1556.56 873.837 L1700.56 873.837 L1700.56 825.453 L1556.56 825.453 L1556.56 873.837  Z\n",
       "  \" fill=\"#009af9\" fill-rule=\"evenodd\" fill-opacity=\"1\"/>\n",
       "<polyline clip-path=\"url(#clip8400)\" style=\"stroke:#000000; stroke-width:4; stroke-opacity:1; fill:none\" points=\"\n",
       "  1556.56,873.837 1700.56,873.837 1700.56,825.453 1556.56,825.453 1556.56,873.837 \n",
       "  \"/>\n",
       "<g clip-path=\"url(#clip8400)\">\n",
       "<text style=\"fill:#000000; fill-opacity:1; font-family:Arial,Helvetica Neue,Helvetica,sans-serif; font-size:48px; text-anchor:start;\" transform=\"rotate(0, 1724.56, 867.145)\" x=\"1724.56\" y=\"867.145\">F1 scores across KFCV</text>\n",
       "</g>\n",
       "</svg>\n"
      ]
     },
     "execution_count": 55,
     "metadata": {},
     "output_type": "execute_result"
    }
   ],
   "source": [
    "bar(F1, label = \"F1 scores across KFCV\", legend = :right)"
   ]
  },
  {
   "cell_type": "markdown",
   "metadata": {},
   "source": [
    "# Conclusions"
   ]
  },
  {
   "cell_type": "markdown",
   "metadata": {},
   "source": [
    "The FKNN model although it meets all the requirements for the project, is still not ideal for this dataset. Its accuracy rate is average, just like its Area Under Curve score. However, the F1 score for class 1 (good wines) is decent. So, if we were to use this model primarily to predict if a wine is good, it's an acceptable option."
   ]
  },
  {
   "cell_type": "markdown",
   "metadata": {},
   "source": [
    "Despite its average performance, this FKNN model is quite stable, something that's evident from the 5-fold cross validation conducted. So, if its performance is acceptable by the project stakeholders, it is reliable enough to deploy."
   ]
  },
  {
   "cell_type": "markdown",
   "metadata": {},
   "source": [
    "# Sandbox"
   ]
  },
  {
   "cell_type": "markdown",
   "metadata": {},
   "source": [
    "A place for you to experiment with the above dataset and methods, without making a mess of the whole notebook or disrupt its flow. It's much easier to maintain this section than keep track of various copies of this notebook."
   ]
  },
  {
   "cell_type": "code",
   "execution_count": null,
   "metadata": {},
   "outputs": [],
   "source": []
  }
 ],
 "metadata": {
  "kernelspec": {
   "display_name": "Julia 1.4.1",
   "language": "julia",
   "name": "julia-1.4"
  },
  "language_info": {
   "file_extension": ".jl",
   "mimetype": "application/julia",
   "name": "julia",
   "version": "1.4.1"
  }
 },
 "nbformat": 4,
 "nbformat_minor": 2
}
