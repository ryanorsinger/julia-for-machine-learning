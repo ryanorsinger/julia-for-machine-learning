{
 "cells": [
  {
   "cell_type": "markdown",
   "metadata": {},
   "source": [
    "# Chapter 5 code for Julia for Machine Learning book"
   ]
  },
  {
   "cell_type": "markdown",
   "metadata": {},
   "source": [
    "(c) 2020 by Zacharias Voulgaris, all rights reserved."
   ]
  },
  {
   "cell_type": "markdown",
   "metadata": {},
   "source": [
    "This code has been tested for Julia 1.4.1. "
   ]
  },
  {
   "cell_type": "markdown",
   "metadata": {},
   "source": [
    " "
   ]
  },
  {
   "cell_type": "markdown",
   "metadata": {},
   "source": [
    "# Initialization"
   ]
  },
  {
   "cell_type": "markdown",
   "metadata": {},
   "source": [
    "## Packages"
   ]
  },
  {
   "cell_type": "markdown",
   "metadata": {},
   "source": [
    "Get these packages in memory for the experiments that follow."
   ]
  },
  {
   "cell_type": "code",
   "execution_count": 12,
   "metadata": {},
   "outputs": [],
   "source": [
    "using CSV, DataFrames;"
   ]
  },
  {
   "cell_type": "code",
   "execution_count": 13,
   "metadata": {},
   "outputs": [],
   "source": [
    "using Clustering, DecisionTree, GLM, XGBoost;"
   ]
  },
  {
   "cell_type": "code",
   "execution_count": 14,
   "metadata": {},
   "outputs": [],
   "source": [
    "using StatsBase, Distributions, HypothesisTests, MultivariateStats;"
   ]
  },
  {
   "cell_type": "code",
   "execution_count": 15,
   "metadata": {},
   "outputs": [],
   "source": [
    "using Distances, MLLabelUtils, MLBase;"
   ]
  },
  {
   "cell_type": "code",
   "execution_count": 16,
   "metadata": {},
   "outputs": [],
   "source": [
    "using TSne, Gadfly;"
   ]
  },
  {
   "cell_type": "code",
   "execution_count": 17,
   "metadata": {},
   "outputs": [],
   "source": [
    "using ScikitLearn.CrossValidation: cross_val_score;"
   ]
  },
  {
   "cell_type": "code",
   "execution_count": 18,
   "metadata": {},
   "outputs": [],
   "source": [
    "using Random;"
   ]
  },
  {
   "cell_type": "markdown",
   "metadata": {},
   "source": [
    "Note: if you got an alarming large area of red in the outputs of these commands, don't panic. Most of these are just warnings that most likely won't affect the experience of using these packages. Also, the first time you run these packages it is bound to take more time than other times.\n",
    " "
   ]
  },
  {
   "cell_type": "markdown",
   "metadata": {},
   "source": [
    "## Auxiliary functions"
   ]
  },
  {
   "cell_type": "code",
   "execution_count": 19,
   "metadata": {},
   "outputs": [
    {
     "data": {
      "text/plain": [
       "partition (generic function with 2 methods)"
      ]
     },
     "execution_count": 19,
     "metadata": {},
     "output_type": "execute_result"
    }
   ],
   "source": [
    "function partition(ind::Union{Array{Int64, 1}, UnitRange{Int64}}, r::Float64, shuffle::Bool = true)\n",
    "    if typeof(ind) == UnitRange{Int64}; ind = collect(ind); end\n",
    "    N = length(ind) # total number of data points in sample\n",
    "    n = round(Int64, N*r) # number of data points in training set (train)\n",
    "    train = [0, 0] # initialize train output\n",
    "    test = [0, 0] # initialize test output\n",
    "    \n",
    "    if shuffle        \n",
    "        ind_ = ind[randperm(N)]\n",
    "    else\n",
    "        ind_ = ind\n",
    "    end\n",
    "    \n",
    "    train = ind_[1:n]\n",
    "    test = ind_[(n+1):end]\n",
    "    return train, test\n",
    "end"
   ]
  },
  {
   "cell_type": "markdown",
   "metadata": {},
   "source": [
    "# Load data from localization.csv file"
   ]
  },
  {
   "cell_type": "code",
   "execution_count": 20,
   "metadata": {},
   "outputs": [],
   "source": [
    "df = CSV.read(\"localization.csv\", header = false);"
   ]
  },
  {
   "cell_type": "code",
   "execution_count": 21,
   "metadata": {},
   "outputs": [
    {
     "data": {
      "text/plain": [
       "8-element Array{String,1}:\n",
       " \"Column1\"\n",
       " \"Column2\"\n",
       " \"Column3\"\n",
       " \"Column4\"\n",
       " \"Column5\"\n",
       " \"Column6\"\n",
       " \"Column7\"\n",
       " \"Column8\""
      ]
     },
     "execution_count": 21,
     "metadata": {},
     "output_type": "execute_result"
    }
   ],
   "source": [
    "old_names = names(df)"
   ]
  },
  {
   "cell_type": "code",
   "execution_count": 12,
   "metadata": {},
   "outputs": [
    {
     "data": {
      "text/plain": [
       "8-element Array{Symbol,1}:\n",
       " :WiFi1\n",
       " :WiFi2\n",
       " :WiFi3\n",
       " :WiFi4\n",
       " :WiFi5\n",
       " :WiFi6\n",
       " :WiFi7\n",
       " :Room"
      ]
     },
     "execution_count": 12,
     "metadata": {},
     "output_type": "execute_result"
    }
   ],
   "source": [
    "new_names = map(Symbol, [\"WiFi1\", \"WiFi2\", \"WiFi3\", \"WiFi4\", \"WiFi5\", \"WiFi6\", \"WiFi7\", \"Room\"])"
   ]
  },
  {
   "cell_type": "code",
   "execution_count": 13,
   "metadata": {},
   "outputs": [
    {
     "data": {
      "text/plain": [
       "8-element Array{Symbol,1}:\n",
       " :WiFi1\n",
       " :WiFi2\n",
       " :WiFi3\n",
       " :WiFi4\n",
       " :WiFi5\n",
       " :WiFi6\n",
       " :WiFi7\n",
       " :Room"
      ]
     },
     "execution_count": 13,
     "metadata": {},
     "output_type": "execute_result"
    }
   ],
   "source": [
    "new_names"
   ]
  },
  {
   "cell_type": "code",
   "execution_count": 14,
   "metadata": {},
   "outputs": [],
   "source": [
    "for i = 1:8\n",
    "    rename!(df, old_names[i] => new_names[i])\n",
    "end"
   ]
  },
  {
   "cell_type": "code",
   "execution_count": 15,
   "metadata": {},
   "outputs": [
    {
     "data": {
      "text/plain": [
       "8-element Array{String,1}:\n",
       " \"WiFi1\"\n",
       " \"WiFi2\"\n",
       " \"WiFi3\"\n",
       " \"WiFi4\"\n",
       " \"WiFi5\"\n",
       " \"WiFi6\"\n",
       " \"WiFi7\"\n",
       " \"Room\""
      ]
     },
     "execution_count": 15,
     "metadata": {},
     "output_type": "execute_result"
    }
   ],
   "source": [
    "names(df)"
   ]
  },
  {
   "cell_type": "code",
   "execution_count": 16,
   "metadata": {},
   "outputs": [
    {
     "name": "stderr",
     "output_type": "stream",
     "text": [
      "┌ Warning: `getindex(df::DataFrame, col_inds::Union{AbstractVector, Regex, Not})` is deprecated, use `df[:, col_inds]` instead.\n",
      "│   caller = top-level scope at In[16]:1\n",
      "└ @ Core In[16]:1\n",
      "┌ Warning: `setindex!(df::DataFrame, v::AbstractVector, col_ind::ColumnIndex)` is deprecated, use `begin\n",
      "│     df[!, col_ind] = v\n",
      "│     df\n",
      "│ end` instead.\n",
      "│   caller = top-level scope at In[16]:1\n",
      "└ @ Core In[16]:1\n"
     ]
    },
    {
     "data": {
      "text/plain": [
       "2000-element Array{Float64,1}:\n",
       " -3829.9927919586935\n",
       " -3964.996508185597\n",
       " -3940.003954577194\n",
       " -3875.000908273507\n",
       " -3899.991778022533\n",
       " -3960.0073734305693\n",
       " -3980.0052514356635\n",
       " -3910.032825609012\n",
       " -3885.0192579638756\n",
       " -4099.99940695536\n",
       " -4069.99395461761\n",
       " -3905.017828659455\n",
       " -3905.0179110583836\n",
       "     ⋮\n",
       " -3815.0034319620927\n",
       " -3655.009084669348\n",
       " -3780.001371980961\n",
       " -3720.006566034585\n",
       " -3970.0040726666098\n",
       " -4010.009619427603\n",
       " -3999.992813132378\n",
       " -4125.000745279454\n",
       " -4020.0021038009913\n",
       " -4024.989793418792\n",
       " -3969.9981485671083\n",
       " -3954.9989804582256"
      ]
     },
     "execution_count": 16,
     "metadata": {},
     "output_type": "execute_result"
    }
   ],
   "source": [
    "df[:RegressionTarget] = Matrix(df[[1, 4, 6, 7]]) * [5, 10, 15, 20] + 0.01*randn(2000)"
   ]
  },
  {
   "cell_type": "code",
   "execution_count": 17,
   "metadata": {},
   "outputs": [
    {
     "data": {
      "text/html": [
       "<table class=\"data-frame\"><thead><tr><th></th><th>WiFi1</th><th>WiFi2</th><th>WiFi3</th><th>WiFi4</th><th>WiFi5</th><th>WiFi6</th><th>WiFi7</th><th>Room</th><th>RegressionTarget</th></tr><tr><th></th><th>Int64</th><th>Int64</th><th>Int64</th><th>Int64</th><th>Int64</th><th>Int64</th><th>Int64</th><th>Int64</th><th>Float64</th></tr></thead><tbody><p>10 rows × 9 columns</p><tr><th>1</th><td>-64</td><td>-56</td><td>-61</td><td>-66</td><td>-71</td><td>-82</td><td>-81</td><td>1</td><td>-3829.99</td></tr><tr><th>2</th><td>-68</td><td>-57</td><td>-61</td><td>-65</td><td>-71</td><td>-85</td><td>-85</td><td>1</td><td>-3965.0</td></tr><tr><th>3</th><td>-63</td><td>-60</td><td>-60</td><td>-67</td><td>-76</td><td>-85</td><td>-84</td><td>1</td><td>-3940.0</td></tr><tr><th>4</th><td>-61</td><td>-60</td><td>-68</td><td>-62</td><td>-77</td><td>-90</td><td>-80</td><td>1</td><td>-3875.0</td></tr><tr><th>5</th><td>-63</td><td>-65</td><td>-60</td><td>-63</td><td>-77</td><td>-81</td><td>-87</td><td>1</td><td>-3899.99</td></tr><tr><th>6</th><td>-64</td><td>-55</td><td>-63</td><td>-66</td><td>-76</td><td>-88</td><td>-83</td><td>1</td><td>-3960.01</td></tr><tr><th>7</th><td>-65</td><td>-61</td><td>-65</td><td>-67</td><td>-69</td><td>-87</td><td>-84</td><td>1</td><td>-3980.01</td></tr><tr><th>8</th><td>-61</td><td>-63</td><td>-58</td><td>-66</td><td>-74</td><td>-87</td><td>-82</td><td>1</td><td>-3910.03</td></tr><tr><th>9</th><td>-65</td><td>-60</td><td>-59</td><td>-63</td><td>-76</td><td>-86</td><td>-82</td><td>1</td><td>-3885.02</td></tr><tr><th>10</th><td>-62</td><td>-60</td><td>-66</td><td>-68</td><td>-80</td><td>-86</td><td>-91</td><td>1</td><td>-4100.0</td></tr></tbody></table>"
      ],
      "text/latex": [
       "\\begin{tabular}{r|ccccccccc}\n",
       "\t& WiFi1 & WiFi2 & WiFi3 & WiFi4 & WiFi5 & WiFi6 & WiFi7 & Room & RegressionTarget\\\\\n",
       "\t\\hline\n",
       "\t& Int64 & Int64 & Int64 & Int64 & Int64 & Int64 & Int64 & Int64 & Float64\\\\\n",
       "\t\\hline\n",
       "\t1 & -64 & -56 & -61 & -66 & -71 & -82 & -81 & 1 & -3829.99 \\\\\n",
       "\t2 & -68 & -57 & -61 & -65 & -71 & -85 & -85 & 1 & -3965.0 \\\\\n",
       "\t3 & -63 & -60 & -60 & -67 & -76 & -85 & -84 & 1 & -3940.0 \\\\\n",
       "\t4 & -61 & -60 & -68 & -62 & -77 & -90 & -80 & 1 & -3875.0 \\\\\n",
       "\t5 & -63 & -65 & -60 & -63 & -77 & -81 & -87 & 1 & -3899.99 \\\\\n",
       "\t6 & -64 & -55 & -63 & -66 & -76 & -88 & -83 & 1 & -3960.01 \\\\\n",
       "\t7 & -65 & -61 & -65 & -67 & -69 & -87 & -84 & 1 & -3980.01 \\\\\n",
       "\t8 & -61 & -63 & -58 & -66 & -74 & -87 & -82 & 1 & -3910.03 \\\\\n",
       "\t9 & -65 & -60 & -59 & -63 & -76 & -86 & -82 & 1 & -3885.02 \\\\\n",
       "\t10 & -62 & -60 & -66 & -68 & -80 & -86 & -91 & 1 & -4100.0 \\\\\n",
       "\\end{tabular}\n"
      ],
      "text/plain": [
       "10×9 DataFrame. Omitted printing of 1 columns\n",
       "│ Row │ WiFi1 │ WiFi2 │ WiFi3 │ WiFi4 │ WiFi5 │ WiFi6 │ WiFi7 │ Room  │\n",
       "│     │ \u001b[90mInt64\u001b[39m │ \u001b[90mInt64\u001b[39m │ \u001b[90mInt64\u001b[39m │ \u001b[90mInt64\u001b[39m │ \u001b[90mInt64\u001b[39m │ \u001b[90mInt64\u001b[39m │ \u001b[90mInt64\u001b[39m │ \u001b[90mInt64\u001b[39m │\n",
       "├─────┼───────┼───────┼───────┼───────┼───────┼───────┼───────┼───────┤\n",
       "│ 1   │ -64   │ -56   │ -61   │ -66   │ -71   │ -82   │ -81   │ 1     │\n",
       "│ 2   │ -68   │ -57   │ -61   │ -65   │ -71   │ -85   │ -85   │ 1     │\n",
       "│ 3   │ -63   │ -60   │ -60   │ -67   │ -76   │ -85   │ -84   │ 1     │\n",
       "│ 4   │ -61   │ -60   │ -68   │ -62   │ -77   │ -90   │ -80   │ 1     │\n",
       "│ 5   │ -63   │ -65   │ -60   │ -63   │ -77   │ -81   │ -87   │ 1     │\n",
       "│ 6   │ -64   │ -55   │ -63   │ -66   │ -76   │ -88   │ -83   │ 1     │\n",
       "│ 7   │ -65   │ -61   │ -65   │ -67   │ -69   │ -87   │ -84   │ 1     │\n",
       "│ 8   │ -61   │ -63   │ -58   │ -66   │ -74   │ -87   │ -82   │ 1     │\n",
       "│ 9   │ -65   │ -60   │ -59   │ -63   │ -76   │ -86   │ -82   │ 1     │\n",
       "│ 10  │ -62   │ -60   │ -66   │ -68   │ -80   │ -86   │ -91   │ 1     │"
      ]
     },
     "execution_count": 17,
     "metadata": {},
     "output_type": "execute_result"
    }
   ],
   "source": [
    "first(df, 10)"
   ]
  },
  {
   "cell_type": "markdown",
   "metadata": {},
   "source": [
    "# Work the data using StatsBase package"
   ]
  },
  {
   "cell_type": "code",
   "execution_count": 11,
   "metadata": {},
   "outputs": [
    {
     "ename": "LoadError",
     "evalue": "UndefVarError: df not defined",
     "output_type": "error",
     "traceback": [
      "UndefVarError: df not defined",
      "",
      "Stacktrace:",
      " [1] top-level scope at In[11]:1",
      " [2] include_string(::Function, ::Module, ::String, ::String) at ./loading.jl:1091"
     ]
    }
   ],
   "source": [
    "XX = map(Float64, Matrix(df[1:7]));"
   ]
  },
  {
   "cell_type": "code",
   "execution_count": 10,
   "metadata": {},
   "outputs": [
    {
     "ename": "LoadError",
     "evalue": "UndefVarError: XX not defined",
     "output_type": "error",
     "traceback": [
      "UndefVarError: XX not defined",
      "",
      "Stacktrace:",
      " [1] top-level scope at In[10]:1",
      " [2] include_string(::Function, ::Module, ::String, ::String) at ./loading.jl:1091"
     ]
    }
   ],
   "source": [
    "X = StatsBase.standardize(ZScoreTransform, XX, dims=2)\n",
    "size(X)"
   ]
  },
  {
   "cell_type": "code",
   "execution_count": 20,
   "metadata": {},
   "outputs": [
    {
     "name": "stderr",
     "output_type": "stream",
     "text": [
      "┌ Warning: `getindex(df::DataFrame, col_ind::ColumnIndex)` is deprecated, use `df[!, col_ind]` instead.\n",
      "│   caller = top-level scope at In[20]:1\n",
      "└ @ Core In[20]:1\n"
     ]
    },
    {
     "data": {
      "text/html": [
       "<table class=\"data-frame\"><thead><tr><th></th><th>x1</th><th>x2</th><th>x3</th><th>x4</th><th>x5</th><th>x6</th><th>x7</th><th>x8</th></tr><tr><th></th><th>Float64</th><th>Float64</th><th>Float64</th><th>Float64</th><th>Float64</th><th>Float64</th><th>Float64</th><th>Float64</th></tr></thead><tbody><p>2,000 rows × 8 columns</p><tr><th>1</th><td>0.478077</td><td>1.28936</td><td>0.782308</td><td>0.275256</td><td>-0.231795</td><td>-1.34731</td><td>-1.2459</td><td>1.0</td></tr><tr><th>2</th><td>0.207303</td><td>1.20495</td><td>0.84217</td><td>0.479389</td><td>-0.0647823</td><td>-1.33451</td><td>-1.33451</td><td>1.0</td></tr><tr><th>3</th><td>0.708444</td><td>0.98395</td><td>0.98395</td><td>0.341103</td><td>-0.485416</td><td>-1.31193</td><td>-1.2201</td><td>1.0</td></tr><tr><th>4</th><td>0.884579</td><td>0.971791</td><td>0.274095</td><td>0.797367</td><td>-0.510813</td><td>-1.64457</td><td>-0.772449</td><td>1.0</td></tr><tr><th>5</th><td>0.739762</td><td>0.551459</td><td>1.02222</td><td>0.739762</td><td>-0.578359</td><td>-0.954965</td><td>-1.51987</td><td>1.0</td></tr><tr><th>6</th><td>0.563639</td><td>1.31916</td><td>0.647586</td><td>0.395747</td><td>-0.443716</td><td>-1.45107</td><td>-1.03134</td><td>1.0</td></tr><tr><th>7</th><td>0.605834</td><td>1.00033</td><td>0.605834</td><td>0.408586</td><td>0.211337</td><td>-1.5639</td><td>-1.26802</td><td>1.0</td></tr><tr><th>8</th><td>0.823905</td><td>0.643676</td><td>1.09425</td><td>0.373332</td><td>-0.347585</td><td>-1.51908</td><td>-1.0685</td><td>1.0</td></tr><tr><th>9</th><td>0.465976</td><td>0.919009</td><td>1.00962</td><td>0.647189</td><td>-0.530695</td><td>-1.43676</td><td>-1.07433</td><td>1.0</td></tr><tr><th>10</th><td>0.918708</td><td>1.08152</td><td>0.59309</td><td>0.430281</td><td>-0.546573</td><td>-1.035</td><td>-1.44202</td><td>1.0</td></tr><tr><th>11</th><td>0.489995</td><td>1.01768</td><td>0.929733</td><td>0.489995</td><td>-0.389483</td><td>-0.917169</td><td>-1.62075</td><td>1.0</td></tr><tr><th>12</th><td>0.50721</td><td>1.09895</td><td>0.901707</td><td>0.309962</td><td>-0.183159</td><td>-1.5639</td><td>-1.07078</td><td>1.0</td></tr><tr><th>13</th><td>0.598345</td><td>1.14466</td><td>0.78045</td><td>0.41624</td><td>-0.31218</td><td>-1.31376</td><td>-1.31376</td><td>1.0</td></tr><tr><th>14</th><td>0.414681</td><td>1.01525</td><td>0.514776</td><td>0.815062</td><td>0.0142993</td><td>-1.48713</td><td>-1.28694</td><td>1.0</td></tr><tr><th>15</th><td>0.813445</td><td>0.973843</td><td>0.49265</td><td>0.653048</td><td>-0.22914</td><td>-1.43212</td><td>-1.27172</td><td>1.0</td></tr><tr><th>16</th><td>0.28693</td><td>0.827681</td><td>0.904932</td><td>0.750431</td><td>-0.0220715</td><td>-1.18083</td><td>-1.56708</td><td>1.0</td></tr><tr><th>17</th><td>0.487415</td><td>1.01816</td><td>0.714876</td><td>0.563236</td><td>-0.0433258</td><td>-1.10481</td><td>-1.63555</td><td>1.0</td></tr><tr><th>18</th><td>0.693927</td><td>1.19643</td><td>0.777677</td><td>0.275178</td><td>-0.39482</td><td>-1.23232</td><td>-1.31607</td><td>1.0</td></tr><tr><th>19</th><td>0.727038</td><td>0.886078</td><td>0.727038</td><td>0.647518</td><td>-0.306719</td><td>-1.18144</td><td>-1.49952</td><td>1.0</td></tr><tr><th>20</th><td>0.70844</td><td>0.994541</td><td>0.613073</td><td>0.517706</td><td>-0.0544954</td><td>-1.38963</td><td>-1.38963</td><td>1.0</td></tr><tr><th>21</th><td>0.699593</td><td>1.04325</td><td>0.613678</td><td>0.441848</td><td>-0.0736413</td><td>-1.10462</td><td>-1.62011</td><td>1.0</td></tr><tr><th>22</th><td>0.517549</td><td>1.13861</td><td>0.414039</td><td>0.517549</td><td>0.20702</td><td>-1.24212</td><td>-1.55265</td><td>1.0</td></tr><tr><th>23</th><td>0.59588</td><td>1.19176</td><td>0.59588</td><td>0.425628</td><td>-0.170251</td><td>-1.02151</td><td>-1.61739</td><td>1.0</td></tr><tr><th>24</th><td>0.495259</td><td>1.15114</td><td>0.588957</td><td>0.682655</td><td>-0.254322</td><td>-1.285</td><td>-1.3787</td><td>1.0</td></tr><tr><th>25</th><td>0.769962</td><td>1.25994</td><td>0.443311</td><td>0.524974</td><td>-0.53664</td><td>-1.10828</td><td>-1.35327</td><td>1.0</td></tr><tr><th>26</th><td>0.465053</td><td>0.994997</td><td>0.616465</td><td>0.31364</td><td>0.31364</td><td>-1.88184</td><td>-0.821954</td><td>1.0</td></tr><tr><th>27</th><td>0.7005</td><td>1.05712</td><td>0.789654</td><td>0.433036</td><td>-0.369354</td><td>-1.17174</td><td>-1.43921</td><td>1.0</td></tr><tr><th>28</th><td>0.571642</td><td>1.40916</td><td>0.6647</td><td>0.292468</td><td>-0.545054</td><td>-1.19646</td><td>-1.19646</td><td>1.0</td></tr><tr><th>29</th><td>0.497137</td><td>1.34591</td><td>0.751768</td><td>0.157629</td><td>-0.181879</td><td>-1.37016</td><td>-1.2004</td><td>1.0</td></tr><tr><th>30</th><td>0.625523</td><td>0.917434</td><td>0.917434</td><td>0.625523</td><td>-0.54212</td><td>-1.22325</td><td>-1.32055</td><td>1.0</td></tr><tr><th>&vellip;</th><td>&vellip;</td><td>&vellip;</td><td>&vellip;</td><td>&vellip;</td><td>&vellip;</td><td>&vellip;</td><td>&vellip;</td><td>&vellip;</td></tr></tbody></table>"
      ],
      "text/latex": [
       "\\begin{tabular}{r|cccccccc}\n",
       "\t& x1 & x2 & x3 & x4 & x5 & x6 & x7 & x8\\\\\n",
       "\t\\hline\n",
       "\t& Float64 & Float64 & Float64 & Float64 & Float64 & Float64 & Float64 & Float64\\\\\n",
       "\t\\hline\n",
       "\t1 & 0.478077 & 1.28936 & 0.782308 & 0.275256 & -0.231795 & -1.34731 & -1.2459 & 1.0 \\\\\n",
       "\t2 & 0.207303 & 1.20495 & 0.84217 & 0.479389 & -0.0647823 & -1.33451 & -1.33451 & 1.0 \\\\\n",
       "\t3 & 0.708444 & 0.98395 & 0.98395 & 0.341103 & -0.485416 & -1.31193 & -1.2201 & 1.0 \\\\\n",
       "\t4 & 0.884579 & 0.971791 & 0.274095 & 0.797367 & -0.510813 & -1.64457 & -0.772449 & 1.0 \\\\\n",
       "\t5 & 0.739762 & 0.551459 & 1.02222 & 0.739762 & -0.578359 & -0.954965 & -1.51987 & 1.0 \\\\\n",
       "\t6 & 0.563639 & 1.31916 & 0.647586 & 0.395747 & -0.443716 & -1.45107 & -1.03134 & 1.0 \\\\\n",
       "\t7 & 0.605834 & 1.00033 & 0.605834 & 0.408586 & 0.211337 & -1.5639 & -1.26802 & 1.0 \\\\\n",
       "\t8 & 0.823905 & 0.643676 & 1.09425 & 0.373332 & -0.347585 & -1.51908 & -1.0685 & 1.0 \\\\\n",
       "\t9 & 0.465976 & 0.919009 & 1.00962 & 0.647189 & -0.530695 & -1.43676 & -1.07433 & 1.0 \\\\\n",
       "\t10 & 0.918708 & 1.08152 & 0.59309 & 0.430281 & -0.546573 & -1.035 & -1.44202 & 1.0 \\\\\n",
       "\t11 & 0.489995 & 1.01768 & 0.929733 & 0.489995 & -0.389483 & -0.917169 & -1.62075 & 1.0 \\\\\n",
       "\t12 & 0.50721 & 1.09895 & 0.901707 & 0.309962 & -0.183159 & -1.5639 & -1.07078 & 1.0 \\\\\n",
       "\t13 & 0.598345 & 1.14466 & 0.78045 & 0.41624 & -0.31218 & -1.31376 & -1.31376 & 1.0 \\\\\n",
       "\t14 & 0.414681 & 1.01525 & 0.514776 & 0.815062 & 0.0142993 & -1.48713 & -1.28694 & 1.0 \\\\\n",
       "\t15 & 0.813445 & 0.973843 & 0.49265 & 0.653048 & -0.22914 & -1.43212 & -1.27172 & 1.0 \\\\\n",
       "\t16 & 0.28693 & 0.827681 & 0.904932 & 0.750431 & -0.0220715 & -1.18083 & -1.56708 & 1.0 \\\\\n",
       "\t17 & 0.487415 & 1.01816 & 0.714876 & 0.563236 & -0.0433258 & -1.10481 & -1.63555 & 1.0 \\\\\n",
       "\t18 & 0.693927 & 1.19643 & 0.777677 & 0.275178 & -0.39482 & -1.23232 & -1.31607 & 1.0 \\\\\n",
       "\t19 & 0.727038 & 0.886078 & 0.727038 & 0.647518 & -0.306719 & -1.18144 & -1.49952 & 1.0 \\\\\n",
       "\t20 & 0.70844 & 0.994541 & 0.613073 & 0.517706 & -0.0544954 & -1.38963 & -1.38963 & 1.0 \\\\\n",
       "\t21 & 0.699593 & 1.04325 & 0.613678 & 0.441848 & -0.0736413 & -1.10462 & -1.62011 & 1.0 \\\\\n",
       "\t22 & 0.517549 & 1.13861 & 0.414039 & 0.517549 & 0.20702 & -1.24212 & -1.55265 & 1.0 \\\\\n",
       "\t23 & 0.59588 & 1.19176 & 0.59588 & 0.425628 & -0.170251 & -1.02151 & -1.61739 & 1.0 \\\\\n",
       "\t24 & 0.495259 & 1.15114 & 0.588957 & 0.682655 & -0.254322 & -1.285 & -1.3787 & 1.0 \\\\\n",
       "\t25 & 0.769962 & 1.25994 & 0.443311 & 0.524974 & -0.53664 & -1.10828 & -1.35327 & 1.0 \\\\\n",
       "\t26 & 0.465053 & 0.994997 & 0.616465 & 0.31364 & 0.31364 & -1.88184 & -0.821954 & 1.0 \\\\\n",
       "\t27 & 0.7005 & 1.05712 & 0.789654 & 0.433036 & -0.369354 & -1.17174 & -1.43921 & 1.0 \\\\\n",
       "\t28 & 0.571642 & 1.40916 & 0.6647 & 0.292468 & -0.545054 & -1.19646 & -1.19646 & 1.0 \\\\\n",
       "\t29 & 0.497137 & 1.34591 & 0.751768 & 0.157629 & -0.181879 & -1.37016 & -1.2004 & 1.0 \\\\\n",
       "\t30 & 0.625523 & 0.917434 & 0.917434 & 0.625523 & -0.54212 & -1.22325 & -1.32055 & 1.0 \\\\\n",
       "\t$\\dots$ & $\\dots$ & $\\dots$ & $\\dots$ & $\\dots$ & $\\dots$ & $\\dots$ & $\\dots$ & $\\dots$ \\\\\n",
       "\\end{tabular}\n"
      ],
      "text/plain": [
       "2000×8 DataFrame. Omitted printing of 2 columns\n",
       "│ Row  │ x1        │ x2       │ x3       │ x4         │ x5         │ x6        │\n",
       "│      │ \u001b[90mFloat64\u001b[39m   │ \u001b[90mFloat64\u001b[39m  │ \u001b[90mFloat64\u001b[39m  │ \u001b[90mFloat64\u001b[39m    │ \u001b[90mFloat64\u001b[39m    │ \u001b[90mFloat64\u001b[39m   │\n",
       "├──────┼───────────┼──────────┼──────────┼────────────┼────────────┼───────────┤\n",
       "│ 1    │ 0.478077  │ 1.28936  │ 0.782308 │ 0.275256   │ -0.231795  │ -1.34731  │\n",
       "│ 2    │ 0.207303  │ 1.20495  │ 0.84217  │ 0.479389   │ -0.0647823 │ -1.33451  │\n",
       "│ 3    │ 0.708444  │ 0.98395  │ 0.98395  │ 0.341103   │ -0.485416  │ -1.31193  │\n",
       "│ 4    │ 0.884579  │ 0.971791 │ 0.274095 │ 0.797367   │ -0.510813  │ -1.64457  │\n",
       "│ 5    │ 0.739762  │ 0.551459 │ 1.02222  │ 0.739762   │ -0.578359  │ -0.954965 │\n",
       "│ 6    │ 0.563639  │ 1.31916  │ 0.647586 │ 0.395747   │ -0.443716  │ -1.45107  │\n",
       "│ 7    │ 0.605834  │ 1.00033  │ 0.605834 │ 0.408586   │ 0.211337   │ -1.5639   │\n",
       "│ 8    │ 0.823905  │ 0.643676 │ 1.09425  │ 0.373332   │ -0.347585  │ -1.51908  │\n",
       "│ 9    │ 0.465976  │ 0.919009 │ 1.00962  │ 0.647189   │ -0.530695  │ -1.43676  │\n",
       "│ 10   │ 0.918708  │ 1.08152  │ 0.59309  │ 0.430281   │ -0.546573  │ -1.035    │\n",
       "⋮\n",
       "│ 1990 │ 0.424393  │ 0.502571 │ 0.580749 │ 0.0335047  │ 1.20617    │ -1.37369  │\n",
       "│ 1991 │ 0.268086  │ 0.462217 │ 0.785769 │ 0.00924434 │ 1.17403    │ -1.15554  │\n",
       "│ 1992 │ 0.0831825 │ 0.471368 │ 0.988948 │ 0.212578   │ 0.988948   │ -1.34016  │\n",
       "│ 1993 │ 0.455231  │ 0.516512 │ 0.700355 │ 0.148825   │ 1.00676    │ -1.3832   │\n",
       "│ 1994 │ 0.138531  │ 0.62339  │ 0.926427 │ 0.138531   │ 0.926427   │ -1.55848  │\n",
       "│ 1995 │ 0.17398   │ 0.579934 │ 0.753914 │ 0.0579934  │ 1.15987    │ -1.33385  │\n",
       "│ 1996 │ 0.39736   │ 0.39736  │ 1.02178  │ 0.0        │ 0.908251   │ -1.13531  │\n",
       "│ 1997 │ 0.315023  │ 0.489115 │ 0.837298 │ 0.140931   │ 1.01139    │ -1.30983  │\n",
       "│ 1998 │ 0.147736  │ 0.320095 │ 1.06698  │ -0.0246227 │ 1.12444    │ -1.28859  │\n",
       "│ 1999 │ 0.122404  │ 0.350891 │ 0.693621 │ 0.179526   │ 1.32196    │ -1.47701  │\n",
       "│ 2000 │ 0.162858  │ 0.65143  │ 0.92286  │ 0.108572   │ 0.92286    │ -1.41143  │"
      ]
     },
     "execution_count": 20,
     "metadata": {},
     "output_type": "execute_result"
    }
   ],
   "source": [
    "df2 = DataFrame(hcat(X, df[:Room]))"
   ]
  },
  {
   "cell_type": "code",
   "execution_count": 23,
   "metadata": {},
   "outputs": [],
   "source": [
    "for i = 1:8\n",
    "    rename!(df2, names(df2)[i] => new_names[i])\n",
    "end"
   ]
  },
  {
   "cell_type": "code",
   "execution_count": 24,
   "metadata": {},
   "outputs": [
    {
     "data": {
      "text/html": [
       "<table class=\"data-frame\"><thead><tr><th></th><th>WiFi1</th><th>WiFi2</th><th>WiFi3</th><th>WiFi4</th><th>WiFi5</th><th>WiFi6</th><th>WiFi7</th><th>Room</th></tr><tr><th></th><th>Float64</th><th>Float64</th><th>Float64</th><th>Float64</th><th>Float64</th><th>Float64</th><th>Float64</th><th>Float64</th></tr></thead><tbody><p>10 rows × 8 columns</p><tr><th>1</th><td>0.478077</td><td>1.28936</td><td>0.782308</td><td>0.275256</td><td>-0.231795</td><td>-1.34731</td><td>-1.2459</td><td>1.0</td></tr><tr><th>2</th><td>0.207303</td><td>1.20495</td><td>0.84217</td><td>0.479389</td><td>-0.0647823</td><td>-1.33451</td><td>-1.33451</td><td>1.0</td></tr><tr><th>3</th><td>0.708444</td><td>0.98395</td><td>0.98395</td><td>0.341103</td><td>-0.485416</td><td>-1.31193</td><td>-1.2201</td><td>1.0</td></tr><tr><th>4</th><td>0.884579</td><td>0.971791</td><td>0.274095</td><td>0.797367</td><td>-0.510813</td><td>-1.64457</td><td>-0.772449</td><td>1.0</td></tr><tr><th>5</th><td>0.739762</td><td>0.551459</td><td>1.02222</td><td>0.739762</td><td>-0.578359</td><td>-0.954965</td><td>-1.51987</td><td>1.0</td></tr><tr><th>6</th><td>0.563639</td><td>1.31916</td><td>0.647586</td><td>0.395747</td><td>-0.443716</td><td>-1.45107</td><td>-1.03134</td><td>1.0</td></tr><tr><th>7</th><td>0.605834</td><td>1.00033</td><td>0.605834</td><td>0.408586</td><td>0.211337</td><td>-1.5639</td><td>-1.26802</td><td>1.0</td></tr><tr><th>8</th><td>0.823905</td><td>0.643676</td><td>1.09425</td><td>0.373332</td><td>-0.347585</td><td>-1.51908</td><td>-1.0685</td><td>1.0</td></tr><tr><th>9</th><td>0.465976</td><td>0.919009</td><td>1.00962</td><td>0.647189</td><td>-0.530695</td><td>-1.43676</td><td>-1.07433</td><td>1.0</td></tr><tr><th>10</th><td>0.918708</td><td>1.08152</td><td>0.59309</td><td>0.430281</td><td>-0.546573</td><td>-1.035</td><td>-1.44202</td><td>1.0</td></tr></tbody></table>"
      ],
      "text/latex": [
       "\\begin{tabular}{r|cccccccc}\n",
       "\t& WiFi1 & WiFi2 & WiFi3 & WiFi4 & WiFi5 & WiFi6 & WiFi7 & Room\\\\\n",
       "\t\\hline\n",
       "\t& Float64 & Float64 & Float64 & Float64 & Float64 & Float64 & Float64 & Float64\\\\\n",
       "\t\\hline\n",
       "\t1 & 0.478077 & 1.28936 & 0.782308 & 0.275256 & -0.231795 & -1.34731 & -1.2459 & 1.0 \\\\\n",
       "\t2 & 0.207303 & 1.20495 & 0.84217 & 0.479389 & -0.0647823 & -1.33451 & -1.33451 & 1.0 \\\\\n",
       "\t3 & 0.708444 & 0.98395 & 0.98395 & 0.341103 & -0.485416 & -1.31193 & -1.2201 & 1.0 \\\\\n",
       "\t4 & 0.884579 & 0.971791 & 0.274095 & 0.797367 & -0.510813 & -1.64457 & -0.772449 & 1.0 \\\\\n",
       "\t5 & 0.739762 & 0.551459 & 1.02222 & 0.739762 & -0.578359 & -0.954965 & -1.51987 & 1.0 \\\\\n",
       "\t6 & 0.563639 & 1.31916 & 0.647586 & 0.395747 & -0.443716 & -1.45107 & -1.03134 & 1.0 \\\\\n",
       "\t7 & 0.605834 & 1.00033 & 0.605834 & 0.408586 & 0.211337 & -1.5639 & -1.26802 & 1.0 \\\\\n",
       "\t8 & 0.823905 & 0.643676 & 1.09425 & 0.373332 & -0.347585 & -1.51908 & -1.0685 & 1.0 \\\\\n",
       "\t9 & 0.465976 & 0.919009 & 1.00962 & 0.647189 & -0.530695 & -1.43676 & -1.07433 & 1.0 \\\\\n",
       "\t10 & 0.918708 & 1.08152 & 0.59309 & 0.430281 & -0.546573 & -1.035 & -1.44202 & 1.0 \\\\\n",
       "\\end{tabular}\n"
      ],
      "text/plain": [
       "10×8 DataFrame. Omitted printing of 2 columns\n",
       "│ Row │ WiFi1    │ WiFi2    │ WiFi3    │ WiFi4    │ WiFi5      │ WiFi6     │\n",
       "│     │ \u001b[90mFloat64\u001b[39m  │ \u001b[90mFloat64\u001b[39m  │ \u001b[90mFloat64\u001b[39m  │ \u001b[90mFloat64\u001b[39m  │ \u001b[90mFloat64\u001b[39m    │ \u001b[90mFloat64\u001b[39m   │\n",
       "├─────┼──────────┼──────────┼──────────┼──────────┼────────────┼───────────┤\n",
       "│ 1   │ 0.478077 │ 1.28936  │ 0.782308 │ 0.275256 │ -0.231795  │ -1.34731  │\n",
       "│ 2   │ 0.207303 │ 1.20495  │ 0.84217  │ 0.479389 │ -0.0647823 │ -1.33451  │\n",
       "│ 3   │ 0.708444 │ 0.98395  │ 0.98395  │ 0.341103 │ -0.485416  │ -1.31193  │\n",
       "│ 4   │ 0.884579 │ 0.971791 │ 0.274095 │ 0.797367 │ -0.510813  │ -1.64457  │\n",
       "│ 5   │ 0.739762 │ 0.551459 │ 1.02222  │ 0.739762 │ -0.578359  │ -0.954965 │\n",
       "│ 6   │ 0.563639 │ 1.31916  │ 0.647586 │ 0.395747 │ -0.443716  │ -1.45107  │\n",
       "│ 7   │ 0.605834 │ 1.00033  │ 0.605834 │ 0.408586 │ 0.211337   │ -1.5639   │\n",
       "│ 8   │ 0.823905 │ 0.643676 │ 1.09425  │ 0.373332 │ -0.347585  │ -1.51908  │\n",
       "│ 9   │ 0.465976 │ 0.919009 │ 1.00962  │ 0.647189 │ -0.530695  │ -1.43676  │\n",
       "│ 10  │ 0.918708 │ 1.08152  │ 0.59309  │ 0.430281 │ -0.546573  │ -1.035    │"
      ]
     },
     "execution_count": 24,
     "metadata": {},
     "output_type": "execute_result"
    }
   ],
   "source": [
    "first(df2, 10)"
   ]
  },
  {
   "cell_type": "markdown",
   "metadata": {},
   "source": [
    "Note: the localization dataset is used as an example as it's fairly straight-forward and doesn't require pretty much any data engineering. Feel free to experiment with different datasets, for your predictive analytics projects.\n",
    " "
   ]
  },
  {
   "cell_type": "markdown",
   "metadata": {},
   "source": [
    "# Work the data using Clustering package"
   ]
  },
  {
   "cell_type": "code",
   "execution_count": null,
   "metadata": {},
   "outputs": [],
   "source": [
    "nc = 4; # number of clusters"
   ]
  },
  {
   "cell_type": "code",
   "execution_count": 30,
   "metadata": {},
   "outputs": [
    {
     "data": {
      "text/plain": [
       "(2000, 7)"
      ]
     },
     "execution_count": 30,
     "metadata": {},
     "output_type": "execute_result"
    }
   ],
   "source": [
    "n, m = size(X)"
   ]
  },
  {
   "cell_type": "code",
   "execution_count": null,
   "metadata": {},
   "outputs": [],
   "source": [
    "XX = Array{Float64}(undef, m, n);\n",
    "\n",
    "for i = 1:m\n",
    "    XX[i,:] = X[:,i]\n",
    "end\n",
    "\n",
    "# alternatively, if you use the LinearAlgebra package, you can do the same thing as follows: XX = collect(adjoint(X))"
   ]
  },
  {
   "cell_type": "code",
   "execution_count": null,
   "metadata": {},
   "outputs": [],
   "source": [
    "R = kmeans(XX, nc; maxiter=200, display=:iter) # the second part of the arguments is optional but useful in a demo"
   ]
  },
  {
   "cell_type": "code",
   "execution_count": null,
   "metadata": {},
   "outputs": [],
   "source": [
    "@assert nclusters(R) == nc # although it's pretty obvious from the previous output that the number of clusters is indeed 4, it doesn't hurt to verify it"
   ]
  },
  {
   "cell_type": "code",
   "execution_count": null,
   "metadata": {},
   "outputs": [],
   "source": [
    "a = assignments(R) # assignments (labels) of the various points of the datasets, according to the Kmeans model"
   ]
  },
  {
   "cell_type": "code",
   "execution_count": null,
   "metadata": {},
   "outputs": [],
   "source": [
    "c = counts(R) # Cluster sizes"
   ]
  },
  {
   "cell_type": "code",
   "execution_count": null,
   "metadata": {},
   "outputs": [],
   "source": [
    "M = (R.centers)' # cluster centers (centroids), transposed for easier viewing"
   ]
  },
  {
   "cell_type": "code",
   "execution_count": null,
   "metadata": {},
   "outputs": [],
   "source": [
    "R2 = fuzzy_cmeans(XX, nc, 2, maxiter=200, display=:iter) # 2 is the fuzziness parameter (needs to be > 1)"
   ]
  },
  {
   "cell_type": "code",
   "execution_count": null,
   "metadata": {},
   "outputs": [],
   "source": [
    "M2 = (R2.centers)' # the centroids, transposed for easier viewing"
   ]
  },
  {
   "cell_type": "code",
   "execution_count": null,
   "metadata": {},
   "outputs": [],
   "source": [
    "memberships = R2.weights # how much each data point belongs to each one of the (4) clusters according to Cmeans"
   ]
  },
  {
   "cell_type": "markdown",
   "metadata": {},
   "source": [
    " "
   ]
  },
  {
   "cell_type": "markdown",
   "metadata": {},
   "source": [
    "# Work the data using predictive ML models"
   ]
  },
  {
   "cell_type": "markdown",
   "metadata": {},
   "source": [
    "## Prepare data for ML models"
   ]
  },
  {
   "cell_type": "code",
   "execution_count": 31,
   "metadata": {},
   "outputs": [
    {
     "name": "stderr",
     "output_type": "stream",
     "text": [
      "┌ Warning: `getindex(df::DataFrame, col_inds::Union{AbstractVector, Regex, Not})` is deprecated, use `df[:, col_inds]` instead.\n",
      "│   caller = top-level scope at In[31]:1\n",
      "└ @ Core In[31]:1\n"
     ]
    }
   ],
   "source": [
    "X = df2[1:7];"
   ]
  },
  {
   "cell_type": "code",
   "execution_count": 32,
   "metadata": {},
   "outputs": [],
   "source": [
    "XX = map(Float64, Matrix(X));"
   ]
  },
  {
   "cell_type": "code",
   "execution_count": 33,
   "metadata": {},
   "outputs": [
    {
     "name": "stderr",
     "output_type": "stream",
     "text": [
      "┌ Warning: `getindex(df::DataFrame, col_ind::ColumnIndex)` is deprecated, use `df[!, col_ind]` instead.\n",
      "│   caller = top-level scope at In[33]:1\n",
      "└ @ Core In[33]:1\n"
     ]
    }
   ],
   "source": [
    "y1 = map(string, df[:Room]);"
   ]
  },
  {
   "cell_type": "code",
   "execution_count": 34,
   "metadata": {},
   "outputs": [
    {
     "name": "stderr",
     "output_type": "stream",
     "text": [
      "┌ Warning: `lastindex(df::AbstractDataFrame)` is deprecated, use `ncol(df)` instead.\n",
      "│   caller = top-level scope at In[34]:1\n",
      "└ @ Core In[34]:1\n",
      "┌ Warning: `getindex(df::DataFrame, col_ind::ColumnIndex)` is deprecated, use `df[!, col_ind]` instead.\n",
      "│   caller = top-level scope at In[34]:1\n",
      "└ @ Core In[34]:1\n"
     ]
    }
   ],
   "source": [
    "y2 = df[end];"
   ]
  },
  {
   "cell_type": "code",
   "execution_count": 35,
   "metadata": {},
   "outputs": [
    {
     "data": {
      "text/plain": [
       "([701, 193, 1971, 123, 878, 1423, 1603, 1484, 621, 1253  …  206, 830, 422, 1923, 1164, 1262, 1826, 1528, 262, 638], [790, 1626, 547, 1748, 187, 46, 1444, 171, 1200, 557  …  1941, 109, 1727, 1666, 1434, 446, 1803, 915, 1675, 1910])"
      ]
     },
     "execution_count": 35,
     "metadata": {},
     "output_type": "execute_result"
    }
   ],
   "source": [
    "train, test = partition(1:n, 0.7, true) # 70-30 split of the data"
   ]
  },
  {
   "cell_type": "markdown",
   "metadata": {},
   "source": [
    "## Build and run the ML models"
   ]
  },
  {
   "cell_type": "markdown",
   "metadata": {},
   "source": [
    "### Decision Tree"
   ]
  },
  {
   "cell_type": "code",
   "execution_count": 36,
   "metadata": {},
   "outputs": [],
   "source": [
    "tree = DecisionTreeClassifier(max_depth=3);"
   ]
  },
  {
   "cell_type": "code",
   "execution_count": 37,
   "metadata": {},
   "outputs": [
    {
     "data": {
      "text/plain": [
       "DecisionTreeClassifier\n",
       "max_depth:                3\n",
       "min_samples_leaf:         1\n",
       "min_samples_split:        2\n",
       "min_purity_increase:      0.0\n",
       "pruning_purity_threshold: 1.0\n",
       "n_subfeatures:            0\n",
       "classes:                  [\"1\", \"2\", \"3\", \"4\"]\n",
       "root:                     Decision Tree\n",
       "Leaves: 7\n",
       "Depth:  3"
      ]
     },
     "execution_count": 37,
     "metadata": {},
     "output_type": "execute_result"
    }
   ],
   "source": [
    "DecisionTree.fit!(tree, XX[train,:], y1[train])"
   ]
  },
  {
   "cell_type": "code",
   "execution_count": 38,
   "metadata": {},
   "outputs": [
    {
     "name": "stdout",
     "output_type": "stream",
     "text": [
      "Feature 5, Threshold 0.4224564984399155\n",
      "L-> Feature 2, Threshold 0.7768935529858114\n",
      "    L-> Feature 5, Threshold -0.30513023260694877\n",
      "        L-> 2 : 316/369\n",
      "        R-> 3 : 278/326\n",
      "    R-> Feature 2, Threshold 1.0265212480612247\n",
      "        L-> 1 : 107/128\n",
      "        R-> 1 : 220/220\n",
      "R-> Feature 3, Threshold 0.4511006717139975\n",
      "    L-> Feature 4, Threshold 0.4329713570117495\n",
      "        L-> 4 : 5/5\n",
      "        R-> 1 : 2/3\n",
      "    R-> 4 : 349/349\n"
     ]
    }
   ],
   "source": [
    "print_tree(tree)"
   ]
  },
  {
   "cell_type": "code",
   "execution_count": 39,
   "metadata": {},
   "outputs": [
    {
     "data": {
      "text/plain": [
       "600-element Array{String,1}:\n",
       " \"3\"\n",
       " \"4\"\n",
       " \"2\"\n",
       " \"4\"\n",
       " \"1\"\n",
       " \"1\"\n",
       " \"3\"\n",
       " \"1\"\n",
       " \"1\"\n",
       " \"2\"\n",
       " \"3\"\n",
       " \"4\"\n",
       " \"1\"\n",
       " ⋮\n",
       " \"1\"\n",
       " \"3\"\n",
       " \"4\"\n",
       " \"1\"\n",
       " \"4\"\n",
       " \"4\"\n",
       " \"3\"\n",
       " \"1\"\n",
       " \"4\"\n",
       " \"2\"\n",
       " \"4\"\n",
       " \"4\""
      ]
     },
     "execution_count": 39,
     "metadata": {},
     "output_type": "execute_result"
    }
   ],
   "source": [
    "yhat = DecisionTree.predict(tree, XX[test,:])"
   ]
  },
  {
   "cell_type": "code",
   "execution_count": 40,
   "metadata": {},
   "outputs": [
    {
     "data": {
      "text/plain": [
       "0.9233333333333333"
      ]
     },
     "execution_count": 40,
     "metadata": {},
     "output_type": "execute_result"
    }
   ],
   "source": [
    "sum(yhat .== y1[test]) / length(test)"
   ]
  },
  {
   "cell_type": "code",
   "execution_count": 41,
   "metadata": {},
   "outputs": [
    {
     "data": {
      "text/plain": [
       "5-element Array{Float64,1}:\n",
       " 0.8075\n",
       " 0.9075\n",
       " 0.8975\n",
       " 0.89\n",
       " 0.87"
      ]
     },
     "execution_count": 41,
     "metadata": {},
     "output_type": "execute_result"
    }
   ],
   "source": [
    "accuracy = cross_val_score(tree, XX, y1, cv=5)"
   ]
  },
  {
   "cell_type": "markdown",
   "metadata": {},
   "source": [
    "### Random Forests"
   ]
  },
  {
   "cell_type": "code",
   "execution_count": null,
   "metadata": {},
   "outputs": [],
   "source": [
    "n_subfeatures = 3;\n",
    "n_trees = 10;\n",
    "pst = 0.5; # portion of samples per tree\n",
    "max_depth = 6;\n",
    "n_folds = 5; # number of folds for the K-fold cross-validation later on"
   ]
  },
  {
   "cell_type": "code",
   "execution_count": null,
   "metadata": {},
   "outputs": [],
   "source": [
    "forest1 = build_forest(y1[train], XX[train,:], n_subfeatures, n_trees, pst, max_depth);"
   ]
  },
  {
   "cell_type": "code",
   "execution_count": null,
   "metadata": {},
   "outputs": [],
   "source": [
    "yhat = apply_forest(forest1, XX[test,:])"
   ]
  },
  {
   "cell_type": "code",
   "execution_count": null,
   "metadata": {},
   "outputs": [],
   "source": [
    "scores = apply_forest_proba(forest1, XX[test,:], map(string, 1:4)) # map(string, 1:4) => [\"1\", \"2\", \"3\", \"4\"] but it's more elegant and less risky"
   ]
  },
  {
   "cell_type": "code",
   "execution_count": null,
   "metadata": {},
   "outputs": [],
   "source": [
    "accuracy = nfoldCV_forest(y1, XX, n_folds, n_subfeatures)"
   ]
  },
  {
   "cell_type": "code",
   "execution_count": null,
   "metadata": {},
   "outputs": [],
   "source": [
    "forest2 = build_forest(y2[train], XX[train,:], 2, 10, 0.5, 6);"
   ]
  },
  {
   "cell_type": "code",
   "execution_count": null,
   "metadata": {},
   "outputs": [],
   "source": [
    "apply_forest(forest2, XX[test,:])"
   ]
  },
  {
   "cell_type": "code",
   "execution_count": null,
   "metadata": {},
   "outputs": [],
   "source": [
    "accuracy = nfoldCV_forest(y2, XX, n_folds, n_subfeatures)"
   ]
  },
  {
   "cell_type": "code",
   "execution_count": null,
   "metadata": {},
   "outputs": [],
   "source": [
    "ni = 10 # number of iterations for boosted stumps"
   ]
  },
  {
   "cell_type": "code",
   "execution_count": null,
   "metadata": {},
   "outputs": [],
   "source": [
    "model, coeffs = build_adaboost_stumps(y1[train], XX[train,:], ni)"
   ]
  },
  {
   "cell_type": "code",
   "execution_count": null,
   "metadata": {},
   "outputs": [],
   "source": [
    "apply_adaboost_stumps(model, coeffs, XX[test,:])"
   ]
  },
  {
   "cell_type": "code",
   "execution_count": null,
   "metadata": {},
   "outputs": [],
   "source": [
    "apply_adaboost_stumps_proba(model, coeffs, XX[test,:], map(string, 1:4))"
   ]
  },
  {
   "cell_type": "code",
   "execution_count": null,
   "metadata": {},
   "outputs": [],
   "source": [
    "accuracy = nfoldCV_stumps(y1, XX, n_folds, ni)"
   ]
  },
  {
   "cell_type": "markdown",
   "metadata": {},
   "source": [
    "If this isn't an overfit model, I don't know what is!\n",
    " "
   ]
  },
  {
   "cell_type": "markdown",
   "metadata": {},
   "source": [
    "# ML utilities packages"
   ]
  },
  {
   "cell_type": "markdown",
   "metadata": {},
   "source": [
    "## MLBase functions"
   ]
  },
  {
   "cell_type": "markdown",
   "metadata": {},
   "source": [
    "For the love of God, don't bother with the label functions of this package as they are a nightmare to figure out and do something useful with them! Fortunately, there is the MLLabelsUtils package for this (see next section)."
   ]
  },
  {
   "cell_type": "markdown",
   "metadata": {},
   "source": [
    "### Preprocessing target and prediction variables"
   ]
  },
  {
   "cell_type": "code",
   "execution_count": null,
   "metadata": {},
   "outputs": [],
   "source": [
    "pred = map(x -> parse(Int64, x), yhat); # prediction of RF classifier"
   ]
  },
  {
   "cell_type": "code",
   "execution_count": null,
   "metadata": {},
   "outputs": [],
   "source": [
    "gt = map(x -> parse(Int64, x), y1[test]); # ground truth for classification"
   ]
  },
  {
   "cell_type": "code",
   "execution_count": null,
   "metadata": {},
   "outputs": [],
   "source": [
    "conf = maximum(scores, dims=2)[:]; # confidence scores for RF classifier"
   ]
  },
  {
   "cell_type": "code",
   "execution_count": null,
   "metadata": {},
   "outputs": [],
   "source": [
    "k = length(unique(gt)); # number of classes"
   ]
  },
  {
   "cell_type": "markdown",
   "metadata": {},
   "source": [
    "### Performance evaluation functions for classification"
   ]
  },
  {
   "cell_type": "code",
   "execution_count": null,
   "metadata": {},
   "outputs": [],
   "source": [
    "correctrate(gt, pred) # accuracy rate"
   ]
  },
  {
   "cell_type": "code",
   "execution_count": null,
   "metadata": {},
   "outputs": [],
   "source": [
    "confusmat(k, gt, pred) # confusion matrix for the RF classifier"
   ]
  },
  {
   "cell_type": "code",
   "execution_count": null,
   "metadata": {},
   "outputs": [],
   "source": [
    "ROC =  roc(gt, conf) # Receiver Operator Characteristic data (for building an ROC curve) for RFC"
   ]
  },
  {
   "cell_type": "code",
   "execution_count": null,
   "metadata": {},
   "outputs": [],
   "source": [
    "r = ROC[50] # a particular instance of the ROC data array"
   ]
  },
  {
   "cell_type": "code",
   "execution_count": null,
   "metadata": {},
   "outputs": [],
   "source": [
    "precision(r)"
   ]
  },
  {
   "cell_type": "code",
   "execution_count": null,
   "metadata": {},
   "outputs": [],
   "source": [
    "recall(r)"
   ]
  },
  {
   "cell_type": "code",
   "execution_count": null,
   "metadata": {},
   "outputs": [],
   "source": [
    "f1score(r)"
   ]
  },
  {
   "cell_type": "markdown",
   "metadata": {},
   "source": [
    "### Crossvalidation functions"
   ]
  },
  {
   "cell_type": "code",
   "execution_count": null,
   "metadata": {},
   "outputs": [],
   "source": [
    "n = length(y1) # total number of data points\n",
    "k = round(Int64, 0.3*n) # size of a sample for test set\n",
    "sn = 5 # number of samples"
   ]
  },
  {
   "cell_type": "code",
   "execution_count": null,
   "metadata": {},
   "outputs": [],
   "source": [
    "Kfold(n, k)"
   ]
  },
  {
   "cell_type": "code",
   "execution_count": null,
   "metadata": {},
   "outputs": [],
   "source": [
    "LOOCV(n)"
   ]
  },
  {
   "cell_type": "code",
   "execution_count": null,
   "metadata": {},
   "outputs": [],
   "source": [
    "RandomSub(n, sn, k)"
   ]
  },
  {
   "cell_type": "markdown",
   "metadata": {},
   "source": [
    "## MLLabelsUtils functions"
   ]
  },
  {
   "cell_type": "code",
   "execution_count": null,
   "metadata": {},
   "outputs": [],
   "source": [
    "y1[rand(1:n, 20)] # 20 random labels just to remind ourselves of what the classification target variable is like"
   ]
  },
  {
   "cell_type": "code",
   "execution_count": null,
   "metadata": {},
   "outputs": [],
   "source": [
    "labelenc(y1)"
   ]
  },
  {
   "cell_type": "code",
   "execution_count": null,
   "metadata": {},
   "outputs": [],
   "source": [
    "islabelenc(y1, LabelEnc.ZeroOne)"
   ]
  },
  {
   "cell_type": "code",
   "execution_count": null,
   "metadata": {},
   "outputs": [],
   "source": [
    "convertlabel([:Room1,:Room2,:Room3,:Room4], y1)"
   ]
  },
  {
   "cell_type": "code",
   "execution_count": null,
   "metadata": {},
   "outputs": [],
   "source": [
    "convertlabel(LabelEnc.Indices{Int}, y1) "
   ]
  },
  {
   "cell_type": "code",
   "execution_count": null,
   "metadata": {},
   "outputs": [],
   "source": [
    "convertlabel(LabelEnc.OneOfK{Bool}, y1)"
   ]
  },
  {
   "cell_type": "code",
   "execution_count": null,
   "metadata": {},
   "outputs": [],
   "source": [
    "convertlabel(LabelEnc.OneOfK{Float64}, y1)"
   ]
  },
  {
   "cell_type": "code",
   "execution_count": null,
   "metadata": {},
   "outputs": [],
   "source": [
    "convertlabel(LabelEnc.TrueFalse, y1, LabelEnc.OneVsRest(\"1\"))"
   ]
  },
  {
   "cell_type": "code",
   "execution_count": null,
   "metadata": {},
   "outputs": [],
   "source": [
    "scores[1:10,:] # confidence scores for the RF classifier"
   ]
  },
  {
   "cell_type": "code",
   "execution_count": null,
   "metadata": {},
   "outputs": [],
   "source": [
    "MLLabelUtils.classify(scores[1:10,:]', LabelEnc.OneOfK) # note: the scores are transposed using the ' operator"
   ]
  },
  {
   "cell_type": "markdown",
   "metadata": {},
   "source": [
    "# Make Use of the \"Other\" Packages for Some Cool Plots"
   ]
  },
  {
   "cell_type": "markdown",
   "metadata": {},
   "source": [
    "## Distances package"
   ]
  },
  {
   "cell_type": "code",
   "execution_count": null,
   "metadata": {},
   "outputs": [],
   "source": [
    "D = [Euclidean(), Cityblock(), Jaccard(), CosineDist(), CorrDist()];"
   ]
  },
  {
   "cell_type": "code",
   "execution_count": null,
   "metadata": {},
   "outputs": [],
   "source": [
    "y = map(Float64, y2);"
   ]
  },
  {
   "cell_type": "code",
   "execution_count": null,
   "metadata": {},
   "outputs": [],
   "source": [
    "for dist in D\n",
    "    println(Distances.evaluate(dist, X[:,1], y2))\n",
    "end"
   ]
  },
  {
   "cell_type": "code",
   "execution_count": null,
   "metadata": {},
   "outputs": [],
   "source": [
    "CosineDist()(X[:,1], y2)"
   ]
  },
  {
   "cell_type": "code",
   "execution_count": null,
   "metadata": {},
   "outputs": [],
   "source": [
    "D = pairwise(Jaccard(), XX, dims=2)"
   ]
  },
  {
   "cell_type": "markdown",
   "metadata": {},
   "source": [
    "Note that the pairwise function works only with matrices, hence the use of XX here instead of X (X is a dataframe)"
   ]
  },
  {
   "cell_type": "markdown",
   "metadata": {},
   "source": [
    "## Gadfly package"
   ]
  },
  {
   "cell_type": "code",
   "execution_count": null,
   "metadata": {},
   "outputs": [],
   "source": [
    "plot(df, x = :WiFi1, y = :RegressionTarget)"
   ]
  },
  {
   "cell_type": "markdown",
   "metadata": {},
   "source": [
    "Clearly there is a trend here, showing that the RegressionTarget variable is related to the WiFi1 variable"
   ]
  },
  {
   "cell_type": "code",
   "execution_count": null,
   "metadata": {},
   "outputs": [],
   "source": [
    "plot(df2, x = :WiFi1, y = :WiFi2, color = :Room)"
   ]
  },
  {
   "cell_type": "code",
   "execution_count": null,
   "metadata": {},
   "outputs": [],
   "source": [
    "plot(df3, x = :x1, y = :x2, color = :x3)"
   ]
  },
  {
   "cell_type": "code",
   "execution_count": null,
   "metadata": {},
   "outputs": [],
   "source": [
    "plot(df2, x = \"WiFi1\", Geom.histogram)"
   ]
  },
  {
   "cell_type": "code",
   "execution_count": null,
   "metadata": {},
   "outputs": [],
   "source": [
    "plot(df2, x = \"WiFi1\", Geom.histogram(bincount=30))"
   ]
  },
  {
   "cell_type": "code",
   "execution_count": null,
   "metadata": {},
   "outputs": [],
   "source": [
    "plot(df2, x=:WiFi1, y=:WiFi2, Geom.histogram2d(xbincount=40, ybincount=40))"
   ]
  },
  {
   "cell_type": "code",
   "execution_count": null,
   "metadata": {},
   "outputs": [],
   "source": [
    "spy(D) # heatmap of the Jaccard distance matrix from a previous section"
   ]
  },
  {
   "cell_type": "markdown",
   "metadata": {},
   "source": [
    "# Sandbox"
   ]
  },
  {
   "cell_type": "markdown",
   "metadata": {},
   "source": [
    "A place for you to experiment with the above material, without making a mess of the whole notebook or disrupt its flow. It's much easier to maintain this section than keep track of various copies of this notebook."
   ]
  },
  {
   "cell_type": "code",
   "execution_count": null,
   "metadata": {},
   "outputs": [],
   "source": []
  }
 ],
 "metadata": {
  "kernelspec": {
   "display_name": "Julia 1.5.1",
   "language": "julia",
   "name": "julia-1.5"
  },
  "language_info": {
   "file_extension": ".jl",
   "mimetype": "application/julia",
   "name": "julia",
   "version": "1.5.1"
  }
 },
 "nbformat": 4,
 "nbformat_minor": 2
}
